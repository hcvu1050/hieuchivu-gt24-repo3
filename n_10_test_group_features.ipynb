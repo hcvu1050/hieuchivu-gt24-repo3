{
 "cells": [
  {
   "cell_type": "code",
   "execution_count": 49,
   "metadata": {},
   "outputs": [],
   "source": [
    "import pandas as pd\n",
    "from src.models.model1.recommend import build_new_group_profile\n",
    "from src.data.build_features_3 import build_group_interaction_rate\n",
    "from sklearn.preprocessing import StandardScaler"
   ]
  },
  {
   "cell_type": "code",
   "execution_count": 50,
   "metadata": {},
   "outputs": [],
   "source": [
    "test_data = pd.read_pickle ('data/test/m06c_1_1_test_data.pkl')\n",
    "group_features = pd.read_pickle ('data/processed/model1/processed_group_features.pkl')\n",
    "processed_technique_features = pd.read_pickle ('data/processed/model1/processed_technnique_features.pkl')\n",
    "\n",
    "train_labels =pd.read_pickle ('data/processed/model1/processed_train_labels.pkl')\n",
    "y_cleaned = pd.read_pickle ('data/interim/y_cleaned.pkl')\n"
   ]
  },
  {
   "cell_type": "code",
   "execution_count": 51,
   "metadata": {},
   "outputs": [
    {
     "data": {
      "text/html": [
       "<div>\n",
       "<style scoped>\n",
       "    .dataframe tbody tr th:only-of-type {\n",
       "        vertical-align: middle;\n",
       "    }\n",
       "\n",
       "    .dataframe tbody tr th {\n",
       "        vertical-align: top;\n",
       "    }\n",
       "\n",
       "    .dataframe thead th {\n",
       "        text-align: right;\n",
       "    }\n",
       "</style>\n",
       "<table border=\"1\" class=\"dataframe\">\n",
       "  <thead>\n",
       "    <tr style=\"text-align: right;\">\n",
       "      <th></th>\n",
       "      <th>technique_ID</th>\n",
       "      <th>input_technique_data_sources</th>\n",
       "      <th>input_technique_detection_name</th>\n",
       "      <th>input_technique_mitigation_id</th>\n",
       "      <th>input_technique_platforms</th>\n",
       "      <th>input_technique_software_id</th>\n",
       "      <th>input_technique_tactics</th>\n",
       "      <th>input_technique_description</th>\n",
       "      <th>input_technique_interaction_rate</th>\n",
       "    </tr>\n",
       "  </thead>\n",
       "  <tbody>\n",
       "    <tr>\n",
       "      <th>0</th>\n",
       "      <td>T1548</td>\n",
       "      <td>[command_command_execution, file_file_metadata...</td>\n",
       "      <td>[command_execution, file_metadata, file_modifi...</td>\n",
       "      <td>[m1047, m1038, m1028, m1026, m1022, other]</td>\n",
       "      <td>[linux, windows, macos]</td>\n",
       "      <td>[]</td>\n",
       "      <td>[defense_evasion, privilege_escalation]</td>\n",
       "      <td>[-0.36630338, -0.24036503, -0.36260876, 0.0984...</td>\n",
       "      <td>-0.638444</td>\n",
       "    </tr>\n",
       "    <tr>\n",
       "      <th>1</th>\n",
       "      <td>T1548.002</td>\n",
       "      <td>[command_command_execution, process_process_cr...</td>\n",
       "      <td>[command_execution, process_creation, windows_...</td>\n",
       "      <td>[m1047, m1026, other]</td>\n",
       "      <td>[windows]</td>\n",
       "      <td>[s0584, s0640, s0606, s0570, s1068, s0089, s10...</td>\n",
       "      <td>[defense_evasion, privilege_escalation]</td>\n",
       "      <td>[-0.5305501, -0.43114784, -0.67361057, 0.16222...</td>\n",
       "      <td>0.075537</td>\n",
       "    </tr>\n",
       "    <tr>\n",
       "      <th>2</th>\n",
       "      <td>T1548.004</td>\n",
       "      <td>[process_os_api_execution, process_process_cre...</td>\n",
       "      <td>[os_api_execution, process_creation]</td>\n",
       "      <td>[m1038]</td>\n",
       "      <td>[macos]</td>\n",
       "      <td>[s0402]</td>\n",
       "      <td>[defense_evasion, privilege_escalation]</td>\n",
       "      <td>[-0.57463825, -0.65824693, -0.23797776, -0.254...</td>\n",
       "      <td>-0.638444</td>\n",
       "    </tr>\n",
       "    <tr>\n",
       "      <th>3</th>\n",
       "      <td>T1548.001</td>\n",
       "      <td>[command_command_execution, file_file_metadata...</td>\n",
       "      <td>[command_execution, file_metadata, file_modifi...</td>\n",
       "      <td>[m1028]</td>\n",
       "      <td>[linux, macos]</td>\n",
       "      <td>[other]</td>\n",
       "      <td>[defense_evasion, privilege_escalation]</td>\n",
       "      <td>[-0.7420097, -0.461457, -0.45979652, -0.116038...</td>\n",
       "      <td>-0.638444</td>\n",
       "    </tr>\n",
       "    <tr>\n",
       "      <th>4</th>\n",
       "      <td>T1548.003</td>\n",
       "      <td>[command_command_execution, file_file_modifica...</td>\n",
       "      <td>[command_execution, file_modification, process...</td>\n",
       "      <td>[m1028, m1026, m1022]</td>\n",
       "      <td>[linux, macos]</td>\n",
       "      <td>[s0154, s0279, other]</td>\n",
       "      <td>[defense_evasion, privilege_escalation]</td>\n",
       "      <td>[-0.8037999, -0.6815256, 0.18332177, 0.0635958...</td>\n",
       "      <td>-0.638444</td>\n",
       "    </tr>\n",
       "  </tbody>\n",
       "</table>\n",
       "</div>"
      ],
      "text/plain": [
       "  technique_ID                       input_technique_data_sources  \\\n",
       "0        T1548  [command_command_execution, file_file_metadata...   \n",
       "1    T1548.002  [command_command_execution, process_process_cr...   \n",
       "2    T1548.004  [process_os_api_execution, process_process_cre...   \n",
       "3    T1548.001  [command_command_execution, file_file_metadata...   \n",
       "4    T1548.003  [command_command_execution, file_file_modifica...   \n",
       "\n",
       "                      input_technique_detection_name  \\\n",
       "0  [command_execution, file_metadata, file_modifi...   \n",
       "1  [command_execution, process_creation, windows_...   \n",
       "2               [os_api_execution, process_creation]   \n",
       "3  [command_execution, file_metadata, file_modifi...   \n",
       "4  [command_execution, file_modification, process...   \n",
       "\n",
       "                input_technique_mitigation_id input_technique_platforms  \\\n",
       "0  [m1047, m1038, m1028, m1026, m1022, other]   [linux, windows, macos]   \n",
       "1                       [m1047, m1026, other]                 [windows]   \n",
       "2                                     [m1038]                   [macos]   \n",
       "3                                     [m1028]            [linux, macos]   \n",
       "4                       [m1028, m1026, m1022]            [linux, macos]   \n",
       "\n",
       "                         input_technique_software_id  \\\n",
       "0                                                 []   \n",
       "1  [s0584, s0640, s0606, s0570, s1068, s0089, s10...   \n",
       "2                                            [s0402]   \n",
       "3                                            [other]   \n",
       "4                              [s0154, s0279, other]   \n",
       "\n",
       "                   input_technique_tactics  \\\n",
       "0  [defense_evasion, privilege_escalation]   \n",
       "1  [defense_evasion, privilege_escalation]   \n",
       "2  [defense_evasion, privilege_escalation]   \n",
       "3  [defense_evasion, privilege_escalation]   \n",
       "4  [defense_evasion, privilege_escalation]   \n",
       "\n",
       "                         input_technique_description  \\\n",
       "0  [-0.36630338, -0.24036503, -0.36260876, 0.0984...   \n",
       "1  [-0.5305501, -0.43114784, -0.67361057, 0.16222...   \n",
       "2  [-0.57463825, -0.65824693, -0.23797776, -0.254...   \n",
       "3  [-0.7420097, -0.461457, -0.45979652, -0.116038...   \n",
       "4  [-0.8037999, -0.6815256, 0.18332177, 0.0635958...   \n",
       "\n",
       "   input_technique_interaction_rate  \n",
       "0                         -0.638444  \n",
       "1                          0.075537  \n",
       "2                         -0.638444  \n",
       "3                         -0.638444  \n",
       "4                         -0.638444  "
      ]
     },
     "execution_count": 51,
     "metadata": {},
     "output_type": "execute_result"
    }
   ],
   "source": [
    "processed_technique_features.head()"
   ]
  },
  {
   "cell_type": "code",
   "execution_count": 52,
   "metadata": {},
   "outputs": [
    {
     "data": {
      "text/html": [
       "<style>#sk-container-id-2 {color: black;}#sk-container-id-2 pre{padding: 0;}#sk-container-id-2 div.sk-toggleable {background-color: white;}#sk-container-id-2 label.sk-toggleable__label {cursor: pointer;display: block;width: 100%;margin-bottom: 0;padding: 0.3em;box-sizing: border-box;text-align: center;}#sk-container-id-2 label.sk-toggleable__label-arrow:before {content: \"▸\";float: left;margin-right: 0.25em;color: #696969;}#sk-container-id-2 label.sk-toggleable__label-arrow:hover:before {color: black;}#sk-container-id-2 div.sk-estimator:hover label.sk-toggleable__label-arrow:before {color: black;}#sk-container-id-2 div.sk-toggleable__content {max-height: 0;max-width: 0;overflow: hidden;text-align: left;background-color: #f0f8ff;}#sk-container-id-2 div.sk-toggleable__content pre {margin: 0.2em;color: black;border-radius: 0.25em;background-color: #f0f8ff;}#sk-container-id-2 input.sk-toggleable__control:checked~div.sk-toggleable__content {max-height: 200px;max-width: 100%;overflow: auto;}#sk-container-id-2 input.sk-toggleable__control:checked~label.sk-toggleable__label-arrow:before {content: \"▾\";}#sk-container-id-2 div.sk-estimator input.sk-toggleable__control:checked~label.sk-toggleable__label {background-color: #d4ebff;}#sk-container-id-2 div.sk-label input.sk-toggleable__control:checked~label.sk-toggleable__label {background-color: #d4ebff;}#sk-container-id-2 input.sk-hidden--visually {border: 0;clip: rect(1px 1px 1px 1px);clip: rect(1px, 1px, 1px, 1px);height: 1px;margin: -1px;overflow: hidden;padding: 0;position: absolute;width: 1px;}#sk-container-id-2 div.sk-estimator {font-family: monospace;background-color: #f0f8ff;border: 1px dotted black;border-radius: 0.25em;box-sizing: border-box;margin-bottom: 0.5em;}#sk-container-id-2 div.sk-estimator:hover {background-color: #d4ebff;}#sk-container-id-2 div.sk-parallel-item::after {content: \"\";width: 100%;border-bottom: 1px solid gray;flex-grow: 1;}#sk-container-id-2 div.sk-label:hover label.sk-toggleable__label {background-color: #d4ebff;}#sk-container-id-2 div.sk-serial::before {content: \"\";position: absolute;border-left: 1px solid gray;box-sizing: border-box;top: 0;bottom: 0;left: 50%;z-index: 0;}#sk-container-id-2 div.sk-serial {display: flex;flex-direction: column;align-items: center;background-color: white;padding-right: 0.2em;padding-left: 0.2em;position: relative;}#sk-container-id-2 div.sk-item {position: relative;z-index: 1;}#sk-container-id-2 div.sk-parallel {display: flex;align-items: stretch;justify-content: center;background-color: white;position: relative;}#sk-container-id-2 div.sk-item::before, #sk-container-id-2 div.sk-parallel-item::before {content: \"\";position: absolute;border-left: 1px solid gray;box-sizing: border-box;top: 0;bottom: 0;left: 50%;z-index: -1;}#sk-container-id-2 div.sk-parallel-item {display: flex;flex-direction: column;z-index: 1;position: relative;background-color: white;}#sk-container-id-2 div.sk-parallel-item:first-child::after {align-self: flex-end;width: 50%;}#sk-container-id-2 div.sk-parallel-item:last-child::after {align-self: flex-start;width: 50%;}#sk-container-id-2 div.sk-parallel-item:only-child::after {width: 0;}#sk-container-id-2 div.sk-dashed-wrapped {border: 1px dashed gray;margin: 0 0.4em 0.5em 0.4em;box-sizing: border-box;padding-bottom: 0.4em;background-color: white;}#sk-container-id-2 div.sk-label label {font-family: monospace;font-weight: bold;display: inline-block;line-height: 1.2em;}#sk-container-id-2 div.sk-label-container {text-align: center;}#sk-container-id-2 div.sk-container {/* jupyter's `normalize.less` sets `[hidden] { display: none; }` but bootstrap.min.css set `[hidden] { display: none !important; }` so we also need the `!important` here to be able to override the default hidden behavior on the sphinx rendered scikit-learn.org. See: https://github.com/scikit-learn/scikit-learn/issues/21755 */display: inline-block !important;position: relative;}#sk-container-id-2 div.sk-text-repr-fallback {display: none;}</style><div id=\"sk-container-id-2\" class=\"sk-top-container\"><div class=\"sk-text-repr-fallback\"><pre>StandardScaler()</pre><b>In a Jupyter environment, please rerun this cell to show the HTML representation or trust the notebook. <br />On GitHub, the HTML representation is unable to render, please try loading this page with nbviewer.org.</b></div><div class=\"sk-container\" hidden><div class=\"sk-item\"><div class=\"sk-estimator sk-toggleable\"><input class=\"sk-toggleable__control sk-hidden--visually\" id=\"sk-estimator-id-2\" type=\"checkbox\" checked><label for=\"sk-estimator-id-2\" class=\"sk-toggleable__label sk-toggleable__label-arrow\">StandardScaler</label><div class=\"sk-toggleable__content\"><pre>StandardScaler()</pre></div></div></div></div></div>"
      ],
      "text/plain": [
       "StandardScaler()"
      ]
     },
     "execution_count": 52,
     "metadata": {},
     "output_type": "execute_result"
    }
   ],
   "source": [
    "pos_y = y_cleaned[y_cleaned['label'] == 1]\n",
    "counts = pos_y['group_ID'].value_counts().values.reshape (-1,1)\n",
    "scaler = StandardScaler()\n",
    "scaler.fit (counts)"
   ]
  },
  {
   "cell_type": "markdown",
   "metadata": {},
   "source": [
    "1. Interaction rate: calculate from normalized train group interaction."
   ]
  },
  {
   "cell_type": "code",
   "execution_count": 53,
   "metadata": {},
   "outputs": [
    {
     "data": {
      "text/plain": [
       "-1.257584368332994"
      ]
     },
     "execution_count": 53,
     "metadata": {},
     "output_type": "execute_result"
    }
   ],
   "source": [
    "pos_y = train_labels[train_labels['label'] == 1.0]\n",
    "train_interaction_count = pos_y['group_ID'].value_counts()\n",
    "scaler = StandardScaler ()\n",
    "scaler.fit (train_interaction_count.values.reshape (-1,1))\n",
    "\n",
    "group_interaction_count = 10\n",
    "group_interaction_rate = scaler.transform([[group_interaction_count]])\n",
    "group_interaction_rate = group_interaction_rate[0][0]\n",
    "group_interaction_rate\n"
   ]
  },
  {
   "cell_type": "markdown",
   "metadata": {},
   "source": [
    "2. Interacted tactics"
   ]
  },
  {
   "cell_type": "code",
   "execution_count": 54,
   "metadata": {},
   "outputs": [],
   "source": [
    "detected_techniques = ['T1078', 'T1047', 'T1059', 'T1059.001']\n",
    "detected_techniques_features = processed_technique_features[processed_technique_features['technique_ID'].isin (detected_techniques)]\n",
    "group_interacted_tactics = list (detected_techniques_features['input_technique_tactics'].explode().values)"
   ]
  },
  {
   "cell_type": "markdown",
   "metadata": {},
   "source": [
    "3. Interacted software"
   ]
  },
  {
   "cell_type": "code",
   "execution_count": 55,
   "metadata": {},
   "outputs": [
    {
     "name": "stdout",
     "output_type": "stream",
     "text": [
      "198\n"
     ]
    }
   ],
   "source": [
    "detected_techniques = ['T1078', 'T1047', 'T1059', 'T1059.001', 'T1059.003']\n",
    "detected_techniques_features = processed_technique_features[processed_technique_features['technique_ID'].isin (detected_techniques)]\n",
    "group_software = list (detected_techniques_features['input_technique_software_id'].explode().unique())\n",
    "print (len(group_software))"
   ]
  },
  {
   "cell_type": "code",
   "execution_count": 90,
   "metadata": {},
   "outputs": [
    {
     "data": {
      "text/html": [
       "<div>\n",
       "<style scoped>\n",
       "    .dataframe tbody tr th:only-of-type {\n",
       "        vertical-align: middle;\n",
       "    }\n",
       "\n",
       "    .dataframe tbody tr th {\n",
       "        vertical-align: top;\n",
       "    }\n",
       "\n",
       "    .dataframe thead th {\n",
       "        text-align: right;\n",
       "    }\n",
       "</style>\n",
       "<table border=\"1\" class=\"dataframe\">\n",
       "  <thead>\n",
       "    <tr style=\"text-align: right;\">\n",
       "      <th></th>\n",
       "      <th>group_ID</th>\n",
       "      <th>input_group_software_id</th>\n",
       "      <th>input_group_tactics</th>\n",
       "      <th>input_group_description</th>\n",
       "      <th>input_group_interaction_rate</th>\n",
       "    </tr>\n",
       "  </thead>\n",
       "  <tbody>\n",
       "    <tr>\n",
       "      <th>0</th>\n",
       "      <td>yah</td>\n",
       "      <td>[s0234, s0023, s0334, s0695, s0363, s0434, s04...</td>\n",
       "      <td>[execution, execution, execution, defense_evas...</td>\n",
       "      <td>[-0.4318556785583496, -0.12413875013589859, -0...</td>\n",
       "      <td>-1.342618</td>\n",
       "    </tr>\n",
       "  </tbody>\n",
       "</table>\n",
       "</div>"
      ],
      "text/plain": [
       "  group_ID                            input_group_software_id  \\\n",
       "0      yah  [s0234, s0023, s0334, s0695, s0363, s0434, s04...   \n",
       "\n",
       "                                 input_group_tactics  \\\n",
       "0  [execution, execution, execution, defense_evas...   \n",
       "\n",
       "                             input_group_description  \\\n",
       "0  [-0.4318556785583496, -0.12413875013589859, -0...   \n",
       "\n",
       "   input_group_interaction_rate  \n",
       "0                     -1.342618  "
      ]
     },
     "execution_count": 90,
     "metadata": {},
     "output_type": "execute_result"
    }
   ],
   "source": [
    "def build_detected_group_profile (processed_group_features: pd.DataFrame(),\n",
    "                                  processed_technique_features: pd.DataFrame(), \n",
    "                                  detected_techniques: list , threshold: int,\n",
    "                                  train_labels: pd.DataFrame(), \n",
    "                                  group_id: str, settings: dict):\n",
    "    \"\"\"Build features for a detected group, including:\n",
    "    1. Description embedding: equals to the avg pooling of the processed groups' embeddings\\n\n",
    "    2. Interaction rate: equals to the avg or min interaction rate of the interacted groups\\n\n",
    "    3. Interacted tactics: average tactic interaction rate for each tactic from the interacted groups\\n\n",
    "    4. Used software: the N most commonly used software, where N is the number of average software used by interacted groups\\n\n",
    "    Args:\n",
    "        processed_group_features (pd.DataFrame): _description_\n",
    "        label_df (pd.DataFrame): _description_\n",
    "        new_group_id (str): _description_\n",
    "        settings (dict): _description_\n",
    "\n",
    "    Returns:\n",
    "        _type_: _description_\n",
    "    \"\"\"\n",
    "    group_interaction_count = len(detected_techniques)\n",
    "    \n",
    "    pos_y = train_labels[train_labels['label'] == 1]\n",
    "    train_interaction_count = pos_y['group_ID'].value_counts()\n",
    "    scaler = StandardScaler()\n",
    "    scaler.fit (train_interaction_count.values.reshape (-1,1))\n",
    "    \n",
    "    interacted_groups = list(pos_y['group_ID'].unique())\n",
    "    interacted_group_features = processed_group_features [processed_group_features['group_ID'].isin(interacted_groups)]    \n",
    "    ### 👉 group description equals to to average pooling of all group description embeddings this value is kept the same no matter the threshold\n",
    "    group_description = interacted_group_features['input_group_description'].apply(pd.Series).mean().tolist()\n",
    "    \n",
    "    group_interaction_rate = 0\n",
    "    group_interacted_tactics = [[]]\n",
    "    group_software =  [[]]\n",
    "    \n",
    "    ### 👉 Assign initial values if group has interaction count less than threshold \n",
    "    if group_interaction_count < threshold:\n",
    "        if settings['interaction'] == 'min':\n",
    "            group_interaction_rate = (interacted_group_features['input_group_interaction_rate']).min()\n",
    "        elif settings['interaction'] == 'avg':\n",
    "            group_interaction_rate = (interacted_group_features['input_group_interaction_rate']).mean()\n",
    "        \n",
    "        avg_tactic_rate = interacted_group_features['input_group_tactics'].explode().value_counts()/len(interacted_groups)\n",
    "        rounded_avg_tactic_rate = avg_tactic_rate.round().astype(int)\n",
    "        group_interacted_tactics = [[idx for idx, val in rounded_avg_tactic_rate.items() for _ in range(val)]]\n",
    "    \n",
    "        avg_software_interaction_rate = interacted_group_features['input_group_software_id'].apply(len).mean().round().astype(int)\n",
    "        most_frequent_software = interacted_group_features['input_group_software_id'].explode().value_counts().sort_values(ascending = False)\n",
    "        most_frequent_software = list(most_frequent_software.index)\n",
    "        most_frequent_software.remove('other')\n",
    "        most_frequent_software.remove('')\n",
    "        group_software = [most_frequent_software[0:avg_software_interaction_rate]]\n",
    "    \n",
    "    elif group_interaction_count >= threshold:\n",
    "        group_interaction_rate = scaler.transform([[group_interaction_count]])\n",
    "        group_interaction_rate = group_interaction_rate[0][0]\n",
    "        \n",
    "        detected_techniques_features = processed_technique_features[processed_technique_features['technique_ID'].isin (detected_techniques)]\n",
    "        \n",
    "        group_interacted_tactics = [list (detected_techniques_features['input_technique_tactics'].explode().values)]\n",
    "        group_software = [list (detected_techniques_features['input_technique_software_id'].explode().unique())]\n",
    "    \n",
    "    values = {\n",
    "        'group_ID': group_id,\n",
    "        'input_group_software_id': group_software,\n",
    "        'input_group_tactics': group_interacted_tactics,\n",
    "        'input_group_description': [group_description],\n",
    "        'input_group_interaction_rate': group_interaction_rate,\n",
    "        \n",
    "    }\n",
    "    detected_group_features = pd.DataFrame(values, index=[0])\n",
    "    return detected_group_features\n",
    "    # return values\n",
    "\n",
    "\n",
    "detected_techniques = ['T1078', 'T1047', 'T1059', 'T1059.001', 'T1059.003', 'T1059.001', 'T1059.003']\n",
    "settings = {\n",
    "    'interaction' : 'min'\n",
    "}\n",
    "res = build_detected_group_profile (processed_group_features= group_features,\n",
    "                                    processed_technique_features = processed_technique_features ,\n",
    "                                    detected_techniques= detected_techniques[0:6], threshold=5,train_labels= train_labels,group_id='yah', settings=settings)\n",
    "res"
   ]
  }
 ],
 "metadata": {
  "kernelspec": {
   "display_name": "hcv-gt24-env",
   "language": "python",
   "name": "python3"
  },
  "language_info": {
   "codemirror_mode": {
    "name": "ipython",
    "version": 3
   },
   "file_extension": ".py",
   "mimetype": "text/x-python",
   "name": "python",
   "nbconvert_exporter": "python",
   "pygments_lexer": "ipython3",
   "version": "3.11.4"
  }
 },
 "nbformat": 4,
 "nbformat_minor": 2
}
