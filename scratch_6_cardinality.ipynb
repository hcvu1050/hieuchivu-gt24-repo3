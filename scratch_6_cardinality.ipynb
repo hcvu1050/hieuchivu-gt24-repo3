{
 "cells": [
  {
   "cell_type": "code",
   "execution_count": 1,
   "metadata": {},
   "outputs": [
    {
     "data": {
      "text/plain": [
       "['a', 'b', 'c', 'other', 'other', 'other']"
      ]
     },
     "execution_count": 1,
     "metadata": {},
     "output_type": "execute_result"
    }
   ],
   "source": [
    "l = ['a', 'b', 'c', 'd', 'e', 'f']\n",
    "selected = ['a', 'b', 'c']\n",
    "l2 = [i if i in selected else 'other' for i in l]\n",
    "l2"
   ]
  }
 ],
 "metadata": {
  "kernelspec": {
   "display_name": "hcv-gt24-env",
   "language": "python",
   "name": "python3"
  },
  "language_info": {
   "codemirror_mode": {
    "name": "ipython",
    "version": 3
   },
   "file_extension": ".py",
   "mimetype": "text/x-python",
   "name": "python",
   "nbconvert_exporter": "python",
   "pygments_lexer": "ipython3",
   "version": "3.11.4"
  }
 },
 "nbformat": 4,
 "nbformat_minor": 2
}
