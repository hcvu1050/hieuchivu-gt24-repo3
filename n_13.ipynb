{
 "cells": [
  {
   "cell_type": "code",
   "execution_count": 1,
   "metadata": {},
   "outputs": [],
   "source": [
    "import sys, os, argparse, yaml, time\n",
    "sys.path.append(\"..\")\n",
    "ROOT_FOLDER = os.path.dirname(os.path.dirname(os.path.abspath('__file__')))\n",
    "CONFIG_FOLDER = os.path.join (ROOT_FOLDER, 'configs')\n",
    "PROCESSED_DATA_FOLDER = os.path.join (ROOT_FOLDER, 'data/processed/model1')\n",
    "TRAINED_MODEL_FOLDER  = os.path.join (ROOT_FOLDER, 'trained_models/model1')\n",
    "LOOKUP_TABLE_FOLDER = os.path.join (ROOT_FOLDER, 'data/lookup_tables')\n",
    "CISA_REPORT_FOLDER = os.path.join (ROOT_FOLDER, 'data/test')\n",
    "REPORT_FOLDER = os.path.join (ROOT_FOLDER, 'reports/model1/results_eval')"
   ]
  }
 ],
 "metadata": {
  "kernelspec": {
   "display_name": "hcv-gt24-env",
   "language": "python",
   "name": "python3"
  },
  "language_info": {
   "codemirror_mode": {
    "name": "ipython",
    "version": 3
   },
   "file_extension": ".py",
   "mimetype": "text/x-python",
   "name": "python",
   "nbconvert_exporter": "python",
   "pygments_lexer": "ipython3",
   "version": "3.11.4"
  }
 },
 "nbformat": 4,
 "nbformat_minor": 2
}
