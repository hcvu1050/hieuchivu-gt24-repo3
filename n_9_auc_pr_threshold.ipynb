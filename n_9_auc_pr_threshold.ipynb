{
 "cells": [
  {
   "cell_type": "code",
   "execution_count": 1,
   "metadata": {},
   "outputs": [],
   "source": [
    "import tensorflow as tf\n",
    "import numpy as np"
   ]
  },
  {
   "cell_type": "code",
   "execution_count": 2,
   "metadata": {},
   "outputs": [],
   "source": [
    "model = tf.keras.models.load_model ('trained_models/model1/m06c_1_1')\n",
    "cv_dataset = tf.data.Dataset.load ('data/processed/model1/cv_dataset')\n",
    "# batch_cv_dataset =cv_dataset.batch(32)\n",
    "# val_pred = model.predict (batch_cv_dataset).flatten()\n",
    "# val_true = np.array ([label for _, label in cv_dataset])"
   ]
  },
  {
   "cell_type": "code",
   "execution_count": 3,
   "metadata": {},
   "outputs": [
    {
     "name": "stdout",
     "output_type": "stream",
     "text": [
      "204/204 [==============================] - 2s 9ms/step\n"
     ]
    },
    {
     "data": {
      "text/plain": [
       "{'best_threshold': 0.581238,\n",
       " 'best_f1_score': 0.43740795282234274,\n",
       " 'auc_pr': 0.4073122}"
      ]
     },
     "execution_count": 3,
     "metadata": {},
     "output_type": "execute_result"
    }
   ],
   "source": [
    "from src.models.model1.predict import get_metrics\n",
    "\n",
    "get_metrics (model=model, cv_dataset=cv_dataset)\n"
   ]
  },
  {
   "cell_type": "code",
   "execution_count": 45,
   "metadata": {},
   "outputs": [
    {
     "name": "stdout",
     "output_type": "stream",
     "text": [
      "0.4073122\n"
     ]
    }
   ],
   "source": [
    "m = tf.keras.metrics.AUC(num_thresholds=200, curve = 'PR', from_logits = True)\n",
    "m.update_state (val_true, val_pred, sample_weight = None)\n",
    "print (m.result().numpy())\n",
    "m.reset_state()"
   ]
  },
  {
   "cell_type": "code",
   "execution_count": 46,
   "metadata": {},
   "outputs": [],
   "source": [
    "val_pred_prob = tf.keras.activations.sigmoid(\n",
    "    val_pred\n",
    ")\n",
    "val_pred_prob = val_pred_prob.numpy()"
   ]
  },
  {
   "cell_type": "code",
   "execution_count": 49,
   "metadata": {},
   "outputs": [
    {
     "name": "stdout",
     "output_type": "stream",
     "text": [
      "Best Threshold: 0.5812379717826843\n",
      "Best F1 Score: 0.43740795282234274\n"
     ]
    }
   ],
   "source": [
    "from sklearn.metrics import precision_recall_curve, average_precision_score\n",
    "\n",
    "precisions, recalls, thresholds = precision_recall_curve(val_true, val_pred_prob)\n",
    "f1_scores = 2 * (precisions * recalls) / (precisions + recalls + 1e-10)\n",
    "best_threshold_index = np.argmax(f1_scores)\n",
    "\n",
    "best_threshold = thresholds[best_threshold_index]\n",
    "best_f1_score = f1_scores[best_threshold_index]\n",
    "\n",
    "print(f\"Best Threshold: {best_threshold}\")\n",
    "print(f\"Best F1 Score: {best_f1_score}\")"
   ]
  },
  {
   "cell_type": "code",
   "execution_count": 52,
   "metadata": {},
   "outputs": [
    {
     "data": {
      "text/plain": [
       "0.4077131368043417"
      ]
     },
     "execution_count": 52,
     "metadata": {},
     "output_type": "execute_result"
    }
   ],
   "source": [
    "auc_pr_value = average_precision_score(val_true, val_pred_prob)\n",
    "auc_pr_value"
   ]
  }
 ],
 "metadata": {
  "kernelspec": {
   "display_name": "hcv-gt24-env",
   "language": "python",
   "name": "python3"
  },
  "language_info": {
   "codemirror_mode": {
    "name": "ipython",
    "version": 3
   },
   "file_extension": ".py",
   "mimetype": "text/x-python",
   "name": "python",
   "nbconvert_exporter": "python",
   "pygments_lexer": "ipython3",
   "version": "3.11.4"
  }
 },
 "nbformat": 4,
 "nbformat_minor": 2
}
