{
 "cells": [
  {
   "cell_type": "code",
   "execution_count": 1,
   "metadata": {},
   "outputs": [],
   "source": [
    "import pandas as pd"
   ]
  },
  {
   "cell_type": "code",
   "execution_count": 2,
   "metadata": {},
   "outputs": [],
   "source": [
    "train_hist = pd.read_csv ('reports/model1/train_loss/model1_single_train/m06d_1_2_a.csv')"
   ]
  },
  {
   "cell_type": "code",
   "execution_count": 3,
   "metadata": {},
   "outputs": [
    {
     "data": {
      "text/html": [
       "<div>\n",
       "<style scoped>\n",
       "    .dataframe tbody tr th:only-of-type {\n",
       "        vertical-align: middle;\n",
       "    }\n",
       "\n",
       "    .dataframe tbody tr th {\n",
       "        vertical-align: top;\n",
       "    }\n",
       "\n",
       "    .dataframe thead th {\n",
       "        text-align: right;\n",
       "    }\n",
       "</style>\n",
       "<table border=\"1\" class=\"dataframe\">\n",
       "  <thead>\n",
       "    <tr style=\"text-align: right;\">\n",
       "      <th></th>\n",
       "      <th>loss</th>\n",
       "      <th>auc-pr</th>\n",
       "      <th>val_loss</th>\n",
       "      <th>val_auc-pr</th>\n",
       "    </tr>\n",
       "  </thead>\n",
       "  <tbody>\n",
       "    <tr>\n",
       "      <th>0</th>\n",
       "      <td>0.311665</td>\n",
       "      <td>0.238658</td>\n",
       "      <td>0.326119</td>\n",
       "      <td>0.067407</td>\n",
       "    </tr>\n",
       "    <tr>\n",
       "      <th>1</th>\n",
       "      <td>0.301565</td>\n",
       "      <td>0.252176</td>\n",
       "      <td>0.289838</td>\n",
       "      <td>0.074598</td>\n",
       "    </tr>\n",
       "    <tr>\n",
       "      <th>2</th>\n",
       "      <td>0.294929</td>\n",
       "      <td>0.249387</td>\n",
       "      <td>0.251629</td>\n",
       "      <td>0.085791</td>\n",
       "    </tr>\n",
       "    <tr>\n",
       "      <th>3</th>\n",
       "      <td>0.285104</td>\n",
       "      <td>0.264624</td>\n",
       "      <td>0.213534</td>\n",
       "      <td>0.107220</td>\n",
       "    </tr>\n",
       "    <tr>\n",
       "      <th>4</th>\n",
       "      <td>0.278677</td>\n",
       "      <td>0.265002</td>\n",
       "      <td>0.180662</td>\n",
       "      <td>0.131527</td>\n",
       "    </tr>\n",
       "    <tr>\n",
       "      <th>...</th>\n",
       "      <td>...</td>\n",
       "      <td>...</td>\n",
       "      <td>...</td>\n",
       "      <td>...</td>\n",
       "    </tr>\n",
       "    <tr>\n",
       "      <th>139</th>\n",
       "      <td>0.162604</td>\n",
       "      <td>0.575182</td>\n",
       "      <td>0.083677</td>\n",
       "      <td>0.393151</td>\n",
       "    </tr>\n",
       "    <tr>\n",
       "      <th>140</th>\n",
       "      <td>0.162032</td>\n",
       "      <td>0.580020</td>\n",
       "      <td>0.083927</td>\n",
       "      <td>0.392364</td>\n",
       "    </tr>\n",
       "    <tr>\n",
       "      <th>141</th>\n",
       "      <td>0.161862</td>\n",
       "      <td>0.589685</td>\n",
       "      <td>0.084301</td>\n",
       "      <td>0.393084</td>\n",
       "    </tr>\n",
       "    <tr>\n",
       "      <th>142</th>\n",
       "      <td>0.160836</td>\n",
       "      <td>0.588268</td>\n",
       "      <td>0.084313</td>\n",
       "      <td>0.394211</td>\n",
       "    </tr>\n",
       "    <tr>\n",
       "      <th>143</th>\n",
       "      <td>0.162207</td>\n",
       "      <td>0.586850</td>\n",
       "      <td>0.084699</td>\n",
       "      <td>0.393589</td>\n",
       "    </tr>\n",
       "  </tbody>\n",
       "</table>\n",
       "<p>144 rows × 4 columns</p>\n",
       "</div>"
      ],
      "text/plain": [
       "         loss    auc-pr  val_loss  val_auc-pr\n",
       "0    0.311665  0.238658  0.326119    0.067407\n",
       "1    0.301565  0.252176  0.289838    0.074598\n",
       "2    0.294929  0.249387  0.251629    0.085791\n",
       "3    0.285104  0.264624  0.213534    0.107220\n",
       "4    0.278677  0.265002  0.180662    0.131527\n",
       "..        ...       ...       ...         ...\n",
       "139  0.162604  0.575182  0.083677    0.393151\n",
       "140  0.162032  0.580020  0.083927    0.392364\n",
       "141  0.161862  0.589685  0.084301    0.393084\n",
       "142  0.160836  0.588268  0.084313    0.394211\n",
       "143  0.162207  0.586850  0.084699    0.393589\n",
       "\n",
       "[144 rows x 4 columns]"
      ]
     },
     "execution_count": 3,
     "metadata": {},
     "output_type": "execute_result"
    }
   ],
   "source": [
    "train_hist"
   ]
  },
  {
   "cell_type": "code",
   "execution_count": 30,
   "metadata": {},
   "outputs": [
    {
     "data": {
      "text/plain": [
       "<Figure size 1440x432 with 0 Axes>"
      ]
     },
     "metadata": {},
     "output_type": "display_data"
    },
    {
     "data": {
      "image/png": "[encoded data removed]",
      "text/plain": [
       "<Figure size 576x432 with 1 Axes>"
      ]
     },
     "metadata": {
      "needs_background": "light"
     },
     "output_type": "display_data"
    }
   ],
   "source": [
    "best_epoch = train_hist['val_auc-pr'].idxmax()\n",
    "\n",
    "\n",
    "import matplotlib.pyplot as plt\n",
    "plt.figure(figsize=(20, 6))\n",
    "ax = train_hist.plot (y=['auc-pr', 'val_auc-pr'], label = ['train AUC-PR', 'cv AUC-PR'])\n",
    "\n",
    "fig = ax.get_figure()\n",
    "fig.set_size_inches(8, 6)\n",
    "plt.axvline(x=best_epoch, color='r', linestyle='--', label='Early stopping') \n",
    "current_ticks, current_labels = plt.xticks()\n",
    "new_ticks = list(current_ticks) + [best_epoch]\n",
    "new_labels = list(current_labels) + [f'{best_epoch}']\n",
    "\n",
    "plt.xticks(new_ticks, new_labels)\n",
    "plt.gca().get_xticklabels()[-1].set_color('red')\n",
    "plt.xlabel('Epoch')  \n",
    "plt.ylabel('Values') \n",
    "plt.title('Train and Cross-validation AUC-PR across epochs')  # Set plot title\n",
    "plt.legend()\n",
    "plt.show()  # Show the plot"
   ]
  },
  {
   "cell_type": "code",
   "execution_count": 10,
   "metadata": {},
   "outputs": [
    {
     "data": {
      "text/plain": [
       "93"
      ]
     },
     "execution_count": 10,
     "metadata": {},
     "output_type": "execute_result"
    }
   ],
   "source": [
    "best_epoch"
   ]
  }
 ],
 "metadata": {
  "kernelspec": {
   "display_name": "hcv-gt24-env",
   "language": "python",
   "name": "python3"
  },
  "language_info": {
   "codemirror_mode": {
    "name": "ipython",
    "version": 3
   },
   "file_extension": ".py",
   "mimetype": "text/x-python",
   "name": "python",
   "nbconvert_exporter": "python",
   "pygments_lexer": "ipython3",
   "version": "3.11.4"
  }
 },
 "nbformat": 4,
 "nbformat_minor": 2
}
