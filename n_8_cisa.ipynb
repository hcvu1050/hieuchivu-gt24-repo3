{
 "cells": [
  {
   "cell_type": "code",
   "execution_count": 2,
   "metadata": {},
   "outputs": [],
   "source": [
    "import pandas as pd\n",
    "import numpy as np\n",
    "import requests\n",
    "from bs4 import BeautifulSoup\n",
    "import re\n",
    "\n",
    "def extract_cisa_techniques (url: str, sort_mode: str = None, look_up_table: pd.DataFrame() = None):\n",
    "    response = requests.get(url)\n",
    "    filtered_strings = []\n",
    "    if response.status_code == 200:\n",
    "        soup = BeautifulSoup(response.content, 'html.parser')\n",
    "        all_tables = soup.find_all('table')\n",
    "        regex_pattern = re.compile(r'T\\d{4}\\.*\\d*')\n",
    "        for table in all_tables: \n",
    "            matched_elements = list (table.find_all(string=regex_pattern))\n",
    "            if len(matched_elements) >0 and len(filtered_strings)>0: \n",
    "                print ('WARNING: Extracting Techniques from more than one table. Check the url.')\n",
    "                return\n",
    "            if len(matched_elements) >0: filtered_strings.extend(matched_elements)\n",
    "    else:\n",
    "        print('Failed to fetch the webpage.')\n",
    "        return\n",
    "    return filtered_strings"
   ]
  },
  {
   "cell_type": "code",
   "execution_count": 3,
   "metadata": {},
   "outputs": [
    {
     "name": "stdout",
     "output_type": "stream",
     "text": [
      "['T1078', 'T1047', 'T1059', 'T1059.001', 'T1059.003', 'T1059.006', 'T1129', 'T1569', 'T1078', 'T1543', 'T1078', 'T1036.005', 'T1070', 'T1070.004', 'T1078', 'T1497.001', 'T1562.001', 'T1574', 'T1016', 'T1016.001', 'T1033', 'T1049', 'T1057', 'T1082', 'T1083', 'T1497.001', 'T1021.002', 'T1560.001', 'T1039', 'T1074.002', 'T1095', 'T1105', 'T1090', 'T1029', 'T1567.002']\n"
     ]
    }
   ],
   "source": [
    "url = 'https://www.cisa.gov/news-events/cybersecurity-advisories/aa22-277a'  \n",
    "# print(extract_cisa_techniques (url = url, sort_mode= 'earliest', look_up_table= look_up_table))\n",
    "print(extract_cisa_techniques (url = url ))"
   ]
  },
  {
   "cell_type": "code",
   "execution_count": 4,
   "metadata": {},
   "outputs": [],
   "source": [
    "report_codes =  ['aa22-277a','aa22-138b','aa22-174a']\n",
    "group_IDs = []\n",
    "interacted_techniques = []\n",
    "for report_code in report_codes:\n",
    "    url = 'https://www.cisa.gov/news-events/cybersecurity-advisories/' + report_code\n",
    "    group_IDs.append(report_code)\n",
    "    interacted_techniques.append (extract_cisa_techniques (url))\n",
    "data = {\n",
    "    'group_ID': group_IDs,\n",
    "    'interacted_techniques': interacted_techniques\n",
    "}\n",
    "test_data = pd.DataFrame (data=data)"
   ]
  },
  {
   "cell_type": "code",
   "execution_count": 5,
   "metadata": {},
   "outputs": [
    {
     "data": {
      "text/html": [
       "<div>\n",
       "<style scoped>\n",
       "    .dataframe tbody tr th:only-of-type {\n",
       "        vertical-align: middle;\n",
       "    }\n",
       "\n",
       "    .dataframe tbody tr th {\n",
       "        vertical-align: top;\n",
       "    }\n",
       "\n",
       "    .dataframe thead th {\n",
       "        text-align: right;\n",
       "    }\n",
       "</style>\n",
       "<table border=\"1\" class=\"dataframe\">\n",
       "  <thead>\n",
       "    <tr style=\"text-align: right;\">\n",
       "      <th></th>\n",
       "      <th>group_ID</th>\n",
       "      <th>interacted_techniques</th>\n",
       "    </tr>\n",
       "  </thead>\n",
       "  <tbody>\n",
       "    <tr>\n",
       "      <th>0</th>\n",
       "      <td>aa22-277a</td>\n",
       "      <td>[T1078, T1047, T1059, T1059.001, T1059.003, T1...</td>\n",
       "    </tr>\n",
       "    <tr>\n",
       "      <th>1</th>\n",
       "      <td>aa22-138b</td>\n",
       "      <td>[T1588.001, T1059, T1059.004, T1203, T1505.003...</td>\n",
       "    </tr>\n",
       "    <tr>\n",
       "      <th>2</th>\n",
       "      <td>aa22-174a</td>\n",
       "      <td>[T1190, T1059.001, T1053.005, T1505.003, T1036...</td>\n",
       "    </tr>\n",
       "  </tbody>\n",
       "</table>\n",
       "</div>"
      ],
      "text/plain": [
       "    group_ID                              interacted_techniques\n",
       "0  aa22-277a  [T1078, T1047, T1059, T1059.001, T1059.003, T1...\n",
       "1  aa22-138b  [T1588.001, T1059, T1059.004, T1203, T1505.003...\n",
       "2  aa22-174a  [T1190, T1059.001, T1053.005, T1505.003, T1036..."
      ]
     },
     "execution_count": 5,
     "metadata": {},
     "output_type": "execute_result"
    }
   ],
   "source": [
    "test_data"
   ]
  },
  {
   "cell_type": "code",
   "execution_count": 6,
   "metadata": {},
   "outputs": [
    {
     "name": "stdout",
     "output_type": "stream",
     "text": [
      "1 183 34 26\n",
      "['T1129', 'T1078', 'T1078', 'T1070', 'T1078', 'T1497.001', 'T1497.001', 'T1029']\n",
      "2 178 33 26\n",
      "['T1129', 'T1070', 'T1497.001', 'T1497.001', 'T1029']\n",
      "3 183 32 25\n",
      "['T1129', 'T1070', 'T1497.001', 'T1497.001', 'T1029']\n",
      "4 185 31 24\n",
      "['T1129', 'T1070', 'T1497.001', 'T1497.001', 'T1029']\n",
      "5 185 30 23\n",
      "['T1129', 'T1070', 'T1497.001', 'T1497.001', 'T1029']\n",
      "6 200 29 22\n",
      "['T1129', 'T1070', 'T1497.001', 'T1497.001', 'T1029']\n",
      "7 376 28 23\n",
      "['T1497.001', 'T1497.001', 'T1029']\n",
      "8 461 27 24\n",
      "[]\n",
      "9 461 26 24\n",
      "[]\n",
      "10 444 25 23\n",
      "[]\n",
      "11 444 24 23\n",
      "[]\n",
      "12 371 23 22\n",
      "[]\n",
      "13 382 22 21\n",
      "[]\n",
      "14 382 21 20\n",
      "[]\n",
      "15 382 20 19\n",
      "[]\n",
      "16 396 19 19\n",
      "[]\n",
      "17 396 18 18\n",
      "[]\n",
      "18 396 17 17\n",
      "[]\n",
      "19 185 16 16\n",
      "[]\n",
      "20 185 15 15\n",
      "[]\n",
      "21 185 14 14\n",
      "[]\n",
      "22 185 13 13\n",
      "[]\n",
      "23 185 12 12\n",
      "[]\n",
      "24 185 11 11\n",
      "[]\n",
      "25 185 10 10\n",
      "[]\n",
      "26 185 9 9\n",
      "[]\n",
      "27 141 8 8\n",
      "[]\n",
      "28 120 7 7\n",
      "[]\n",
      "29 120 6 6\n",
      "[]\n",
      "30 120 5 5\n",
      "[]\n",
      "31 83 4 4\n",
      "[]\n",
      "32 83 3 3\n",
      "[]\n",
      "33 83 2 2\n",
      "[]\n",
      "34 44 1 1\n",
      "[]\n",
      "1 200 13 9\n",
      "['T1222.002', 'T1070', 'T1003.008', 'T1105']\n",
      "2 181 12 8\n",
      "['T1222.002', 'T1070', 'T1003.008', 'T1105']\n",
      "3 280 11 7\n",
      "['T1222.002', 'T1070', 'T1003.008', 'T1105']\n",
      "4 283 10 7\n",
      "['T1222.002', 'T1070', 'T1003.008']\n",
      "5 263 9 6\n",
      "['T1222.002', 'T1070', 'T1003.008']\n",
      "6 254 8 5\n",
      "['T1222.002', 'T1070', 'T1003.008']\n",
      "7 360 7 7\n",
      "[]\n",
      "8 378 6 6\n",
      "[]\n",
      "9 225 5 5\n",
      "[]\n",
      "10 117 4 4\n",
      "[]\n",
      "11 81 3 3\n",
      "[]\n",
      "12 82 2 2\n",
      "[]\n",
      "13 82 1 1\n",
      "[]\n",
      "1 183 11 11\n",
      "[]\n",
      "2 181 10 10\n",
      "[]\n",
      "3 181 9 9\n",
      "[]\n",
      "4 164 8 8\n",
      "[]\n",
      "5 152 7 7\n",
      "[]\n",
      "6 65 6 6\n",
      "[]\n",
      "7 55 5 5\n",
      "[]\n",
      "8 55 4 4\n",
      "[]\n",
      "9 39 3 3\n",
      "[]\n",
      "10 39 2 2\n",
      "[]\n",
      "11 39 1 1\n",
      "[]\n"
     ]
    }
   ],
   "source": [
    "import sys\n",
    "sys.path.append ('..')\n",
    "from src.models.model1.recommend import get_cadidate_techniques, get_interacted_tactic_range\n",
    "look_up_table = pd.read_pickle ('data/lookup_tables/m06c_1_1.pkl')\n",
    "n = 200\n",
    "test_group_IDs = []\n",
    "test_detected_techniques = []\n",
    "test_true_subsequent_techniques = []\n",
    "test_candidate_techniques = []\n",
    "for index, row in test_data.iterrows():\n",
    "    group_ID = row['group_ID']\n",
    "    for i in range (len (row['interacted_techniques'])-1):\n",
    "        detected_techniques = row['interacted_techniques'][0:i+1]\n",
    "        true_subsequent_techniques_techniques = row['interacted_techniques'][i+1:]\n",
    "        candidate_techniques = get_cadidate_techniques (interacted_techniques = detected_techniques, look_up_table=look_up_table, n = n, mode = 'latest')\n",
    "        \n",
    "        test_group_IDs.append (group_ID)\n",
    "        test_detected_techniques.append (detected_techniques)\n",
    "        test_true_subsequent_techniques.append (true_subsequent_techniques_techniques)\n",
    "        test_candidate_techniques.append (candidate_techniques)\n",
    "data = {\n",
    "    'group_ID': test_group_IDs,\n",
    "    'detected_techniques': test_detected_techniques,\n",
    "    'candidate_techniques': test_candidate_techniques,\n",
    "    'true_subsequent_techniques': test_true_subsequent_techniques,\n",
    "}\n",
    "\n",
    "res_df = pd.DataFrame(data = data)\n",
    "for index, row in res_df.iterrows():\n",
    "    print (len(row['detected_techniques']), len(row['candidate_techniques']), len(row['true_subsequent_techniques']), len([i for i in row['candidate_techniques'] if i in row['true_subsequent_techniques']]))\n",
    "    print ([i for i in row['true_subsequent_techniques'] if i not in row['candidate_techniques']])"
   ]
  },
  {
   "cell_type": "code",
   "execution_count": 7,
   "metadata": {},
   "outputs": [
    {
     "data": {
      "text/plain": [
       "group_ID                                                              aa22-174a\n",
       "detected_techniques           [T1190, T1059.001, T1053.005, T1505.003, T1036...\n",
       "candidate_techniques          [T1071, T1071.004, T1071.002, T1071.003, T1071...\n",
       "true_subsequent_techniques                                              [T1090]\n",
       "Name: 57, dtype: object"
      ]
     },
     "execution_count": 7,
     "metadata": {},
     "output_type": "execute_result"
    }
   ],
   "source": [
    "res_df.loc[57]"
   ]
  },
  {
   "cell_type": "code",
   "execution_count": 8,
   "metadata": {},
   "outputs": [
    {
     "data": {
      "text/html": [
       "<div>\n",
       "<style scoped>\n",
       "    .dataframe tbody tr th:only-of-type {\n",
       "        vertical-align: middle;\n",
       "    }\n",
       "\n",
       "    .dataframe tbody tr th {\n",
       "        vertical-align: top;\n",
       "    }\n",
       "\n",
       "    .dataframe thead th {\n",
       "        text-align: right;\n",
       "    }\n",
       "</style>\n",
       "<table border=\"1\" class=\"dataframe\">\n",
       "  <thead>\n",
       "    <tr style=\"text-align: right;\">\n",
       "      <th></th>\n",
       "      <th>technique_ID</th>\n",
       "      <th>sorted_similar_techniques</th>\n",
       "      <th>technique_earliest_stage</th>\n",
       "      <th>technique_latest_stage</th>\n",
       "    </tr>\n",
       "  </thead>\n",
       "  <tbody>\n",
       "    <tr>\n",
       "      <th>447</th>\n",
       "      <td>T1090</td>\n",
       "      <td>[T1087.002, T1210, T1069.001, T1586.002, T1132...</td>\n",
       "      <td>10</td>\n",
       "      <td>10</td>\n",
       "    </tr>\n",
       "  </tbody>\n",
       "</table>\n",
       "</div>"
      ],
      "text/plain": [
       "    technique_ID                          sorted_similar_techniques  \\\n",
       "447        T1090  [T1087.002, T1210, T1069.001, T1586.002, T1132...   \n",
       "\n",
       "     technique_earliest_stage  technique_latest_stage  \n",
       "447                        10                      10  "
      ]
     },
     "execution_count": 8,
     "metadata": {},
     "output_type": "execute_result"
    }
   ],
   "source": [
    "look_up_table.loc[look_up_table['technique_ID'] == 'T1090']"
   ]
  }
 ],
 "metadata": {
  "kernelspec": {
   "display_name": "hcv-gt24-env",
   "language": "python",
   "name": "python3"
  },
  "language_info": {
   "codemirror_mode": {
    "name": "ipython",
    "version": 3
   },
   "file_extension": ".py",
   "mimetype": "text/x-python",
   "name": "python",
   "nbconvert_exporter": "python",
   "pygments_lexer": "ipython3",
   "version": "3.11.4"
  }
 },
 "nbformat": 4,
 "nbformat_minor": 2
}
