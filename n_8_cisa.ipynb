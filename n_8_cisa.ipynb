{
 "cells": [
  {
   "cell_type": "code",
   "execution_count": 24,
   "metadata": {},
   "outputs": [],
   "source": [
    "import yaml"
   ]
  },
  {
   "cell_type": "code",
   "execution_count": 25,
   "metadata": {},
   "outputs": [],
   "source": [
    "import pandas as pd"
   ]
  },
  {
   "cell_type": "code",
   "execution_count": 26,
   "metadata": {},
   "outputs": [
    {
     "data": {
      "text/html": [
       "<div>\n",
       "<style scoped>\n",
       "    .dataframe tbody tr th:only-of-type {\n",
       "        vertical-align: middle;\n",
       "    }\n",
       "\n",
       "    .dataframe tbody tr th {\n",
       "        vertical-align: top;\n",
       "    }\n",
       "\n",
       "    .dataframe thead th {\n",
       "        text-align: right;\n",
       "    }\n",
       "</style>\n",
       "<table border=\"1\" class=\"dataframe\">\n",
       "  <thead>\n",
       "    <tr style=\"text-align: right;\">\n",
       "      <th></th>\n",
       "      <th>group_ID</th>\n",
       "      <th>reported_techniques</th>\n",
       "      <th>passive_techniques</th>\n",
       "      <th>active_techniques</th>\n",
       "    </tr>\n",
       "  </thead>\n",
       "  <tbody>\n",
       "    <tr>\n",
       "      <th>0</th>\n",
       "      <td>aa23-347a</td>\n",
       "      <td>[T1590.004, T1592.002, T1190, T1059.001, T1059...</td>\n",
       "      <td>[T1590.004, T1592.002]</td>\n",
       "      <td>[T1190, T1059.001, T1059.003, T1203, T1574.002...</td>\n",
       "    </tr>\n",
       "    <tr>\n",
       "      <th>1</th>\n",
       "      <td>aa23-201a</td>\n",
       "      <td>[T1584, T1588.002, T1190, T1059.004, T1106, T1...</td>\n",
       "      <td>[T1584, T1588.002]</td>\n",
       "      <td>[T1190, T1059.004, T1106, T1547, T1505.003, T1...</td>\n",
       "    </tr>\n",
       "    <tr>\n",
       "      <th>2</th>\n",
       "      <td>aa22-174a</td>\n",
       "      <td>[T1190, T1059.001, T1053.005, T1505.003, T1036...</td>\n",
       "      <td>None</td>\n",
       "      <td>[T1190, T1059.001, T1053.005, T1505.003, T1036...</td>\n",
       "    </tr>\n",
       "  </tbody>\n",
       "</table>\n",
       "</div>"
      ],
      "text/plain": [
       "    group_ID                                reported_techniques  \\\n",
       "0  aa23-347a  [T1590.004, T1592.002, T1190, T1059.001, T1059...   \n",
       "1  aa23-201a  [T1584, T1588.002, T1190, T1059.004, T1106, T1...   \n",
       "2  aa22-174a  [T1190, T1059.001, T1053.005, T1505.003, T1036...   \n",
       "\n",
       "       passive_techniques                                  active_techniques  \n",
       "0  [T1590.004, T1592.002]  [T1190, T1059.001, T1059.003, T1203, T1574.002...  \n",
       "1      [T1584, T1588.002]  [T1190, T1059.004, T1106, T1547, T1505.003, T1...  \n",
       "2                    None  [T1190, T1059.001, T1053.005, T1505.003, T1036...  "
      ]
     },
     "execution_count": 26,
     "metadata": {},
     "output_type": "execute_result"
    }
   ],
   "source": [
    "report_data = pd.read_pickle('data/test/report_data.pkl')\n",
    "report_data"
   ]
  },
  {
   "cell_type": "code",
   "execution_count": 27,
   "metadata": {},
   "outputs": [],
   "source": [
    "from src.models.model1.recommend import extract_cisa_techniques"
   ]
  },
  {
   "cell_type": "code",
   "execution_count": 28,
   "metadata": {},
   "outputs": [
    {
     "data": {
      "text/plain": [
       "['T1590.004',\n",
       " 'T1592.002',\n",
       " 'T1190',\n",
       " 'T1059.001',\n",
       " 'T1059.003',\n",
       " 'T1203',\n",
       " 'T1574.002',\n",
       " 'T1053.005',\n",
       " 'T1505.001',\n",
       " 'T1547',\n",
       " 'T1068',\n",
       " 'T1098',\n",
       " 'T1027.001',\n",
       " 'T1036',\n",
       " 'T1055',\n",
       " 'T1562.001',\n",
       " 'T1564',\n",
       " 'T1564.001',\n",
       " 'T1003.001',\n",
       " 'T1003.002',\n",
       " 'T1555.003',\n",
       " 'T1558.001',\n",
       " 'T1033',\n",
       " 'T1046',\n",
       " 'T1057',\n",
       " 'T1590',\n",
       " 'T1210',\n",
       " 'T1047',\n",
       " 'T1568',\n",
       " 'T1572',\n",
       " 'T1020',\n",
       " 'T1041',\n",
       " 'T1567']"
      ]
     },
     "execution_count": 28,
     "metadata": {},
     "output_type": "execute_result"
    }
   ],
   "source": [
    "report_code = 'aa23-347a'\n",
    "url = 'https://www.cisa.gov/news-events/cybersecurity-advisories/' + report_code\n",
    "extract_cisa_techniques (url )"
   ]
  },
  {
   "cell_type": "code",
   "execution_count": 29,
   "metadata": {},
   "outputs": [
    {
     "name": "stdout",
     "output_type": "stream",
     "text": [
      "[[1, 2, 3, 4, 5]]\n"
     ]
    }
   ],
   "source": [
    "all_techniques = [1, 2, 3, 4, 5]\n",
    "reported_techniques = []\n",
    "\n",
    "reported_techniques.append(all_techniques[:])\n",
    "\n",
    "all_techniques.remove(3)  # Removing an item from all_techniques\n",
    "\n",
    "print(reported_techniques)\n"
   ]
  }
 ],
 "metadata": {
  "kernelspec": {
   "display_name": "hcv-gt24-env",
   "language": "python",
   "name": "python3"
  },
  "language_info": {
   "codemirror_mode": {
    "name": "ipython",
    "version": 3
   },
   "file_extension": ".py",
   "mimetype": "text/x-python",
   "name": "python",
   "nbconvert_exporter": "python",
   "pygments_lexer": "ipython3",
   "version": "3.11.4"
  }
 },
 "nbformat": 4,
 "nbformat_minor": 2
}
