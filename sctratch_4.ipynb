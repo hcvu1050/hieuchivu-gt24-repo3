{
 "cells": [
  {
   "cell_type": "code",
   "execution_count": 1,
   "metadata": {},
   "outputs": [
    {
     "name": "stdout",
     "output_type": "stream",
     "text": [
      "(<tf.Tensor: shape=(), dtype=float32, numpy=1.0>, <tf.Tensor: shape=(), dtype=float32, numpy=5.0>, <tf.Tensor: shape=(), dtype=float32, numpy=9.0>)\n",
      "(<tf.Tensor: shape=(), dtype=float32, numpy=2.0>, <tf.Tensor: shape=(), dtype=float32, numpy=6.0>, <tf.Tensor: shape=(), dtype=float32, numpy=10.0>)\n",
      "(<tf.Tensor: shape=(), dtype=float32, numpy=3.0>, <tf.Tensor: shape=(), dtype=float32, numpy=7.0>, <tf.Tensor: shape=(), dtype=float32, numpy=11.0>)\n",
      "(<tf.Tensor: shape=(), dtype=float32, numpy=4.0>, <tf.Tensor: shape=(), dtype=float32, numpy=8.0>, <tf.Tensor: shape=(), dtype=float32, numpy=12.0>)\n"
     ]
    }
   ],
   "source": [
    "import pandas as pd\n",
    "import tensorflow as tf\n",
    "\n",
    "# Example DataFrame with float columns\n",
    "data = {\n",
    "    'column_1': [1.0, 2.0, 3.0, 4.0],\n",
    "    'column_2': [5.0, 6.0, 7.0, 8.0],\n",
    "    'column_3': [9.0, 10.0, 11.0, 12.0]\n",
    "}\n",
    "\n",
    "df = pd.DataFrame(data)\n",
    "\n",
    "# Convert DataFrame columns to TensorFlow tensors\n",
    "tensor_column_1 = tf.constant(df['column_1'].values, dtype=tf.float32)\n",
    "tensor_column_2 = tf.constant(df['column_2'].values, dtype=tf.float32)\n",
    "tensor_column_3 = tf.constant(df['column_3'].values, dtype=tf.float32)\n",
    "\n",
    "# Create a TensorFlow dataset\n",
    "dataset = tf.data.Dataset.from_tensor_slices((tensor_column_1, tensor_column_2, tensor_column_3))\n",
    "\n",
    "# Optional: You can shuffle, batch, repeat, etc., the dataset as needed for training\n",
    "# dataset = dataset.shuffle(buffer_size).batch(batch_size).repeat(num_epochs)\n",
    "\n",
    "# Example: Iterate through the dataset\n",
    "for example in dataset:\n",
    "    print(example)\n"
   ]
  },
  {
   "cell_type": "code",
   "execution_count": 1,
   "metadata": {},
   "outputs": [
    {
     "name": "stdout",
     "output_type": "stream",
     "text": [
      "Fixed-length embeddings for each user:\n",
      "[[2.        3.        4.       ]\n",
      " [3.        3.6666667 4.3333335]\n",
      " [2.3333333 2.6666667 3.       ]]\n"
     ]
    }
   ],
   "source": [
    "import tensorflow as tf\n",
    "\n",
    "# Example variable-length lists of fixed-length embeddings for 3 users\n",
    "user_embeddings = [\n",
    "    [[1.0, 2.0, 3.0], [2.0, 3.0, 4.0], [3.0, 4.0, 5.0]],  # User 1 with 3 embeddings\n",
    "    [[4.0, 5.0, 6.0], [5.0, 6.0, 7.0]],                 # User 2 with 2 embeddings\n",
    "    [[7.0, 8.0, 9.0]]                                    # User 3 with 1 embedding\n",
    "]\n",
    "\n",
    "# Convert to TensorFlow constant\n",
    "user_embeddings_tf = [tf.constant(embedding_list, dtype=tf.float32) for embedding_list in user_embeddings]\n",
    "\n",
    "# Pad sequences to the same length (if needed)\n",
    "padded_user_embeddings = tf.keras.preprocessing.sequence.pad_sequences(\n",
    "    user_embeddings_tf, padding='post', dtype='float32'\n",
    ")\n",
    "\n",
    "# Calculate mean along the sequence axis to get fixed-length embeddings for each user\n",
    "user_avg_embeddings = tf.reduce_mean(padded_user_embeddings, axis=1)\n",
    "\n",
    "print(\"Fixed-length embeddings for each user:\")\n",
    "print(user_avg_embeddings.numpy())\n"
   ]
  }
 ],
 "metadata": {
  "kernelspec": {
   "display_name": "hcv-gt24-env",
   "language": "python",
   "name": "python3"
  },
  "language_info": {
   "codemirror_mode": {
    "name": "ipython",
    "version": 3
   },
   "file_extension": ".py",
   "mimetype": "text/x-python",
   "name": "python",
   "nbconvert_exporter": "python",
   "pygments_lexer": "ipython3",
   "version": "3.11.4"
  }
 },
 "nbformat": 4,
 "nbformat_minor": 2
}
