{
 "cells": [
  {
   "cell_type": "code",
   "execution_count": 7,
   "metadata": {},
   "outputs": [],
   "source": [
    "import pandas as pd\n",
    "import tensorflow as tf\n",
    "\n",
    "input_group_software_id = pd.read_csv('data/interim/input_group_software_id_vocab.csv', header = None)\n",
    "input_technique_software_id = pd.read_csv('data/interim/input_technique_software_id_vocab.csv', header = None)\n"
   ]
  },
  {
   "cell_type": "code",
   "execution_count": 12,
   "metadata": {},
   "outputs": [],
   "source": [
    "software_id_vocab = pd.concat ([input_group_software_id, input_technique_software_id])[0].dropna().unique()"
   ]
  },
  {
   "cell_type": "code",
   "execution_count": 13,
   "metadata": {},
   "outputs": [
    {
     "data": {
      "text/plain": [
       "(635,)"
      ]
     },
     "execution_count": 13,
     "metadata": {},
     "output_type": "execute_result"
    }
   ],
   "source": [
    "software_id_vocab.shape"
   ]
  },
  {
   "cell_type": "code",
   "execution_count": 15,
   "metadata": {},
   "outputs": [],
   "source": [
    "g_tactic = pd.read_csv ('data/interim/input_group_tactics_vocab.csv')\n",
    "t_tactic = pd.read_csv ('data/interim/input_technique_tactics_vocab.csv')"
   ]
  },
  {
   "cell_type": "code",
   "execution_count": 17,
   "metadata": {},
   "outputs": [
    {
     "data": {
      "text/html": [
       "<div>\n",
       "<style scoped>\n",
       "    .dataframe tbody tr th:only-of-type {\n",
       "        vertical-align: middle;\n",
       "    }\n",
       "\n",
       "    .dataframe tbody tr th {\n",
       "        vertical-align: top;\n",
       "    }\n",
       "\n",
       "    .dataframe thead th {\n",
       "        text-align: right;\n",
       "    }\n",
       "</style>\n",
       "<table border=\"1\" class=\"dataframe\">\n",
       "  <thead>\n",
       "    <tr style=\"text-align: right;\">\n",
       "      <th></th>\n",
       "      <th>defense_evasion</th>\n",
       "    </tr>\n",
       "  </thead>\n",
       "  <tbody>\n",
       "    <tr>\n",
       "      <th>0</th>\n",
       "      <td>privilege_escalation</td>\n",
       "    </tr>\n",
       "    <tr>\n",
       "      <th>1</th>\n",
       "      <td>impact</td>\n",
       "    </tr>\n",
       "    <tr>\n",
       "      <th>2</th>\n",
       "      <td>discovery</td>\n",
       "    </tr>\n",
       "    <tr>\n",
       "      <th>3</th>\n",
       "      <td>persistence</td>\n",
       "    </tr>\n",
       "    <tr>\n",
       "      <th>4</th>\n",
       "      <td>resource_development</td>\n",
       "    </tr>\n",
       "    <tr>\n",
       "      <th>5</th>\n",
       "      <td>reconnaissance</td>\n",
       "    </tr>\n",
       "    <tr>\n",
       "      <th>6</th>\n",
       "      <td>collection</td>\n",
       "    </tr>\n",
       "    <tr>\n",
       "      <th>7</th>\n",
       "      <td>credential_access</td>\n",
       "    </tr>\n",
       "    <tr>\n",
       "      <th>8</th>\n",
       "      <td>command_and_control</td>\n",
       "    </tr>\n",
       "    <tr>\n",
       "      <th>9</th>\n",
       "      <td>exfiltration</td>\n",
       "    </tr>\n",
       "    <tr>\n",
       "      <th>10</th>\n",
       "      <td>execution</td>\n",
       "    </tr>\n",
       "    <tr>\n",
       "      <th>11</th>\n",
       "      <td>initial_access</td>\n",
       "    </tr>\n",
       "    <tr>\n",
       "      <th>12</th>\n",
       "      <td>lateral_movement</td>\n",
       "    </tr>\n",
       "  </tbody>\n",
       "</table>\n",
       "</div>"
      ],
      "text/plain": [
       "         defense_evasion\n",
       "0   privilege_escalation\n",
       "1                 impact\n",
       "2              discovery\n",
       "3            persistence\n",
       "4   resource_development\n",
       "5         reconnaissance\n",
       "6             collection\n",
       "7      credential_access\n",
       "8    command_and_control\n",
       "9           exfiltration\n",
       "10             execution\n",
       "11        initial_access\n",
       "12      lateral_movement"
      ]
     },
     "execution_count": 17,
     "metadata": {},
     "output_type": "execute_result"
    }
   ],
   "source": [
    "t_tactic"
   ]
  },
  {
   "cell_type": "code",
   "execution_count": 1,
   "metadata": {},
   "outputs": [
    {
     "name": "stdout",
     "output_type": "stream",
     "text": [
      "Fixed-length embeddings for each user:\n",
      "[[2.        3.        4.       ]\n",
      " [3.        3.6666667 4.3333335]\n",
      " [2.3333333 2.6666667 3.       ]]\n"
     ]
    }
   ],
   "source": [
    "import tensorflow as tf\n",
    "\n",
    "# Example variable-length lists of fixed-length embeddings for 3 users\n",
    "user_embeddings = [\n",
    "    [[1.0, 2.0, 3.0], [2.0, 3.0, 4.0], [3.0, 4.0, 5.0]],  # User 1 with 3 embeddings\n",
    "    [[4.0, 5.0, 6.0], [5.0, 6.0, 7.0]],                 # User 2 with 2 embeddings\n",
    "    [[7.0, 8.0, 9.0]]                                    # User 3 with 1 embedding\n",
    "]\n",
    "\n",
    "# Convert to TensorFlow constant\n",
    "user_embeddings_tf = [tf.constant(embedding_list, dtype=tf.float32) for embedding_list in user_embeddings]\n",
    "\n",
    "# Pad sequences to the same length (if needed)\n",
    "padded_user_embeddings = tf.keras.preprocessing.sequence.pad_sequences(\n",
    "    user_embeddings_tf, padding='post', dtype='float32'\n",
    ")\n",
    "\n",
    "# Calculate mean along the sequence axis to get fixed-length embeddings for each user\n",
    "user_avg_embeddings = tf.reduce_mean(padded_user_embeddings, axis=1)\n",
    "\n",
    "print(\"Fixed-length embeddings for each user:\")\n",
    "print(user_avg_embeddings.numpy())\n"
   ]
  }
 ],
 "metadata": {
  "kernelspec": {
   "display_name": "hcv-gt24-env",
   "language": "python",
   "name": "python3"
  },
  "language_info": {
   "codemirror_mode": {
    "name": "ipython",
    "version": 3
   },
   "file_extension": ".py",
   "mimetype": "text/x-python",
   "name": "python",
   "nbconvert_exporter": "python",
   "pygments_lexer": "ipython3",
   "version": "3.11.4"
  }
 },
 "nbformat": 4,
 "nbformat_minor": 2
}
