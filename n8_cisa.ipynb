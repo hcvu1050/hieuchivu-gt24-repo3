{
 "cells": [
  {
   "cell_type": "code",
   "execution_count": 27,
   "metadata": {},
   "outputs": [],
   "source": [
    "import pandas as pd\n",
    "import numpy as np\n",
    "import requests\n",
    "from bs4 import BeautifulSoup\n",
    "import re\n",
    "\n",
    "def extract_cisa_techniques (url: str, sort_mode: str = None, look_up_table: pd.DataFrame() = None):\n",
    "    response = requests.get(url)\n",
    "    filtered_strings = []\n",
    "    if response.status_code == 200:\n",
    "        soup = BeautifulSoup(response.content, 'html.parser')\n",
    "        all_tables = soup.find_all('table', {'class': 'Table'})\n",
    "        regex_pattern = re.compile(r'T\\d{4}\\.*\\d*')\n",
    "        for table in all_tables: \n",
    "            matched_elements = list (table.find_all(string=regex_pattern))\n",
    "            if len(matched_elements) >0 and len(filtered_strings)>0: \n",
    "                print ('WARNING: Extracting Techniques from more than one table. Check the url.')\n",
    "                return\n",
    "            if len(matched_elements) >0: filtered_strings.extend(matched_elements)\n",
    "    else:\n",
    "        print('Failed to fetch the webpage.')\n",
    "        return\n",
    "    return filtered_strings"
   ]
  },
  {
   "cell_type": "code",
   "execution_count": 28,
   "metadata": {},
   "outputs": [
    {
     "name": "stdout",
     "output_type": "stream",
     "text": [
      "['T1078', 'T1047', 'T1059', 'T1059.001', 'T1059.003', 'T1059.006', 'T1129', 'T1569', 'T1078', 'T1543', 'T1078', 'T1036.005', 'T1070', 'T1070.004', 'T1078', 'T1497.001', 'T1562.001', 'T1574', 'T1016', 'T1016.001', 'T1033', 'T1049', 'T1057', 'T1082', 'T1083', 'T1497.001', 'T1021.002', 'T1560.001', 'T1039', 'T1074.002', 'T1095', 'T1105', 'T1090', 'T1029', 'T1567.002']\n"
     ]
    }
   ],
   "source": [
    "url = 'https://www.cisa.gov/news-events/cybersecurity-advisories/aa22-277a'  \n",
    "# print(extract_cisa_techniques (url = url, sort_mode= 'earliest', look_up_table= look_up_table))\n",
    "print(extract_cisa_techniques (url = url ))"
   ]
  },
  {
   "cell_type": "code",
   "execution_count": null,
   "metadata": {},
   "outputs": [],
   "source": []
  }
 ],
 "metadata": {
  "kernelspec": {
   "display_name": "hcv-gt24-env",
   "language": "python",
   "name": "python3"
  },
  "language_info": {
   "codemirror_mode": {
    "name": "ipython",
    "version": 3
   },
   "file_extension": ".py",
   "mimetype": "text/x-python",
   "name": "python",
   "nbconvert_exporter": "python",
   "pygments_lexer": "ipython3",
   "version": "3.11.4"
  }
 },
 "nbformat": 4,
 "nbformat_minor": 2
}
