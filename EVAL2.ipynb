{
 "cells": [
  {
   "cell_type": "code",
   "execution_count": 1,
   "metadata": {},
   "outputs": [],
   "source": [
    "import pandas as pd"
   ]
  },
  {
   "cell_type": "code",
   "execution_count": 2,
   "metadata": {},
   "outputs": [],
   "source": [
    "eval_df = pd.read_pickle('reports/model1/results_eval/m06d_1_2_a_cisa_2_report_data_test_results_eval.pkl')"
   ]
  },
  {
   "cell_type": "code",
   "execution_count": 3,
   "metadata": {},
   "outputs": [
    {
     "data": {
      "text/plain": [
       "array(['aa22-321a'], dtype=object)"
      ]
     },
     "execution_count": 3,
     "metadata": {},
     "output_type": "execute_result"
    }
   ],
   "source": [
    "eval_df['group_ID'].unique()"
   ]
  },
  {
   "cell_type": "code",
   "execution_count": 6,
   "metadata": {},
   "outputs": [
    {
     "data": {
      "text/html": [
       "<div>\n",
       "<style scoped>\n",
       "    .dataframe tbody tr th:only-of-type {\n",
       "        vertical-align: middle;\n",
       "    }\n",
       "\n",
       "    .dataframe tbody tr th {\n",
       "        vertical-align: top;\n",
       "    }\n",
       "\n",
       "    .dataframe thead th {\n",
       "        text-align: right;\n",
       "    }\n",
       "</style>\n",
       "<table border=\"1\" class=\"dataframe\">\n",
       "  <thead>\n",
       "    <tr style=\"text-align: right;\">\n",
       "      <th></th>\n",
       "      <th>group_ID</th>\n",
       "      <th>detected_techniques</th>\n",
       "      <th>candidate_techniques</th>\n",
       "      <th>true_subsequent_techniques</th>\n",
       "      <th>predicted_techniques</th>\n",
       "      <th>accuracy</th>\n",
       "      <th>precision</th>\n",
       "      <th>recall</th>\n",
       "    </tr>\n",
       "  </thead>\n",
       "  <tbody>\n",
       "    <tr>\n",
       "      <th>0</th>\n",
       "      <td>aa22-321a</td>\n",
       "      <td>[T1133]</td>\n",
       "      <td>[T1548.002, T1087, T1087.002, T1087.003, T1087...</td>\n",
       "      <td>[T1190, T1566.001, T1059, T1070, T1112, T1562,...</td>\n",
       "      <td>[T1071.001, T1547.001, T1059.001, T1059.005, T...</td>\n",
       "      <td>0.035714</td>\n",
       "      <td>0.035714</td>\n",
       "      <td>0.111111</td>\n",
       "    </tr>\n",
       "    <tr>\n",
       "      <th>1</th>\n",
       "      <td>aa22-321a</td>\n",
       "      <td>[T1133, T1190]</td>\n",
       "      <td>[T1548, T1548.002, T1548.003, T1134, T1087, T1...</td>\n",
       "      <td>[T1566.001, T1059, T1070, T1112, T1562, T1537,...</td>\n",
       "      <td>[T1071.001, T1547.001, T1059.001, T1059.005, T...</td>\n",
       "      <td>0.034483</td>\n",
       "      <td>0.034483</td>\n",
       "      <td>0.125</td>\n",
       "    </tr>\n",
       "    <tr>\n",
       "      <th>2</th>\n",
       "      <td>aa22-321a</td>\n",
       "      <td>[T1133, T1190, T1566.001]</td>\n",
       "      <td>[T1548, T1548.002, T1548.003, T1134, T1087, T1...</td>\n",
       "      <td>[T1059, T1070, T1112, T1562, T1537, T1486, T1490]</td>\n",
       "      <td>[T1071.001, T1547.001, T1059.001, T1059.005, T...</td>\n",
       "      <td>0.0</td>\n",
       "      <td>0.0</td>\n",
       "      <td>0.0</td>\n",
       "    </tr>\n",
       "    <tr>\n",
       "      <th>3</th>\n",
       "      <td>aa22-321a</td>\n",
       "      <td>[T1133, T1190, T1566.001, T1059]</td>\n",
       "      <td>[T1548, T1548.002, T1548.001, T1548.003, T1134...</td>\n",
       "      <td>[T1070, T1112, T1562, T1537, T1486, T1490]</td>\n",
       "      <td>[T1071.001, T1547.001, T1059.001, T1059.005, T...</td>\n",
       "      <td>0.0</td>\n",
       "      <td>0.0</td>\n",
       "      <td>0.0</td>\n",
       "    </tr>\n",
       "    <tr>\n",
       "      <th>4</th>\n",
       "      <td>aa22-321a</td>\n",
       "      <td>[T1133, T1190, T1566.001, T1059, T1070]</td>\n",
       "      <td>[T1548, T1548.002, T1548.004, T1548.001, T1548...</td>\n",
       "      <td>[T1112, T1562, T1537, T1486, T1490]</td>\n",
       "      <td>[T1071.001, T1105, T1036.005]</td>\n",
       "      <td>0.0</td>\n",
       "      <td>0.0</td>\n",
       "      <td>0.0</td>\n",
       "    </tr>\n",
       "    <tr>\n",
       "      <th>5</th>\n",
       "      <td>aa22-321a</td>\n",
       "      <td>[T1133, T1190, T1566.001, T1059, T1070, T1112]</td>\n",
       "      <td>[T1548, T1548.002, T1548.004, T1548.001, T1548...</td>\n",
       "      <td>[T1562, T1537, T1486, T1490]</td>\n",
       "      <td>[T1071.001, T1105, T1036.005]</td>\n",
       "      <td>0.0</td>\n",
       "      <td>0.0</td>\n",
       "      <td>0.0</td>\n",
       "    </tr>\n",
       "    <tr>\n",
       "      <th>6</th>\n",
       "      <td>aa22-321a</td>\n",
       "      <td>[T1133, T1190, T1566.001, T1059, T1070, T1112,...</td>\n",
       "      <td>[T1548, T1548.002, T1548.004, T1548.001, T1548...</td>\n",
       "      <td>[T1537, T1486, T1490]</td>\n",
       "      <td>[T1071.001, T1105, T1036.005]</td>\n",
       "      <td>0.0</td>\n",
       "      <td>0.0</td>\n",
       "      <td>0.0</td>\n",
       "    </tr>\n",
       "    <tr>\n",
       "      <th>7</th>\n",
       "      <td>aa22-321a</td>\n",
       "      <td>[T1133, T1190, T1566.001, T1059, T1070, T1112,...</td>\n",
       "      <td>[T1020, T1020.001, T1485, T1486, T1565, T1565....</td>\n",
       "      <td>[T1486, T1490]</td>\n",
       "      <td>[T1041]</td>\n",
       "      <td>0.0</td>\n",
       "      <td>0.0</td>\n",
       "      <td>0.0</td>\n",
       "    </tr>\n",
       "    <tr>\n",
       "      <th>8</th>\n",
       "      <td>aa22-321a</td>\n",
       "      <td>[T1133, T1190, T1566.001, T1059, T1070, T1112,...</td>\n",
       "      <td>[T1485, T1486, T1565, T1565.003, T1565.001, T1...</td>\n",
       "      <td>[T1490]</td>\n",
       "      <td>[T1486]</td>\n",
       "      <td>0.0</td>\n",
       "      <td>0.0</td>\n",
       "      <td>0.0</td>\n",
       "    </tr>\n",
       "  </tbody>\n",
       "</table>\n",
       "</div>"
      ],
      "text/plain": [
       "    group_ID                                detected_techniques  \\\n",
       "0  aa22-321a                                            [T1133]   \n",
       "1  aa22-321a                                     [T1133, T1190]   \n",
       "2  aa22-321a                          [T1133, T1190, T1566.001]   \n",
       "3  aa22-321a                   [T1133, T1190, T1566.001, T1059]   \n",
       "4  aa22-321a            [T1133, T1190, T1566.001, T1059, T1070]   \n",
       "5  aa22-321a     [T1133, T1190, T1566.001, T1059, T1070, T1112]   \n",
       "6  aa22-321a  [T1133, T1190, T1566.001, T1059, T1070, T1112,...   \n",
       "7  aa22-321a  [T1133, T1190, T1566.001, T1059, T1070, T1112,...   \n",
       "8  aa22-321a  [T1133, T1190, T1566.001, T1059, T1070, T1112,...   \n",
       "\n",
       "                                candidate_techniques  \\\n",
       "0  [T1548.002, T1087, T1087.002, T1087.003, T1087...   \n",
       "1  [T1548, T1548.002, T1548.003, T1134, T1087, T1...   \n",
       "2  [T1548, T1548.002, T1548.003, T1134, T1087, T1...   \n",
       "3  [T1548, T1548.002, T1548.001, T1548.003, T1134...   \n",
       "4  [T1548, T1548.002, T1548.004, T1548.001, T1548...   \n",
       "5  [T1548, T1548.002, T1548.004, T1548.001, T1548...   \n",
       "6  [T1548, T1548.002, T1548.004, T1548.001, T1548...   \n",
       "7  [T1020, T1020.001, T1485, T1486, T1565, T1565....   \n",
       "8  [T1485, T1486, T1565, T1565.003, T1565.001, T1...   \n",
       "\n",
       "                          true_subsequent_techniques  \\\n",
       "0  [T1190, T1566.001, T1059, T1070, T1112, T1562,...   \n",
       "1  [T1566.001, T1059, T1070, T1112, T1562, T1537,...   \n",
       "2  [T1059, T1070, T1112, T1562, T1537, T1486, T1490]   \n",
       "3         [T1070, T1112, T1562, T1537, T1486, T1490]   \n",
       "4                [T1112, T1562, T1537, T1486, T1490]   \n",
       "5                       [T1562, T1537, T1486, T1490]   \n",
       "6                              [T1537, T1486, T1490]   \n",
       "7                                     [T1486, T1490]   \n",
       "8                                            [T1490]   \n",
       "\n",
       "                                predicted_techniques  accuracy precision  \\\n",
       "0  [T1071.001, T1547.001, T1059.001, T1059.005, T...  0.035714  0.035714   \n",
       "1  [T1071.001, T1547.001, T1059.001, T1059.005, T...  0.034483  0.034483   \n",
       "2  [T1071.001, T1547.001, T1059.001, T1059.005, T...       0.0       0.0   \n",
       "3  [T1071.001, T1547.001, T1059.001, T1059.005, T...       0.0       0.0   \n",
       "4                      [T1071.001, T1105, T1036.005]       0.0       0.0   \n",
       "5                      [T1071.001, T1105, T1036.005]       0.0       0.0   \n",
       "6                      [T1071.001, T1105, T1036.005]       0.0       0.0   \n",
       "7                                            [T1041]       0.0       0.0   \n",
       "8                                            [T1486]       0.0       0.0   \n",
       "\n",
       "     recall  \n",
       "0  0.111111  \n",
       "1     0.125  \n",
       "2       0.0  \n",
       "3       0.0  \n",
       "4       0.0  \n",
       "5       0.0  \n",
       "6       0.0  \n",
       "7       0.0  \n",
       "8       0.0  "
      ]
     },
     "execution_count": 6,
     "metadata": {},
     "output_type": "execute_result"
    }
   ],
   "source": [
    "eval_df"
   ]
  },
  {
   "cell_type": "code",
   "execution_count": 4,
   "metadata": {},
   "outputs": [],
   "source": [
    "aa22_321a = eval_df[eval_df['group_ID']=='aa22-321a']\n",
    "# aa23_201a = eval_df[eval_df['group_ID']=='aa23-201a']\n",
    "# aa22_320a = eval_df[eval_df['group_ID']=='aa22-320a']"
   ]
  },
  {
   "cell_type": "code",
   "execution_count": 5,
   "metadata": {},
   "outputs": [
    {
     "data": {
      "image/png": "[encoded data removed]",
      "text/plain": [
       "<Figure size 576x432 with 1 Axes>"
      ]
     },
     "metadata": {
      "needs_background": "light"
     },
     "output_type": "display_data"
    }
   ],
   "source": [
    "df = aa22_321a\n",
    "\n",
    "df['Input'] = df['detected_techniques'].apply (lambda x: len(x))\n",
    "df['Subsequent Techniques'] = df['true_subsequent_techniques'].apply (lambda x: len(x))\n",
    "df['Prediction'] = df['predicted_techniques'].apply (lambda x: len(x))\n",
    "df_res = df[['Input', 'Subsequent Techniques', 'Prediction', 'precision', 'recall']]\n",
    "\n",
    "# df_res.to_csv ('aa22_320a.csv')\n",
    "\n",
    "import matplotlib.pyplot as plt\n",
    "import pandas as pd\n",
    "\n",
    "plt.figure(figsize=(8, 6))\n",
    "\n",
    "plt.plot(df['precision'], label='Precision', marker='o')\n",
    "plt.plot(df['recall'], label='Recall', marker='o')\n",
    "plt.xlabel('n')\n",
    "plt.ylabel('Score')\n",
    "plt.xticks(df.index, df['Input'])\n",
    "plt.title('aa22_321a')\n",
    "plt.legend()\n",
    "# plt.savefig('aa22_320a.png') \n",
    "plt.show()"
   ]
  },
  {
   "cell_type": "code",
   "execution_count": 72,
   "metadata": {},
   "outputs": [
    {
     "ename": "KeyError",
     "evalue": "'Input'",
     "output_type": "error",
     "traceback": [
      "\u001b[1;31m---------------------------------------------------------------------------\u001b[0m",
      "\u001b[1;31mKeyError\u001b[0m                                  Traceback (most recent call last)",
      "File \u001b[1;32mc:\\ProgramData\\anaconda3\\envs\\hcv-gt24-env\\Lib\\site-packages\\pandas\\core\\indexes\\base.py:3653\u001b[0m, in \u001b[0;36mIndex.get_loc\u001b[1;34m(self, key)\u001b[0m\n\u001b[0;32m   3652\u001b[0m \u001b[38;5;28;01mtry\u001b[39;00m:\n\u001b[1;32m-> 3653\u001b[0m     \u001b[38;5;28;01mreturn\u001b[39;00m \u001b[38;5;28mself\u001b[39m\u001b[38;5;241m.\u001b[39m_engine\u001b[38;5;241m.\u001b[39mget_loc(casted_key)\n\u001b[0;32m   3654\u001b[0m \u001b[38;5;28;01mexcept\u001b[39;00m \u001b[38;5;167;01mKeyError\u001b[39;00m \u001b[38;5;28;01mas\u001b[39;00m err:\n",
      "File \u001b[1;32mc:\\ProgramData\\anaconda3\\envs\\hcv-gt24-env\\Lib\\site-packages\\pandas\\_libs\\index.pyx:147\u001b[0m, in \u001b[0;36mpandas._libs.index.IndexEngine.get_loc\u001b[1;34m()\u001b[0m\n",
      "File \u001b[1;32mc:\\ProgramData\\anaconda3\\envs\\hcv-gt24-env\\Lib\\site-packages\\pandas\\_libs\\index.pyx:176\u001b[0m, in \u001b[0;36mpandas._libs.index.IndexEngine.get_loc\u001b[1;34m()\u001b[0m\n",
      "File \u001b[1;32mpandas\\_libs\\hashtable_class_helper.pxi:7080\u001b[0m, in \u001b[0;36mpandas._libs.hashtable.PyObjectHashTable.get_item\u001b[1;34m()\u001b[0m\n",
      "File \u001b[1;32mpandas\\_libs\\hashtable_class_helper.pxi:7088\u001b[0m, in \u001b[0;36mpandas._libs.hashtable.PyObjectHashTable.get_item\u001b[1;34m()\u001b[0m\n",
      "\u001b[1;31mKeyError\u001b[0m: 'Input'",
      "\nThe above exception was the direct cause of the following exception:\n",
      "\u001b[1;31mKeyError\u001b[0m                                  Traceback (most recent call last)",
      "Cell \u001b[1;32mIn[72], line 16\u001b[0m\n\u001b[0;32m     14\u001b[0m plt\u001b[38;5;241m.\u001b[39mxlabel(\u001b[38;5;124m'\u001b[39m\u001b[38;5;124mn\u001b[39m\u001b[38;5;124m'\u001b[39m)\n\u001b[0;32m     15\u001b[0m plt\u001b[38;5;241m.\u001b[39mylabel(\u001b[38;5;124m'\u001b[39m\u001b[38;5;124mScore\u001b[39m\u001b[38;5;124m'\u001b[39m)\n\u001b[1;32m---> 16\u001b[0m plt\u001b[38;5;241m.\u001b[39mxticks(df\u001b[38;5;241m.\u001b[39mindex, df[\u001b[38;5;124m'\u001b[39m\u001b[38;5;124mInput\u001b[39m\u001b[38;5;124m'\u001b[39m])\n\u001b[0;32m     17\u001b[0m plt\u001b[38;5;241m.\u001b[39mtitle(\u001b[38;5;124m'\u001b[39m\u001b[38;5;124mAA23-339A\u001b[39m\u001b[38;5;124m'\u001b[39m)\n\u001b[0;32m     18\u001b[0m plt\u001b[38;5;241m.\u001b[39mlegend()\n",
      "File \u001b[1;32mc:\\ProgramData\\anaconda3\\envs\\hcv-gt24-env\\Lib\\site-packages\\pandas\\core\\frame.py:3761\u001b[0m, in \u001b[0;36mDataFrame.__getitem__\u001b[1;34m(self, key)\u001b[0m\n\u001b[0;32m   3759\u001b[0m \u001b[38;5;28;01mif\u001b[39;00m \u001b[38;5;28mself\u001b[39m\u001b[38;5;241m.\u001b[39mcolumns\u001b[38;5;241m.\u001b[39mnlevels \u001b[38;5;241m>\u001b[39m \u001b[38;5;241m1\u001b[39m:\n\u001b[0;32m   3760\u001b[0m     \u001b[38;5;28;01mreturn\u001b[39;00m \u001b[38;5;28mself\u001b[39m\u001b[38;5;241m.\u001b[39m_getitem_multilevel(key)\n\u001b[1;32m-> 3761\u001b[0m indexer \u001b[38;5;241m=\u001b[39m \u001b[38;5;28mself\u001b[39m\u001b[38;5;241m.\u001b[39mcolumns\u001b[38;5;241m.\u001b[39mget_loc(key)\n\u001b[0;32m   3762\u001b[0m \u001b[38;5;28;01mif\u001b[39;00m is_integer(indexer):\n\u001b[0;32m   3763\u001b[0m     indexer \u001b[38;5;241m=\u001b[39m [indexer]\n",
      "File \u001b[1;32mc:\\ProgramData\\anaconda3\\envs\\hcv-gt24-env\\Lib\\site-packages\\pandas\\core\\indexes\\base.py:3655\u001b[0m, in \u001b[0;36mIndex.get_loc\u001b[1;34m(self, key)\u001b[0m\n\u001b[0;32m   3653\u001b[0m     \u001b[38;5;28;01mreturn\u001b[39;00m \u001b[38;5;28mself\u001b[39m\u001b[38;5;241m.\u001b[39m_engine\u001b[38;5;241m.\u001b[39mget_loc(casted_key)\n\u001b[0;32m   3654\u001b[0m \u001b[38;5;28;01mexcept\u001b[39;00m \u001b[38;5;167;01mKeyError\u001b[39;00m \u001b[38;5;28;01mas\u001b[39;00m err:\n\u001b[1;32m-> 3655\u001b[0m     \u001b[38;5;28;01mraise\u001b[39;00m \u001b[38;5;167;01mKeyError\u001b[39;00m(key) \u001b[38;5;28;01mfrom\u001b[39;00m \u001b[38;5;21;01merr\u001b[39;00m\n\u001b[0;32m   3656\u001b[0m \u001b[38;5;28;01mexcept\u001b[39;00m \u001b[38;5;167;01mTypeError\u001b[39;00m:\n\u001b[0;32m   3657\u001b[0m     \u001b[38;5;66;03m# If we have a listlike key, _check_indexing_error will raise\u001b[39;00m\n\u001b[0;32m   3658\u001b[0m     \u001b[38;5;66;03m#  InvalidIndexError. Otherwise we fall through and re-raise\u001b[39;00m\n\u001b[0;32m   3659\u001b[0m     \u001b[38;5;66;03m#  the TypeError.\u001b[39;00m\n\u001b[0;32m   3660\u001b[0m     \u001b[38;5;28mself\u001b[39m\u001b[38;5;241m.\u001b[39m_check_indexing_error(key)\n",
      "\u001b[1;31mKeyError\u001b[0m: 'Input'"
     ]
    },
    {
     "data": {
      "image/png": "[encoded data removed]",
      "text/plain": [
       "<Figure size 576x432 with 1 Axes>"
      ]
     },
     "metadata": {
      "needs_background": "light"
     },
     "output_type": "display_data"
    }
   ],
   "source": [
    "\"\"\"\n",
    "array(['aa23-339a', 'aa23-201a', 'aa22-320a', 'aa23-074a']\n",
    "\"\"\"\n",
    "\n",
    "import matplotlib.pyplot as plt\n",
    "import pandas as pd\n",
    "\n",
    "df = aa23_339a\n",
    "\n",
    "plt.figure(figsize=(8, 6))\n",
    "\n",
    "plt.plot(df['precision'], label='Precision', marker='o')\n",
    "plt.plot(df['recall'], label='Recall', marker='o')\n",
    "plt.xlabel('n')\n",
    "plt.ylabel('Score')\n",
    "plt.xticks(df.index, df['Input'])\n",
    "plt.title('AA23-339A')\n",
    "plt.legend()\n",
    "plt.savefig('aa23_339a.png') \n",
    "plt.show()"
   ]
  }
 ],
 "metadata": {
  "kernelspec": {
   "display_name": "hcv-gt24-env",
   "language": "python",
   "name": "python3"
  },
  "language_info": {
   "codemirror_mode": {
    "name": "ipython",
    "version": 3
   },
   "file_extension": ".py",
   "mimetype": "text/x-python",
   "name": "python",
   "nbconvert_exporter": "python",
   "pygments_lexer": "ipython3",
   "version": "3.11.4"
  }
 },
 "nbformat": 4,
 "nbformat_minor": 2
}
