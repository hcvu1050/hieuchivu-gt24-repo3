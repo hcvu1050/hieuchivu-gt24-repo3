{
 "cells": [
  {
   "cell_type": "code",
   "execution_count": 1,
   "metadata": {},
   "outputs": [],
   "source": [
    "import sys\n",
    "import pandas as pd\n",
    "sys.path.append ('..')"
   ]
  },
  {
   "cell_type": "code",
   "execution_count": 2,
   "metadata": {},
   "outputs": [],
   "source": [
    "t_df = pd.read_pickle ('../data/processed/model1/processed_technnique_features.pkl')\n",
    "tactics_order= pd.read_csv ('../data/raw/tactics_order.csv', index_col= 0)"
   ]
  },
  {
   "cell_type": "code",
   "execution_count": 3,
   "metadata": {},
   "outputs": [],
   "source": [
    "from src.models.model1.recommend import *"
   ]
  },
  {
   "cell_type": "code",
   "execution_count": 4,
   "metadata": {},
   "outputs": [
    {
     "data": {
      "text/html": [
       "<div>\n",
       "<style scoped>\n",
       "    .dataframe tbody tr th:only-of-type {\n",
       "        vertical-align: middle;\n",
       "    }\n",
       "\n",
       "    .dataframe tbody tr th {\n",
       "        vertical-align: top;\n",
       "    }\n",
       "\n",
       "    .dataframe thead th {\n",
       "        text-align: right;\n",
       "    }\n",
       "</style>\n",
       "<table border=\"1\" class=\"dataframe\">\n",
       "  <thead>\n",
       "    <tr style=\"text-align: right;\">\n",
       "      <th></th>\n",
       "      <th>technique_ID</th>\n",
       "      <th>sorted_similar_techniques</th>\n",
       "      <th>technique_earliest_stage</th>\n",
       "      <th>technique_latest_stage</th>\n",
       "    </tr>\n",
       "  </thead>\n",
       "  <tbody>\n",
       "    <tr>\n",
       "      <th>0</th>\n",
       "      <td>T1548</td>\n",
       "      <td>[T1020, T1480, T1567.001, T1070, T1565.002, T1...</td>\n",
       "      <td>4</td>\n",
       "      <td>5</td>\n",
       "    </tr>\n",
       "    <tr>\n",
       "      <th>1</th>\n",
       "      <td>T1548.002</td>\n",
       "      <td>[T1546.008, T1563, T1070.001, T1199, T1553.001...</td>\n",
       "      <td>4</td>\n",
       "      <td>5</td>\n",
       "    </tr>\n",
       "    <tr>\n",
       "      <th>2</th>\n",
       "      <td>T1548.004</td>\n",
       "      <td>[T1553.003, T1218.012, T1218.007, T1546.002, T...</td>\n",
       "      <td>4</td>\n",
       "      <td>5</td>\n",
       "    </tr>\n",
       "    <tr>\n",
       "      <th>3</th>\n",
       "      <td>T1548.001</td>\n",
       "      <td>[T1484.001, T1580, T1587.004, T1620, T1137.001...</td>\n",
       "      <td>4</td>\n",
       "      <td>5</td>\n",
       "    </tr>\n",
       "    <tr>\n",
       "      <th>4</th>\n",
       "      <td>T1548.003</td>\n",
       "      <td>[T1134.003, T1484.002, T1134.005, T1003.008, T...</td>\n",
       "      <td>4</td>\n",
       "      <td>5</td>\n",
       "    </tr>\n",
       "    <tr>\n",
       "      <th>...</th>\n",
       "      <td>...</td>\n",
       "      <td>...</td>\n",
       "      <td>...</td>\n",
       "      <td>...</td>\n",
       "    </tr>\n",
       "    <tr>\n",
       "      <th>602</th>\n",
       "      <td>T1102.002</td>\n",
       "      <td>[T1012, T1133, T1574.002, T1562.001, T1036.004...</td>\n",
       "      <td>10</td>\n",
       "      <td>10</td>\n",
       "    </tr>\n",
       "    <tr>\n",
       "      <th>603</th>\n",
       "      <td>T1102.001</td>\n",
       "      <td>[T1564.004, T1601.002, T1110.001, T1556, T1547...</td>\n",
       "      <td>10</td>\n",
       "      <td>10</td>\n",
       "    </tr>\n",
       "    <tr>\n",
       "      <th>604</th>\n",
       "      <td>T1102.003</td>\n",
       "      <td>[T1568.003, T1563.001, T1567, T1588.003, T1601...</td>\n",
       "      <td>10</td>\n",
       "      <td>10</td>\n",
       "    </tr>\n",
       "    <tr>\n",
       "      <th>605</th>\n",
       "      <td>T1047</td>\n",
       "      <td>[T1583.001, T1059.007, T1046, T1505.003, T1112...</td>\n",
       "      <td>2</td>\n",
       "      <td>2</td>\n",
       "    </tr>\n",
       "    <tr>\n",
       "      <th>606</th>\n",
       "      <td>T1220</td>\n",
       "      <td>[T1207, T1546.014, T1559, T1197, T1070.003, T1...</td>\n",
       "      <td>5</td>\n",
       "      <td>5</td>\n",
       "    </tr>\n",
       "  </tbody>\n",
       "</table>\n",
       "<p>607 rows × 4 columns</p>\n",
       "</div>"
      ],
      "text/plain": [
       "    technique_ID                          sorted_similar_techniques  \\\n",
       "0          T1548  [T1020, T1480, T1567.001, T1070, T1565.002, T1...   \n",
       "1      T1548.002  [T1546.008, T1563, T1070.001, T1199, T1553.001...   \n",
       "2      T1548.004  [T1553.003, T1218.012, T1218.007, T1546.002, T...   \n",
       "3      T1548.001  [T1484.001, T1580, T1587.004, T1620, T1137.001...   \n",
       "4      T1548.003  [T1134.003, T1484.002, T1134.005, T1003.008, T...   \n",
       "..           ...                                                ...   \n",
       "602    T1102.002  [T1012, T1133, T1574.002, T1562.001, T1036.004...   \n",
       "603    T1102.001  [T1564.004, T1601.002, T1110.001, T1556, T1547...   \n",
       "604    T1102.003  [T1568.003, T1563.001, T1567, T1588.003, T1601...   \n",
       "605        T1047  [T1583.001, T1059.007, T1046, T1505.003, T1112...   \n",
       "606        T1220  [T1207, T1546.014, T1559, T1197, T1070.003, T1...   \n",
       "\n",
       "     technique_earliest_stage  technique_latest_stage  \n",
       "0                           4                       5  \n",
       "1                           4                       5  \n",
       "2                           4                       5  \n",
       "3                           4                       5  \n",
       "4                           4                       5  \n",
       "..                        ...                     ...  \n",
       "602                        10                      10  \n",
       "603                        10                      10  \n",
       "604                        10                      10  \n",
       "605                         2                       2  \n",
       "606                         5                       5  \n",
       "\n",
       "[607 rows x 4 columns]"
      ]
     },
     "execution_count": 4,
     "metadata": {},
     "output_type": "execute_result"
    }
   ],
   "source": [
    "look_up_table = pd.read_pickle ('../data/lookup_tables/m06c_test1.pkl')\n",
    "look_up_table"
   ]
  },
  {
   "cell_type": "code",
   "execution_count": 5,
   "metadata": {},
   "outputs": [
    {
     "data": {
      "text/plain": [
       "(2, 10)"
      ]
     },
     "execution_count": 5,
     "metadata": {},
     "output_type": "execute_result"
    }
   ],
   "source": [
    "interacted_techniques = [\n",
    "    'T1548', 'T1102.002', 'T1047'\n",
    "]\n",
    "get_interacted_tactic_range (interacted_techniques, look_up_table)"
   ]
  },
  {
   "cell_type": "code",
   "execution_count": 20,
   "metadata": {},
   "outputs": [
    {
     "data": {
      "text/plain": [
       "81"
      ]
     },
     "execution_count": 20,
     "metadata": {},
     "output_type": "execute_result"
    }
   ],
   "source": [
    "len(get_cadidate_techniques (interacted_techniques, look_up_table, n = 300, mode = 'latest'))"
   ]
  },
  {
   "cell_type": "code",
   "execution_count": null,
   "metadata": {},
   "outputs": [],
   "source": []
  }
 ],
 "metadata": {
  "kernelspec": {
   "display_name": "hcv-gt24-env",
   "language": "python",
   "name": "python3"
  },
  "language_info": {
   "codemirror_mode": {
    "name": "ipython",
    "version": 3
   },
   "file_extension": ".py",
   "mimetype": "text/x-python",
   "name": "python",
   "nbconvert_exporter": "python",
   "pygments_lexer": "ipython3",
   "version": "3.11.4"
  }
 },
 "nbformat": 4,
 "nbformat_minor": 2
}
