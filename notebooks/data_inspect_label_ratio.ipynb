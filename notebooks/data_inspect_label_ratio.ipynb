{
 "cells": [
  {
   "cell_type": "code",
   "execution_count": 6,
   "metadata": {},
   "outputs": [],
   "source": [
    "import pandas as pd"
   ]
  },
  {
   "cell_type": "code",
   "execution_count": 7,
   "metadata": {},
   "outputs": [],
   "source": [
    "train_y_df = pd.read_csv ('../data/processed/model1/train_y_split.csv')\n",
    "# train_cv_y_df = pd.read_csv ('../data/processed/model1/train_cv_y_split.csv')\n",
    "cv_y_df = pd.read_csv ('../data/processed/model1/cv_y_split.csv')\n",
    "test_y_df = pd.read_csv ('../data/processed/model1/test_y_split.csv')"
   ]
  },
  {
   "cell_type": "code",
   "execution_count": 8,
   "metadata": {},
   "outputs": [
    {
     "name": "stdout",
     "output_type": "stream",
     "text": [
      "(23139, 3) no. of groups: 61\n",
      "label\n",
      "0.0    21198\n",
      "1.0     1941\n",
      "Name: count, dtype: int64\n",
      "(4743, 3) no. of groups: 13\n",
      "label\n",
      "0.0    4333\n",
      "1.0     410\n",
      "Name: count, dtype: int64\n",
      "(5033, 3) no. of groups: 14\n",
      "label\n",
      "0.0    4575\n",
      "1.0     458\n",
      "Name: count, dtype: int64\n"
     ]
    }
   ],
   "source": [
    "for df in [train_y_df,cv_y_df, test_y_df]:\n",
    "    print (df.shape, 'no. of groups: {n}'.format(n =  df['group_ID'].nunique()))\n",
    "    print (df['label'].value_counts())"
   ]
  },
  {
   "cell_type": "code",
   "execution_count": 9,
   "metadata": {},
   "outputs": [],
   "source": [
    "train_y_resampled_df = pd.read_csv ('../data/processed/model1/train_y_resampled.csv')\n",
    "# train_cv_y_resampled_df = pd.read_csv ('../data/processed/model1/train_cv_y_resampled.csv')"
   ]
  },
  {
   "cell_type": "markdown",
   "metadata": {},
   "source": []
  },
  {
   "cell_type": "code",
   "execution_count": 10,
   "metadata": {},
   "outputs": [
    {
     "name": "stdout",
     "output_type": "stream",
     "text": [
      "(11646, 3) no. of groups: 61\n",
      "label\n",
      "0.0    9705\n",
      "1.0    1941\n",
      "Name: count, dtype: int64\n"
     ]
    }
   ],
   "source": [
    "for df in [train_y_resampled_df]:\n",
    "    print (df.shape, 'no. of groups: {n}'.format(n =  df['group_ID'].nunique()))\n",
    "    print (df['label'].value_counts())"
   ]
  }
 ],
 "metadata": {
  "kernelspec": {
   "display_name": "hcv-gt24-env",
   "language": "python",
   "name": "python3"
  },
  "language_info": {
   "codemirror_mode": {
    "name": "ipython",
    "version": 3
   },
   "file_extension": ".py",
   "mimetype": "text/x-python",
   "name": "python",
   "nbconvert_exporter": "python",
   "pygments_lexer": "ipython3",
   "version": "3.11.4"
  }
 },
 "nbformat": 4,
 "nbformat_minor": 2
}
