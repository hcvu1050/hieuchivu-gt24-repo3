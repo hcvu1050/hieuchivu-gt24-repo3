{
 "cells": [
  {
   "cell_type": "markdown",
   "metadata": {},
   "source": [
    "Filtering Most Frequent Features to reduce high cardinality"
   ]
  },
  {
   "cell_type": "code",
   "execution_count": 11,
   "metadata": {},
   "outputs": [],
   "source": [
    "import pandas as pd\n",
    "import numpy as np\n",
    "import sys\n",
    "sys.path.append ('..')\n",
    "from src.data.limit_cardinality import reduce_vals_based_on_percentage"
   ]
  },
  {
   "cell_type": "code",
   "execution_count": 2,
   "metadata": {},
   "outputs": [],
   "source": [
    "techniques_df = pd.read_pickle ('../data/interim/X_technique.pkl')\n",
    "groups_df = pd.read_pickle ('../data/interim/X_group.pkl')\n",
    "\n",
    "techniques_org_df = pd.read_pickle ('../data/interim/X_technique_org.pkl')\n",
    "groups_org_df = pd.read_pickle ('../data/interim/X_group_org.pkl')"
   ]
  },
  {
   "cell_type": "code",
   "execution_count": 3,
   "metadata": {},
   "outputs": [],
   "source": [
    "from statistics import mode\n",
    "def get_feature_length_stats(df: pd.DataFrame()):\n",
    "    for col in list (df.columns)[1:]:\n",
    "        list_lengths = df[col].apply(lambda x: len(x))\n",
    "        avg_len = list_lengths.mean()\n",
    "        mode_len = mode(list_lengths)\n",
    "        max_len = list_lengths.max()\n",
    "        print ('{col} \\tmean_len: {mean_len}\\tmode_len: {mode_len}\\tmax_len: {max_len}'.format(col = col, mean_len= avg_len, mode_len = mode_len, max_len = max_len))\n",
    "        \n",
    "def get_vocab_size (df: pd.DataFrame):\n",
    "    for feature_name in df.columns[1:]:\n",
    "        vocab_size = len(df[feature_name].explode().unique())\n",
    "        print ('{feature_name}: vocab size = {vocab_size}'.format (feature_name = feature_name, vocab_size = vocab_size))"
   ]
  },
  {
   "cell_type": "code",
   "execution_count": 4,
   "metadata": {},
   "outputs": [
    {
     "name": "stdout",
     "output_type": "stream",
     "text": [
      "input_technique_platforms \tmean_len: 2.510708401976936\tmode_len: 1\tmax_len: 10\n",
      "input_technique_tactics \tmean_len: 1.2932454695222406\tmode_len: 1\tmax_len: 4\n",
      "input_technique_data_sources \tmean_len: 3.154859967051071\tmode_len: 3\tmax_len: 14\n",
      "input_technique_defenses_bypassed \tmean_len: 1.2289950576606261\tmode_len: 1\tmax_len: 8\n",
      "input_technique_permissions_required \tmean_len: 1.1894563426688634\tmode_len: 1\tmax_len: 4\n",
      "input_technique_mitigation_id \tmean_len: 2.1301482701812193\tmode_len: 1\tmax_len: 11\n",
      "input_technique_detection_name \tmean_len: 3.154859967051071\tmode_len: 3\tmax_len: 14\n",
      "input_technique_software_id \tmean_len: 14.179571663920923\tmode_len: 1\tmax_len: 334\n",
      "input_technique_description \tmean_len: 1044.9093904448105\tmode_len: 750\tmax_len: 4381\n",
      "input_technique_platforms: vocab size = 11\n",
      "input_technique_tactics: vocab size = 14\n",
      "input_technique_data_sources: vocab size = 106\n",
      "input_technique_defenses_bypassed: vocab size = 25\n",
      "input_technique_permissions_required: vocab size = 6\n",
      "input_technique_mitigation_id: vocab size = 44\n",
      "input_technique_detection_name: vocab size = 106\n",
      "input_technique_software_id: vocab size = 636\n",
      "input_technique_description: vocab size = 607\n"
     ]
    }
   ],
   "source": [
    "get_feature_length_stats(df = techniques_org_df)\n",
    "get_vocab_size (techniques_org_df)"
   ]
  },
  {
   "cell_type": "code",
   "execution_count": 20,
   "metadata": {},
   "outputs": [
    {
     "name": "stdout",
     "output_type": "stream",
     "text": [
      "input_technique_platforms \tmean_len: 2.510708401976936\tmode_len: 1\tmax_len: 10\n",
      "input_technique_tactics \tmean_len: 1.2932454695222406\tmode_len: 1\tmax_len: 4\n",
      "input_technique_data_sources \tmean_len: 3.154859967051071\tmode_len: 3\tmax_len: 14\n",
      "input_technique_defenses_bypassed \tmean_len: 1.2289950576606261\tmode_len: 1\tmax_len: 8\n",
      "input_technique_permissions_required \tmean_len: 1.1894563426688634\tmode_len: 1\tmax_len: 4\n",
      "input_technique_mitigation_id \tmean_len: 2.1301482701812193\tmode_len: 1\tmax_len: 11\n",
      "input_technique_detection_name \tmean_len: 3.154859967051071\tmode_len: 3\tmax_len: 14\n",
      "input_technique_software_id \tmean_len: 9.919275123558485\tmode_len: 1\tmax_len: 186\n",
      "input_technique_description \tmean_len: 768.0\tmode_len: 768\tmax_len: 768\n"
     ]
    }
   ],
   "source": [
    "get_feature_length_stats(res_df)"
   ]
  }
 ],
 "metadata": {
  "kernelspec": {
   "display_name": "hcv-gt24-env",
   "language": "python",
   "name": "python3"
  },
  "language_info": {
   "codemirror_mode": {
    "name": "ipython",
    "version": 3
   },
   "file_extension": ".py",
   "mimetype": "text/x-python",
   "name": "python",
   "nbconvert_exporter": "python",
   "pygments_lexer": "ipython3",
   "version": "3.11.4"
  }
 },
 "nbformat": 4,
 "nbformat_minor": 2
}
