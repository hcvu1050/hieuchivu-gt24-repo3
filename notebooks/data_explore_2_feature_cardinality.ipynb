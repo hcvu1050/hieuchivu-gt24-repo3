{
 "cells": [
  {
   "cell_type": "markdown",
   "metadata": {},
   "source": [
    "Filtering Most Frequent Features to reduce high cardinality"
   ]
  },
  {
   "cell_type": "code",
   "execution_count": 1,
   "metadata": {},
   "outputs": [],
   "source": [
    "import pandas as pd\n",
    "import numpy as np"
   ]
  },
  {
   "cell_type": "code",
   "execution_count": 2,
   "metadata": {},
   "outputs": [],
   "source": [
    "techniques_df = pd.read_pickle ('../data/interim/X_technique.pkl')\n",
    "groups_df = pd.read_pickle ('../data/interim/X_group.pkl')\n",
    "\n",
    "techniques_org_df = pd.read_pickle ('../data/interim/X_technique_org.pkl')\n",
    "groups_org_df = pd.read_pickle ('../data/interim/X_group_org.pkl')"
   ]
  },
  {
   "cell_type": "code",
   "execution_count": 3,
   "metadata": {},
   "outputs": [],
   "source": [
    "from statistics import mode\n",
    "def get_feature_length_stats(df: pd.DataFrame()):\n",
    "    for col in list (df.columns)[1:]:\n",
    "        list_lengths = df[col].apply(lambda x: len(x))\n",
    "        avg_len = list_lengths.mean()\n",
    "        mode_len = mode(list_lengths)\n",
    "        max_len = list_lengths.max()\n",
    "        print ('{col} \\tmean_len: {mean_len}\\tmode_len: {mode_len}\\tmax_len: {max_len}'.format(col = col, mean_len= avg_len, mode_len = mode_len, max_len = max_len))\n",
    "        \n",
    "def get_vocab_size (df: pd.DataFrame):\n",
    "    for feature_name in df.columns[1:]:\n",
    "        vocab_size = len(df[feature_name].explode().unique())\n",
    "        print ('{feature_name}: vocab size = {vocab_size}'.format (feature_name = feature_name, vocab_size = vocab_size))"
   ]
  },
  {
   "cell_type": "code",
   "execution_count": 4,
   "metadata": {},
   "outputs": [
    {
     "name": "stdout",
     "output_type": "stream",
     "text": [
      "input_technique_platforms \tmean_len: 2.510708401976936\tmode_len: 1\tmax_len: 10\n",
      "input_technique_tactics \tmean_len: 1.2932454695222406\tmode_len: 1\tmax_len: 4\n",
      "input_technique_data_sources \tmean_len: 3.154859967051071\tmode_len: 3\tmax_len: 14\n",
      "input_technique_defenses_bypassed \tmean_len: 1.2289950576606261\tmode_len: 1\tmax_len: 8\n",
      "input_technique_permissions_required \tmean_len: 1.1894563426688634\tmode_len: 1\tmax_len: 4\n",
      "input_technique_mitigation_id \tmean_len: 2.1301482701812193\tmode_len: 1\tmax_len: 11\n",
      "input_technique_detection_name \tmean_len: 3.154859967051071\tmode_len: 3\tmax_len: 14\n",
      "input_technique_software_id \tmean_len: 14.179571663920923\tmode_len: 1\tmax_len: 334\n",
      "input_technique_description \tmean_len: 1044.9093904448105\tmode_len: 750\tmax_len: 4381\n",
      "input_technique_platforms: vocab size = 11\n",
      "input_technique_tactics: vocab size = 14\n",
      "input_technique_data_sources: vocab size = 106\n",
      "input_technique_defenses_bypassed: vocab size = 25\n",
      "input_technique_permissions_required: vocab size = 6\n",
      "input_technique_mitigation_id: vocab size = 44\n",
      "input_technique_detection_name: vocab size = 106\n",
      "input_technique_software_id: vocab size = 636\n",
      "input_technique_description: vocab size = 607\n"
     ]
    }
   ],
   "source": [
    "get_feature_length_stats(df = techniques_org_df)\n",
    "get_vocab_size (techniques_org_df)"
   ]
  },
  {
   "cell_type": "code",
   "execution_count": 5,
   "metadata": {},
   "outputs": [
    {
     "data": {
      "text/plain": [
       "(768,)"
      ]
     },
     "execution_count": 5,
     "metadata": {},
     "output_type": "execute_result"
    }
   ],
   "source": [
    "techniques_df['input_technique_description'].iloc[7].shape"
   ]
  },
  {
   "cell_type": "code",
   "execution_count": 6,
   "metadata": {},
   "outputs": [
    {
     "data": {
      "text/plain": [
       "input_technique_software_id\n",
       "         201\n",
       "s0363     72\n",
       "s0260     72\n",
       "s0154     72\n",
       "s0650     71\n",
       "        ... \n",
       "s0112      1\n",
       "s0001      1\n",
       "s0016      1\n",
       "s0014      1\n",
       "s0026      1\n",
       "Name: count, Length: 636, dtype: int64"
      ]
     },
     "execution_count": 6,
     "metadata": {},
     "output_type": "execute_result"
    }
   ],
   "source": [
    "techniques_df['input_technique_software_id'].explode().value_counts()"
   ]
  },
  {
   "cell_type": "code",
   "execution_count": 7,
   "metadata": {},
   "outputs": [
    {
     "name": "stdout",
     "output_type": "stream",
     "text": [
      "input_technique_data_sources \tmean_len: 3.154859967051071\tmode_len: 3\tmax_len: 14\n",
      "input_technique_defenses_bypassed \tmean_len: 1.2289950576606261\tmode_len: 1\tmax_len: 8\n",
      "input_technique_detection_name \tmean_len: 3.154859967051071\tmode_len: 3\tmax_len: 14\n",
      "input_technique_mitigation_id \tmean_len: 2.1301482701812193\tmode_len: 1\tmax_len: 11\n",
      "input_technique_permissions_required \tmean_len: 1.1894563426688634\tmode_len: 1\tmax_len: 4\n",
      "input_technique_platforms \tmean_len: 2.510708401976936\tmode_len: 1\tmax_len: 10\n",
      "input_technique_software_id \tmean_len: 14.179571663920923\tmode_len: 1\tmax_len: 334\n",
      "input_technique_tactics \tmean_len: 1.2932454695222406\tmode_len: 1\tmax_len: 4\n",
      "input_technique_description \tmean_len: 768.0\tmode_len: 768\tmax_len: 768\n",
      "input_technique_data_sources: vocab size = 106\n",
      "input_technique_defenses_bypassed: vocab size = 25\n",
      "input_technique_detection_name: vocab size = 106\n",
      "input_technique_mitigation_id: vocab size = 44\n",
      "input_technique_permissions_required: vocab size = 6\n",
      "input_technique_platforms: vocab size = 11\n",
      "input_technique_software_id: vocab size = 636\n",
      "input_technique_tactics: vocab size = 14\n",
      "input_technique_description: vocab size = 464544\n"
     ]
    }
   ],
   "source": [
    "get_feature_length_stats(df = techniques_df)\n",
    "get_vocab_size (techniques_df)"
   ]
  },
  {
   "cell_type": "code",
   "execution_count": 8,
   "metadata": {},
   "outputs": [
    {
     "name": "stdout",
     "output_type": "stream",
     "text": [
      "input_group_software_id \tmean_len: 6.1911764705882355\tmode_len: 1\tmax_len: 46\n",
      "input_group_description \tmean_len: 768.0\tmode_len: 768\tmax_len: 768\n",
      "input_group_software_id: vocab size = 464\n",
      "input_group_description: vocab size = 104378\n"
     ]
    }
   ],
   "source": [
    "get_feature_length_stats(df = groups_df)\n",
    "get_vocab_size (groups_df)"
   ]
  },
  {
   "cell_type": "code",
   "execution_count": 9,
   "metadata": {},
   "outputs": [
    {
     "data": {
      "text/html": [
       "<div>\n",
       "<style scoped>\n",
       "    .dataframe tbody tr th:only-of-type {\n",
       "        vertical-align: middle;\n",
       "    }\n",
       "\n",
       "    .dataframe tbody tr th {\n",
       "        vertical-align: top;\n",
       "    }\n",
       "\n",
       "    .dataframe thead th {\n",
       "        text-align: right;\n",
       "    }\n",
       "</style>\n",
       "<table border=\"1\" class=\"dataframe\">\n",
       "  <thead>\n",
       "    <tr style=\"text-align: right;\">\n",
       "      <th></th>\n",
       "      <th>group_ID</th>\n",
       "      <th>input_group_software_id</th>\n",
       "      <th>input_group_description</th>\n",
       "    </tr>\n",
       "  </thead>\n",
       "  <tbody>\n",
       "    <tr>\n",
       "      <th>0</th>\n",
       "      <td>G0099</td>\n",
       "      <td>[s0434]</td>\n",
       "      <td>[-0.41692165, -0.26227784, -0.47415727, 0.0276...</td>\n",
       "    </tr>\n",
       "    <tr>\n",
       "      <th>1</th>\n",
       "      <td>G0006</td>\n",
       "      <td>[s0017, s0025, s0119, s0026, s0121, s0002, s00...</td>\n",
       "      <td>[-0.6153141, 0.07517785, -0.5039633, -0.243659...</td>\n",
       "    </tr>\n",
       "    <tr>\n",
       "      <th>2</th>\n",
       "      <td>G0005</td>\n",
       "      <td>[s0040, s0015, s0003]</td>\n",
       "      <td>[-0.32223642, 0.029669948, -0.7427179, -0.0198...</td>\n",
       "    </tr>\n",
       "    <tr>\n",
       "      <th>3</th>\n",
       "      <td>G0023</td>\n",
       "      <td>[s0064]</td>\n",
       "      <td>[-0.39972576, -0.06616345, -0.55075675, -0.038...</td>\n",
       "    </tr>\n",
       "    <tr>\n",
       "      <th>4</th>\n",
       "      <td>G0025</td>\n",
       "      <td>[s0069]</td>\n",
       "      <td>[-0.608141, -0.007160956, -0.7598587, 0.167140...</td>\n",
       "    </tr>\n",
       "    <tr>\n",
       "      <th>...</th>\n",
       "      <td>...</td>\n",
       "      <td>...</td>\n",
       "      <td>...</td>\n",
       "    </tr>\n",
       "    <tr>\n",
       "      <th>131</th>\n",
       "      <td>G0044</td>\n",
       "      <td>[s0501, s0013, s0141]</td>\n",
       "      <td>[-0.3997315, 0.011453139, -0.5749509, -0.17962...</td>\n",
       "    </tr>\n",
       "    <tr>\n",
       "      <th>132</th>\n",
       "      <td>G0102</td>\n",
       "      <td>[s0552, s0534, s0521, s0154, s0575, s0024, s03...</td>\n",
       "      <td>[-0.27592593, -0.100573234, -0.37286678, -0.02...</td>\n",
       "    </tr>\n",
       "    <tr>\n",
       "      <th>133</th>\n",
       "      <td>G0128</td>\n",
       "      <td>[]</td>\n",
       "      <td>[-0.48862642, -0.18858606, -0.5323841, -0.0883...</td>\n",
       "    </tr>\n",
       "    <tr>\n",
       "      <th>134</th>\n",
       "      <td>G0018</td>\n",
       "      <td>[s0043, s0042, s0039, s0012, s0096, s0100, s0104]</td>\n",
       "      <td>[-0.2925966, 0.0350828, -0.64397854, 0.130665,...</td>\n",
       "    </tr>\n",
       "    <tr>\n",
       "      <th>135</th>\n",
       "      <td>G0045</td>\n",
       "      <td>[s0552, s0144, s0154, s0624, s0152, s0628, s03...</td>\n",
       "      <td>[-0.73226637, -0.113698326, -1.0054364, -0.120...</td>\n",
       "    </tr>\n",
       "  </tbody>\n",
       "</table>\n",
       "<p>136 rows × 3 columns</p>\n",
       "</div>"
      ],
      "text/plain": [
       "    group_ID                            input_group_software_id  \\\n",
       "0      G0099                                            [s0434]   \n",
       "1      G0006  [s0017, s0025, s0119, s0026, s0121, s0002, s00...   \n",
       "2      G0005                              [s0040, s0015, s0003]   \n",
       "3      G0023                                            [s0064]   \n",
       "4      G0025                                            [s0069]   \n",
       "..       ...                                                ...   \n",
       "131    G0044                              [s0501, s0013, s0141]   \n",
       "132    G0102  [s0552, s0534, s0521, s0154, s0575, s0024, s03...   \n",
       "133    G0128                                                 []   \n",
       "134    G0018  [s0043, s0042, s0039, s0012, s0096, s0100, s0104]   \n",
       "135    G0045  [s0552, s0144, s0154, s0624, s0152, s0628, s03...   \n",
       "\n",
       "                               input_group_description  \n",
       "0    [-0.41692165, -0.26227784, -0.47415727, 0.0276...  \n",
       "1    [-0.6153141, 0.07517785, -0.5039633, -0.243659...  \n",
       "2    [-0.32223642, 0.029669948, -0.7427179, -0.0198...  \n",
       "3    [-0.39972576, -0.06616345, -0.55075675, -0.038...  \n",
       "4    [-0.608141, -0.007160956, -0.7598587, 0.167140...  \n",
       "..                                                 ...  \n",
       "131  [-0.3997315, 0.011453139, -0.5749509, -0.17962...  \n",
       "132  [-0.27592593, -0.100573234, -0.37286678, -0.02...  \n",
       "133  [-0.48862642, -0.18858606, -0.5323841, -0.0883...  \n",
       "134  [-0.2925966, 0.0350828, -0.64397854, 0.130665,...  \n",
       "135  [-0.73226637, -0.113698326, -1.0054364, -0.120...  \n",
       "\n",
       "[136 rows x 3 columns]"
      ]
     },
     "execution_count": 9,
     "metadata": {},
     "output_type": "execute_result"
    }
   ],
   "source": [
    "groups_df"
   ]
  }
 ],
 "metadata": {
  "kernelspec": {
   "display_name": "hcv-gt24-env",
   "language": "python",
   "name": "python3"
  },
  "language_info": {
   "codemirror_mode": {
    "name": "ipython",
    "version": 3
   },
   "file_extension": ".py",
   "mimetype": "text/x-python",
   "name": "python",
   "nbconvert_exporter": "python",
   "pygments_lexer": "ipython3",
   "version": "3.11.4"
  }
 },
 "nbformat": 4,
 "nbformat_minor": 2
}
