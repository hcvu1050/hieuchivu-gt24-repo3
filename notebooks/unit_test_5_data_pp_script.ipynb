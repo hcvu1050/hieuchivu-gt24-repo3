{
 "cells": [
  {
   "cell_type": "code",
   "execution_count": 1,
   "metadata": {},
   "outputs": [],
   "source": [
    "import pandas as pd"
   ]
  },
  {
   "cell_type": "markdown",
   "metadata": {},
   "source": [
    "- Examine the exported tables"
   ]
  },
  {
   "cell_type": "code",
   "execution_count": 2,
   "metadata": {},
   "outputs": [],
   "source": [
    "g = pd.read_pickle ('../data/interim/X_group.pkl')\n",
    "t = pd.read_pickle ('../data/interim/X_technique.pkl')\n",
    "y = pd.read_pickle ('../data/interim/y_cleaned.pkl')"
   ]
  },
  {
   "cell_type": "code",
   "execution_count": 24,
   "metadata": {},
   "outputs": [
    {
     "name": "stdout",
     "output_type": "stream",
     "text": [
      "(3052, 3)\n"
     ]
    },
    {
     "data": {
      "text/plain": [
       "243"
      ]
     },
     "execution_count": 24,
     "metadata": {},
     "output_type": "execute_result"
    }
   ],
   "source": [
    "y_pos = y[y['label']== 1]\n",
    "print (y_pos.shape)\n",
    "group_counts = y_pos['group_ID'].value_counts()\n",
    "group_counts[group_counts <10].sum()\n"
   ]
  },
  {
   "cell_type": "code",
   "execution_count": 4,
   "metadata": {},
   "outputs": [],
   "source": [
    "def get_emtpy_instance_percentage (df, feature_name):\n",
    "    value_counts = df[feature_name].value_counts()\n",
    "    blank_list_count = 0\n",
    "    for value,count in value_counts.items():\n",
    "        if value == ['']: \n",
    "            blank_list_count = count\n",
    "            break\n",
    "    print (\"empty instance percentage: \", blank_list_count/ len(df) *100)\n"
   ]
  },
  {
   "cell_type": "code",
   "execution_count": 5,
   "metadata": {},
   "outputs": [
    {
     "name": "stdout",
     "output_type": "stream",
     "text": [
      "----- input_technique_platforms\n",
      "empty instance percentage:  0.0\n",
      "----- input_technique_tactics\n",
      "empty instance percentage:  0.0\n",
      "----- input_technique_data_sources\n",
      "empty instance percentage:  6.425041186161449\n",
      "----- input_technique_defenses_bypassed\n",
      "empty instance percentage:  83.03130148270182\n",
      "----- input_technique_permissions_required\n",
      "empty instance percentage:  66.88632619439868\n",
      "----- input_technique_mitigation_id\n",
      "empty instance percentage:  15.32125205930807\n",
      "----- input_technique_detection_name\n",
      "empty instance percentage:  6.425041186161449\n",
      "----- input_technique_software_id\n",
      "empty instance percentage:  33.113673805601316\n"
     ]
    }
   ],
   "source": [
    "for feature_name in t.columns[1:-1]:\n",
    "    print ('-----', feature_name)\n",
    "    get_emtpy_instance_percentage (t, feature_name)"
   ]
  },
  {
   "cell_type": "code",
   "execution_count": 6,
   "metadata": {},
   "outputs": [
    {
     "name": "stdout",
     "output_type": "stream",
     "text": [
      "-------- input_technique_platforms\n",
      "input_technique_platforms\n",
      "windows             421\n",
      "macos               303\n",
      "linux               295\n",
      "pre                  88\n",
      "iaas                 84\n",
      "office_365           72\n",
      "network              65\n",
      "saas                 58\n",
      "google_workspace     56\n",
      "azure_ad             46\n",
      "containers           36\n",
      "Name: count, dtype: int64\n",
      "-------- input_technique_tactics\n",
      "input_technique_tactics\n",
      "defense_evasion         184\n",
      "persistence             113\n",
      "privilege_escalation     96\n",
      "credential_access        63\n",
      "resource_development     45\n",
      "discovery                44\n",
      "reconnaissance           43\n",
      "command_and_control      39\n",
      "collection               37\n",
      "execution                36\n",
      "impact                   26\n",
      "lateral_movement         22\n",
      "initial_access           19\n",
      "exfiltration             18\n",
      "Name: count, dtype: int64\n",
      "-------- input_technique_data_sources\n",
      "input_technique_data_sources\n",
      "command_command_execution                  268\n",
      "process_process_creation                   226\n",
      "network_traffic_network_traffic_content    108\n",
      "file_file_modification                     104\n",
      "process_os_api_execution                    94\n",
      "                                          ... \n",
      "container_container_enumeration              1\n",
      "volume_volume_enumeration                    1\n",
      "snapshot_snapshot_enumeration                1\n",
      "instance_instance_enumeration                1\n",
      "cloud_storage_cloud_storage_metadata         1\n",
      "Name: count, Length: 106, dtype: int64\n",
      "-------- input_technique_defenses_bypassed\n",
      "input_technique_defenses_bypassed\n",
      "                                      504\n",
      "anti_virus                             49\n",
      "application_control                    46\n",
      "host_forensic_analysis                 19\n",
      "digital_certificate_validation         19\n",
      "signature_based_detection              16\n",
      "host_intrusion_prevention_systems      16\n",
      "system_access_controls                 14\n",
      "log_analysis                           10\n",
      "static_file_analysis                   10\n",
      "file_monitoring                         8\n",
      "windows_user_account_control            7\n",
      "file_system_access_controls             6\n",
      "firewall                                5\n",
      "heuristic_detection                     3\n",
      "user_mode_signature_validation          3\n",
      "network_intrusion_detection_system      2\n",
      "autoruns_analysis                       2\n",
      "gatekeeper                              1\n",
      "notarization                            1\n",
      "multi_factor_authentication             1\n",
      "binary_analysis                         1\n",
      "web_content_filters                     1\n",
      "defensive_network_service_scanning      1\n",
      "encryption                              1\n",
      "Name: count, dtype: int64\n",
      "-------- input_technique_permissions_required\n",
      "input_technique_permissions_required\n",
      "                        406\n",
      "user                    137\n",
      "administrator           109\n",
      "system                   43\n",
      "root                     26\n",
      "remote_desktop_users      1\n",
      "Name: count, dtype: int64\n",
      "-------- input_technique_mitigation_id\n",
      "input_technique_mitigation_id\n",
      "m1026    105\n",
      "          93\n",
      "m1018     89\n",
      "m1056     82\n",
      "m1047     78\n",
      "m1038     66\n",
      "m1042     59\n",
      "m1022     56\n",
      "m1031     55\n",
      "m1040     46\n",
      "m1027     44\n",
      "m1017     41\n",
      "m1032     41\n",
      "m1037     40\n",
      "m1028     39\n",
      "m1030     35\n",
      "m1051     32\n",
      "m1041     29\n",
      "m1054     24\n",
      "m1021     23\n",
      "m1024     20\n",
      "m1045     20\n",
      "m1035     16\n",
      "m1049     15\n",
      "m1015     14\n",
      "m1048     12\n",
      "m1029     11\n",
      "m1046     11\n",
      "m1050     11\n",
      "m1053      9\n",
      "m1057      9\n",
      "m1013      9\n",
      "m1043      8\n",
      "m1036      7\n",
      "m1025      7\n",
      "m1052      7\n",
      "m1033      6\n",
      "m1016      5\n",
      "m1020      4\n",
      "m1034      4\n",
      "m1019      4\n",
      "m1044      3\n",
      "m1055      2\n",
      "m1039      2\n",
      "Name: count, dtype: int64\n",
      "-------- input_technique_detection_name\n",
      "input_technique_detection_name\n",
      "command_execution          268\n",
      "process_creation           226\n",
      "network_traffic_content    108\n",
      "file_modification          104\n",
      "os_api_execution            94\n",
      "                          ... \n",
      "container_enumeration        1\n",
      "volume_enumeration           1\n",
      "snapshot_enumeration         1\n",
      "instance_enumeration         1\n",
      "cloud_storage_metadata       1\n",
      "Name: count, Length: 106, dtype: int64\n",
      "-------- input_technique_software_id\n",
      "input_technique_software_id\n",
      "         201\n",
      "s0363     72\n",
      "s0260     72\n",
      "s0154     72\n",
      "s0650     71\n",
      "        ... \n",
      "s0112      1\n",
      "s0001      1\n",
      "s0016      1\n",
      "s0014      1\n",
      "s0026      1\n",
      "Name: count, Length: 636, dtype: int64\n"
     ]
    }
   ],
   "source": [
    "for col in t.columns[1:-1]:\n",
    "    print ('--------',col)\n",
    "    feature_name = col\n",
    "    print (t.explode(feature_name)[feature_name].value_counts())"
   ]
  }
 ],
 "metadata": {
  "kernelspec": {
   "display_name": "hcv-gt24-env",
   "language": "python",
   "name": "python3"
  },
  "language_info": {
   "codemirror_mode": {
    "name": "ipython",
    "version": 3
   },
   "file_extension": ".py",
   "mimetype": "text/x-python",
   "name": "python",
   "nbconvert_exporter": "python",
   "pygments_lexer": "ipython3",
   "version": "3.11.4"
  }
 },
 "nbformat": 4,
 "nbformat_minor": 2
}
