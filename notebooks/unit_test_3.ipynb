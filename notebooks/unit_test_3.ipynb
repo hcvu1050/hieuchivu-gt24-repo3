{
 "cells": [
  {
   "cell_type": "code",
   "execution_count": 1,
   "metadata": {},
   "outputs": [],
   "source": [
    "import sys\n",
    "sys.path.append ('../')"
   ]
  },
  {
   "cell_type": "code",
   "execution_count": 2,
   "metadata": {},
   "outputs": [],
   "source": [
    "from src.data.build_features_3 import build_feature_sentence_embed"
   ]
  },
  {
   "cell_type": "code",
   "execution_count": 3,
   "metadata": {},
   "outputs": [],
   "source": [
    "import pandas as pd\n",
    "df = pd.read_pickle ('../data/interim/X_group_org.pkl')"
   ]
  },
  {
   "cell_type": "code",
   "execution_count": 4,
   "metadata": {},
   "outputs": [],
   "source": [
    "import tensorflow as tf\n",
    "from transformers import BertTokenizer, TFBertModel"
   ]
  },
  {
   "cell_type": "code",
   "execution_count": 5,
   "metadata": {},
   "outputs": [
    {
     "name": "stderr",
     "output_type": "stream",
     "text": [
      "Some weights of the PyTorch model were not used when initializing the TF 2.0 model TFBertModel: ['cls.predictions.bias', 'cls.predictions.transform.LayerNorm.weight', 'cls.predictions.transform.dense.bias', 'cls.predictions.transform.LayerNorm.bias', 'cls.seq_relationship.bias', 'cls.seq_relationship.weight', 'cls.predictions.transform.dense.weight']\n",
      "- This IS expected if you are initializing TFBertModel from a PyTorch model trained on another task or with another architecture (e.g. initializing a TFBertForSequenceClassification model from a BertForPreTraining model).\n",
      "- This IS NOT expected if you are initializing TFBertModel from a PyTorch model that you expect to be exactly identical (e.g. initializing a TFBertForSequenceClassification model from a BertForSequenceClassification model).\n",
      "All the weights of TFBertModel were initialized from the PyTorch model.\n",
      "If your task is similar to the task the model of the checkpoint was trained on, you can already use TFBertModel for predictions without further training.\n"
     ]
    }
   ],
   "source": [
    "tokenizer = BertTokenizer.from_pretrained('bert-base-uncased')\n",
    "\n",
    "embed_model = TFBertModel.from_pretrained('bert-base-uncased')"
   ]
  },
  {
   "cell_type": "code",
   "execution_count": 6,
   "metadata": {},
   "outputs": [],
   "source": [
    "df = build_feature_sentence_embed (df, 'input_group_description', tokenizer=tokenizer, embed_model=embed_model)"
   ]
  },
  {
   "cell_type": "code",
   "execution_count": 9,
   "metadata": {},
   "outputs": [
    {
     "data": {
      "text/plain": [
       "(768,)"
      ]
     },
     "execution_count": 9,
     "metadata": {},
     "output_type": "execute_result"
    }
   ],
   "source": [
    "df['input_group_description'].iloc[0].shape"
   ]
  },
  {
   "cell_type": "code",
   "execution_count": 8,
   "metadata": {},
   "outputs": [
    {
     "data": {
      "text/html": [
       "<div>\n",
       "<style scoped>\n",
       "    .dataframe tbody tr th:only-of-type {\n",
       "        vertical-align: middle;\n",
       "    }\n",
       "\n",
       "    .dataframe tbody tr th {\n",
       "        vertical-align: top;\n",
       "    }\n",
       "\n",
       "    .dataframe thead th {\n",
       "        text-align: right;\n",
       "    }\n",
       "</style>\n",
       "<table border=\"1\" class=\"dataframe\">\n",
       "  <thead>\n",
       "    <tr style=\"text-align: right;\">\n",
       "      <th></th>\n",
       "      <th>group_ID</th>\n",
       "      <th>input_group_software_id</th>\n",
       "      <th>input_group_description</th>\n",
       "    </tr>\n",
       "  </thead>\n",
       "  <tbody>\n",
       "    <tr>\n",
       "      <th>0</th>\n",
       "      <td>G0099</td>\n",
       "      <td>[s0434]</td>\n",
       "      <td>[-0.41692165, -0.26227784, -0.47415727, 0.0276...</td>\n",
       "    </tr>\n",
       "    <tr>\n",
       "      <th>1</th>\n",
       "      <td>G0006</td>\n",
       "      <td>[s0017, s0025, s0119, s0026, s0121, s0002, s00...</td>\n",
       "      <td>[-0.6153141, 0.07517785, -0.5039633, -0.243659...</td>\n",
       "    </tr>\n",
       "    <tr>\n",
       "      <th>2</th>\n",
       "      <td>G0005</td>\n",
       "      <td>[s0040, s0015, s0003]</td>\n",
       "      <td>[-0.32223642, 0.029669948, -0.7427179, -0.0198...</td>\n",
       "    </tr>\n",
       "    <tr>\n",
       "      <th>3</th>\n",
       "      <td>G0023</td>\n",
       "      <td>[s0064]</td>\n",
       "      <td>[-0.39972576, -0.06616345, -0.55075675, -0.038...</td>\n",
       "    </tr>\n",
       "    <tr>\n",
       "      <th>4</th>\n",
       "      <td>G0025</td>\n",
       "      <td>[s0069]</td>\n",
       "      <td>[-0.608141, -0.007160956, -0.7598587, 0.167140...</td>\n",
       "    </tr>\n",
       "    <tr>\n",
       "      <th>...</th>\n",
       "      <td>...</td>\n",
       "      <td>...</td>\n",
       "      <td>...</td>\n",
       "    </tr>\n",
       "    <tr>\n",
       "      <th>131</th>\n",
       "      <td>G0044</td>\n",
       "      <td>[s0501, s0013, s0141]</td>\n",
       "      <td>[-0.3997315, 0.011453139, -0.5749509, -0.17962...</td>\n",
       "    </tr>\n",
       "    <tr>\n",
       "      <th>132</th>\n",
       "      <td>G0102</td>\n",
       "      <td>[s0552, s0534, s0521, s0154, s0575, s0024, s03...</td>\n",
       "      <td>[-0.27592593, -0.100573234, -0.37286678, -0.02...</td>\n",
       "    </tr>\n",
       "    <tr>\n",
       "      <th>133</th>\n",
       "      <td>G0128</td>\n",
       "      <td>[]</td>\n",
       "      <td>[-0.48862642, -0.18858606, -0.5323841, -0.0883...</td>\n",
       "    </tr>\n",
       "    <tr>\n",
       "      <th>134</th>\n",
       "      <td>G0018</td>\n",
       "      <td>[s0043, s0042, s0039, s0012, s0096, s0100, s0104]</td>\n",
       "      <td>[-0.2925966, 0.0350828, -0.64397854, 0.130665,...</td>\n",
       "    </tr>\n",
       "    <tr>\n",
       "      <th>135</th>\n",
       "      <td>G0045</td>\n",
       "      <td>[s0552, s0144, s0154, s0624, s0152, s0628, s03...</td>\n",
       "      <td>[-0.73226637, -0.113698326, -1.0054364, -0.120...</td>\n",
       "    </tr>\n",
       "  </tbody>\n",
       "</table>\n",
       "<p>136 rows × 3 columns</p>\n",
       "</div>"
      ],
      "text/plain": [
       "    group_ID                            input_group_software_id  \\\n",
       "0      G0099                                            [s0434]   \n",
       "1      G0006  [s0017, s0025, s0119, s0026, s0121, s0002, s00...   \n",
       "2      G0005                              [s0040, s0015, s0003]   \n",
       "3      G0023                                            [s0064]   \n",
       "4      G0025                                            [s0069]   \n",
       "..       ...                                                ...   \n",
       "131    G0044                              [s0501, s0013, s0141]   \n",
       "132    G0102  [s0552, s0534, s0521, s0154, s0575, s0024, s03...   \n",
       "133    G0128                                                 []   \n",
       "134    G0018  [s0043, s0042, s0039, s0012, s0096, s0100, s0104]   \n",
       "135    G0045  [s0552, s0144, s0154, s0624, s0152, s0628, s03...   \n",
       "\n",
       "                               input_group_description  \n",
       "0    [-0.41692165, -0.26227784, -0.47415727, 0.0276...  \n",
       "1    [-0.6153141, 0.07517785, -0.5039633, -0.243659...  \n",
       "2    [-0.32223642, 0.029669948, -0.7427179, -0.0198...  \n",
       "3    [-0.39972576, -0.06616345, -0.55075675, -0.038...  \n",
       "4    [-0.608141, -0.007160956, -0.7598587, 0.167140...  \n",
       "..                                                 ...  \n",
       "131  [-0.3997315, 0.011453139, -0.5749509, -0.17962...  \n",
       "132  [-0.27592593, -0.100573234, -0.37286678, -0.02...  \n",
       "133  [-0.48862642, -0.18858606, -0.5323841, -0.0883...  \n",
       "134  [-0.2925966, 0.0350828, -0.64397854, 0.130665,...  \n",
       "135  [-0.73226637, -0.113698326, -1.0054364, -0.120...  \n",
       "\n",
       "[136 rows x 3 columns]"
      ]
     },
     "execution_count": 8,
     "metadata": {},
     "output_type": "execute_result"
    }
   ],
   "source": [
    "df"
   ]
  }
 ],
 "metadata": {
  "kernelspec": {
   "display_name": "hcv-gt24-env",
   "language": "python",
   "name": "python3"
  },
  "language_info": {
   "codemirror_mode": {
    "name": "ipython",
    "version": 3
   },
   "file_extension": ".py",
   "mimetype": "text/x-python",
   "name": "python",
   "nbconvert_exporter": "python",
   "pygments_lexer": "ipython3",
   "version": "3.11.4"
  }
 },
 "nbformat": 4,
 "nbformat_minor": 2
}
