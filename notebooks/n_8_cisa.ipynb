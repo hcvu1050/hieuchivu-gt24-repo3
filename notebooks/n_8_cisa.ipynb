{
 "cells": [
  {
   "cell_type": "code",
   "execution_count": 1,
   "metadata": {},
   "outputs": [],
   "source": [
    "import yaml"
   ]
  },
  {
   "cell_type": "code",
   "execution_count": 2,
   "metadata": {},
   "outputs": [],
   "source": [
    "import pandas as pd"
   ]
  },
  {
   "cell_type": "code",
   "execution_count": 3,
   "metadata": {},
   "outputs": [
    {
     "name": "stdout",
     "output_type": "stream",
     "text": [
      "aa23-339a\n",
      "21\n",
      "aa22-320a\n",
      "16\n",
      "aa23-074a\n",
      "16\n"
     ]
    }
   ],
   "source": [
    "report_data = pd.read_pickle('data/test/cisa_1_report_data.pkl')\n",
    "for _,row in report_data.iterrows():\n",
    "    print (row['group_ID'])\n",
    "    print (len(row['active_techniques']))"
   ]
  },
  {
   "cell_type": "code",
   "execution_count": 4,
   "metadata": {},
   "outputs": [
    {
     "data": {
      "text/html": [
       "<div>\n",
       "<style scoped>\n",
       "    .dataframe tbody tr th:only-of-type {\n",
       "        vertical-align: middle;\n",
       "    }\n",
       "\n",
       "    .dataframe tbody tr th {\n",
       "        vertical-align: top;\n",
       "    }\n",
       "\n",
       "    .dataframe thead th {\n",
       "        text-align: right;\n",
       "    }\n",
       "</style>\n",
       "<table border=\"1\" class=\"dataframe\">\n",
       "  <thead>\n",
       "    <tr style=\"text-align: right;\">\n",
       "      <th></th>\n",
       "      <th>group_ID</th>\n",
       "      <th>reported_techniques</th>\n",
       "      <th>passive_techniques</th>\n",
       "      <th>active_techniques</th>\n",
       "    </tr>\n",
       "  </thead>\n",
       "  <tbody>\n",
       "    <tr>\n",
       "      <th>0</th>\n",
       "      <td>aa23-339a</td>\n",
       "      <td>[T1046, T1190, T1059.007, T1505.003, T1484.001...</td>\n",
       "      <td>[T1046]</td>\n",
       "      <td>[T1190, T1059.007, T1505.003, T1484.001, T1036...</td>\n",
       "    </tr>\n",
       "    <tr>\n",
       "      <th>1</th>\n",
       "      <td>aa22-320a</td>\n",
       "      <td>[T1190, T1059.001, T1098, T1136.001, T1136.002...</td>\n",
       "      <td>None</td>\n",
       "      <td>[T1190, T1059.001, T1098, T1136.001, T1136.002...</td>\n",
       "    </tr>\n",
       "    <tr>\n",
       "      <th>2</th>\n",
       "      <td>aa23-074a</td>\n",
       "      <td>[T1059.006, T1190, T1105, T1505.003, T1595.002...</td>\n",
       "      <td>[T1059.006, T1190, T1105, T1505.003, T1595.002]</td>\n",
       "      <td>[T1190, T1505.003, T1036.005, T1055.001, T1070...</td>\n",
       "    </tr>\n",
       "  </tbody>\n",
       "</table>\n",
       "</div>"
      ],
      "text/plain": [
       "    group_ID                                reported_techniques  \\\n",
       "0  aa23-339a  [T1046, T1190, T1059.007, T1505.003, T1484.001...   \n",
       "1  aa22-320a  [T1190, T1059.001, T1098, T1136.001, T1136.002...   \n",
       "2  aa23-074a  [T1059.006, T1190, T1105, T1505.003, T1595.002...   \n",
       "\n",
       "                                passive_techniques  \\\n",
       "0                                          [T1046]   \n",
       "1                                             None   \n",
       "2  [T1059.006, T1190, T1105, T1505.003, T1595.002]   \n",
       "\n",
       "                                   active_techniques  \n",
       "0  [T1190, T1059.007, T1505.003, T1484.001, T1036...  \n",
       "1  [T1190, T1059.001, T1098, T1136.001, T1136.002...  \n",
       "2  [T1190, T1505.003, T1036.005, T1055.001, T1070...  "
      ]
     },
     "execution_count": 4,
     "metadata": {},
     "output_type": "execute_result"
    }
   ],
   "source": [
    "report_data"
   ]
  },
  {
   "cell_type": "code",
   "execution_count": 6,
   "metadata": {},
   "outputs": [],
   "source": [
    "cisa_2 = pd.read_pickle ('data/test/cisa_2_report_data.pkl')"
   ]
  },
  {
   "cell_type": "code",
   "execution_count": 12,
   "metadata": {},
   "outputs": [
    {
     "data": {
      "text/plain": [
       "['T1078',\n",
       " 'T1190',\n",
       " 'T1566',\n",
       " 'T1059.001',\n",
       " 'T1059.003',\n",
       " 'T1055.002',\n",
       " 'T1070.001',\n",
       " 'T1070.004',\n",
       " 'T1564.003',\n",
       " 'T1003.003',\n",
       " 'T1112',\n",
       " 'T1016',\n",
       " 'T1018',\n",
       " 'T1033',\n",
       " 'T1069.001',\n",
       " 'T1069.002',\n",
       " 'T1087.002',\n",
       " 'T1482',\n",
       " 'T1021.001',\n",
       " 'T1021.004',\n",
       " 'T1219',\n",
       " 'T1486',\n",
       " 'T1657']"
      ]
     },
     "execution_count": 12,
     "metadata": {},
     "output_type": "execute_result"
    }
   ],
   "source": [
    "cisa_2.iloc[0,3]"
   ]
  }
 ],
 "metadata": {
  "kernelspec": {
   "display_name": "hcv-gt24-env",
   "language": "python",
   "name": "python3"
  },
  "language_info": {
   "codemirror_mode": {
    "name": "ipython",
    "version": 3
   },
   "file_extension": ".py",
   "mimetype": "text/x-python",
   "name": "python",
   "nbconvert_exporter": "python",
   "pygments_lexer": "ipython3",
   "version": "3.11.4"
  }
 },
 "nbformat": 4,
 "nbformat_minor": 2
}
