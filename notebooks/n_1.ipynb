{
 "cells": [
  {
   "cell_type": "code",
   "execution_count": 1,
   "metadata": {},
   "outputs": [],
   "source": [
    "import pandas as pd\n",
    "import numpy as np\n",
    "\n",
    "techniques_df = pd.read_pickle ('../data/processed/model1/processed_technnique_features.pkl')\n",
    "groups_df = pd.read_pickle ('../data/processed/model1/processed_group_features.pkl')\n",
    "\n",
    "train_labels = pd.read_pickle ('../data/processed/model1/processed_train_labels.pkl')\n",
    "cv_labels = pd.read_pickle ('../data/processed/model1/processed_cv_labels.pkl')"
   ]
  },
  {
   "cell_type": "code",
   "execution_count": 2,
   "metadata": {},
   "outputs": [
    {
     "name": "stdout",
     "output_type": "stream",
     "text": [
      "[['discovery', 'resource_development', 'collection', 'collection', 'execution', 'resource_development', 'collection', 'collection', 'collection', 'resource_development', 'defense_evasion', 'discovery', 'credential_access', 'resource_development', 'resource_development', 'initial_access', 'initial_access', 'discovery', 'lateral_movement', 'discovery', 'discovery', 'discovery', 'defense_evasion', 'lateral_movement']]\n"
     ]
    }
   ],
   "source": [
    "print (list(groups_df.loc[groups_df['group_ID']== 'G0006']['input_group_tactics']))"
   ]
  },
  {
   "cell_type": "code",
   "execution_count": 3,
   "metadata": {},
   "outputs": [
    {
     "name": "stdout",
     "output_type": "stream",
     "text": [
      "[['defense_evasion', 'defense_evasion', 'defense_evasion', 'defense_evasion', 'defense_evasion', 'defense_evasion', 'defense_evasion', 'execution', 'execution', 'execution', 'execution', 'execution', 'discovery', 'discovery', 'discovery', 'discovery', 'persistence', 'persistence', 'persistence', 'command_and_control', 'command_and_control', 'command_and_control', 'privilege_escalation', 'privilege_escalation', 'privilege_escalation', 'initial_access', 'initial_access', 'collection', 'collection', 'resource_development', 'resource_development', 'credential_access', 'credential_access', 'lateral_movement', 'reconnaissance', 'exfiltration']]\n"
     ]
    }
   ],
   "source": [
    "train_pos = train_labels[train_labels['label'] == 1]\n",
    "train_g = list(train_pos['group_ID'].unique())\n",
    "train_g = groups_df[groups_df['group_ID'].isin (train_g)]\n",
    "avg_tactic_rate = train_g['input_group_tactics'].explode().value_counts()/len(train_g)\n",
    "rounded_avg_tactic_rate = avg_tactic_rate.round().astype(int)\n",
    "initial_tactics = [[idx for idx, val in rounded_avg_tactic_rate.items() for _ in range(val)]]\n",
    "print (initial_tactics)"
   ]
  },
  {
   "cell_type": "code",
   "execution_count": 4,
   "metadata": {},
   "outputs": [],
   "source": [
    "import sys\n",
    "sys.path.append ('..')\n",
    "from src.models.model1.recommend import build_new_group_profile"
   ]
  },
  {
   "cell_type": "code",
   "execution_count": 5,
   "metadata": {},
   "outputs": [
    {
     "data": {
      "text/html": [
       "<div>\n",
       "<style scoped>\n",
       "    .dataframe tbody tr th:only-of-type {\n",
       "        vertical-align: middle;\n",
       "    }\n",
       "\n",
       "    .dataframe tbody tr th {\n",
       "        vertical-align: top;\n",
       "    }\n",
       "\n",
       "    .dataframe thead th {\n",
       "        text-align: right;\n",
       "    }\n",
       "</style>\n",
       "<table border=\"1\" class=\"dataframe\">\n",
       "  <thead>\n",
       "    <tr style=\"text-align: right;\">\n",
       "      <th></th>\n",
       "      <th>group_ID</th>\n",
       "      <th>input_group_software_id</th>\n",
       "      <th>input_group_tactics</th>\n",
       "      <th>input_group_description</th>\n",
       "      <th>input_group_interaction_rate</th>\n",
       "    </tr>\n",
       "  </thead>\n",
       "  <tbody>\n",
       "    <tr>\n",
       "      <th>0</th>\n",
       "      <td>G0000</td>\n",
       "      <td>[s0002, s0029, s0039, s0154, s0363, s0100]</td>\n",
       "      <td>[defense_evasion, defense_evasion, defense_eva...</td>\n",
       "      <td>[-0.4318556785583496, -0.12413875013589859, -0...</td>\n",
       "      <td>0.479934</td>\n",
       "    </tr>\n",
       "  </tbody>\n",
       "</table>\n",
       "</div>"
      ],
      "text/plain": [
       "  group_ID                     input_group_software_id  \\\n",
       "0    G0000  [s0002, s0029, s0039, s0154, s0363, s0100]   \n",
       "\n",
       "                                 input_group_tactics  \\\n",
       "0  [defense_evasion, defense_evasion, defense_eva...   \n",
       "\n",
       "                             input_group_description  \\\n",
       "0  [-0.4318556785583496, -0.12413875013589859, -0...   \n",
       "\n",
       "   input_group_interaction_rate  \n",
       "0                      0.479934  "
      ]
     },
     "execution_count": 5,
     "metadata": {},
     "output_type": "execute_result"
    }
   ],
   "source": [
    "settings = {\n",
    "    'interaction': 'avg',\n",
    "}\n",
    "res = build_new_group_profile (processed_group_features= groups_df, label_df= train_labels, new_group_id= 'G0000', settings= settings)\n",
    "res"
   ]
  },
  {
   "cell_type": "code",
   "execution_count": 61,
   "metadata": {},
   "outputs": [
    {
     "data": {
      "text/plain": [
       "6"
      ]
     },
     "execution_count": 61,
     "metadata": {},
     "output_type": "execute_result"
    }
   ],
   "source": [
    "label_df = train_labels\n",
    "processed_group_features = groups_df\n",
    "pos_y = label_df[label_df['label'] == 1]\n",
    "interacted_groups = list(pos_y['group_ID'].unique())\n",
    "interacted_group_features = processed_group_features [processed_group_features['group_ID'].isin(interacted_groups)] \n",
    "avg_length = interacted_group_features['input_group_software_id'].apply(len).mean().round().astype(int)\n",
    "avg_length\n"
   ]
  },
  {
   "cell_type": "code",
   "execution_count": 62,
   "metadata": {},
   "outputs": [
    {
     "data": {
      "text/plain": [
       "[['s0002', 's0029', 's0039', 's0154', 's0363', 's0100']]"
      ]
     },
     "execution_count": 62,
     "metadata": {},
     "output_type": "execute_result"
    }
   ],
   "source": [
    "most_frequent_software = interacted_group_features['input_group_software_id'].explode().value_counts().sort_values(ascending = False)\n",
    "most_frequent_software = list(most_frequent_software.index)\n",
    "most_frequent_software.remove('other')\n",
    "most_frequent_software.remove('')\n",
    "[most_frequent_software[0:6]]"
   ]
  }
 ],
 "metadata": {
  "kernelspec": {
   "display_name": "hcv-gt24-env",
   "language": "python",
   "name": "python3"
  },
  "language_info": {
   "codemirror_mode": {
    "name": "ipython",
    "version": 3
   },
   "file_extension": ".py",
   "mimetype": "text/x-python",
   "name": "python",
   "nbconvert_exporter": "python",
   "pygments_lexer": "ipython3",
   "version": "3.11.4"
  }
 },
 "nbformat": 4,
 "nbformat_minor": 2
}
