{
 "cells": [
  {
   "cell_type": "markdown",
   "metadata": {},
   "source": [
    "# 1- Check features after reducing cardinality"
   ]
  },
  {
   "cell_type": "code",
   "execution_count": 9,
   "metadata": {},
   "outputs": [],
   "source": [
    "import pandas as pd\n",
    "import numpy as np"
   ]
  },
  {
   "cell_type": "code",
   "execution_count": 10,
   "metadata": {},
   "outputs": [],
   "source": [
    "techniques_df = pd.read_pickle ('../scripts/tmp_m1pp_technique.pkl')\n",
    "groups_df = pd.read_pickle ('../scripts/tmp_m1pp_group.pkl')\n",
    "\n",
    "techniques_org_df = pd.read_pickle ('../scripts/tmp_m1pp_technique_org.pkl')\n",
    "groups_org_df = pd.read_pickle ('../scripts/tmp_m1pp_group_org.pkl')"
   ]
  },
  {
   "cell_type": "code",
   "execution_count": 17,
   "metadata": {},
   "outputs": [],
   "source": [
    "from statistics import mode\n",
    "def get_feature_length_stats(df: pd.DataFrame()):\n",
    "    for col in list (df.columns)[1:]:\n",
    "        if not isinstance(df[col].iloc[0], list): print ('{col}: scalar'.format (col = col))\n",
    "        else:\n",
    "            list_lengths = df[col].apply(lambda x: len(x))\n",
    "            avg_len = list_lengths.mean()\n",
    "            mode_len = mode(list_lengths)\n",
    "            max_len = list_lengths.max()\n",
    "            print ('{col} \\tmean_len: {mean_len}\\tmode_len: {mode_len}\\tmax_len: {max_len}'.format(col = col, mean_len= avg_len, mode_len = mode_len, max_len = max_len))\n",
    "        \n",
    "def get_vocab_size (df: pd.DataFrame):\n",
    "    for feature_name in df.columns[1:]:\n",
    "        if feature_name in ['input_group_description', 'input_technique_description', 'input_group_interaction_rate', 'input_technique_interaction_rate']: continue\n",
    "        vocab_size = len(df[feature_name].explode().unique())\n",
    "        print ('{feature_name}: vocab size = {vocab_size}'.format (feature_name = feature_name, vocab_size = vocab_size))"
   ]
  },
  {
   "cell_type": "code",
   "execution_count": 18,
   "metadata": {},
   "outputs": [
    {
     "name": "stdout",
     "output_type": "stream",
     "text": [
      "input_technique_data_sources \tmean_len: 3.154859967051071\tmode_len: 3\tmax_len: 14\n",
      "input_technique_defenses_bypassed \tmean_len: 1.2289950576606261\tmode_len: 1\tmax_len: 8\n",
      "input_technique_detection_name \tmean_len: 3.154859967051071\tmode_len: 3\tmax_len: 14\n",
      "input_technique_mitigation_id \tmean_len: 2.1301482701812193\tmode_len: 1\tmax_len: 11\n",
      "input_technique_permissions_required \tmean_len: 1.1894563426688634\tmode_len: 1\tmax_len: 4\n",
      "input_technique_platforms \tmean_len: 2.510708401976936\tmode_len: 1\tmax_len: 10\n",
      "input_technique_software_id \tmean_len: 14.179571663920923\tmode_len: 1\tmax_len: 334\n",
      "input_technique_tactics \tmean_len: 1.2932454695222406\tmode_len: 1\tmax_len: 4\n",
      "input_technique_description: scalar\n",
      "input_group_software_id \tmean_len: 6.1911764705882355\tmode_len: 1\tmax_len: 46\n",
      "input_group_description: scalar\n"
     ]
    }
   ],
   "source": [
    "get_feature_length_stats (techniques_org_df)\n",
    "get_feature_length_stats (groups_org_df)"
   ]
  },
  {
   "cell_type": "code",
   "execution_count": 19,
   "metadata": {},
   "outputs": [
    {
     "name": "stdout",
     "output_type": "stream",
     "text": [
      "input_group_software_id: vocab size = 464\n",
      "input_technique_data_sources: vocab size = 106\n",
      "input_technique_defenses_bypassed: vocab size = 25\n",
      "input_technique_detection_name: vocab size = 106\n",
      "input_technique_mitigation_id: vocab size = 44\n",
      "input_technique_permissions_required: vocab size = 6\n",
      "input_technique_platforms: vocab size = 11\n",
      "input_technique_software_id: vocab size = 636\n",
      "input_technique_tactics: vocab size = 14\n"
     ]
    }
   ],
   "source": [
    "get_vocab_size (groups_org_df)\n",
    "get_vocab_size (techniques_org_df)"
   ]
  },
  {
   "cell_type": "code",
   "execution_count": 20,
   "metadata": {},
   "outputs": [
    {
     "name": "stdout",
     "output_type": "stream",
     "text": [
      "input_technique_data_sources \tmean_len: 3.154859967051071\tmode_len: 3\tmax_len: 14\n",
      "input_technique_defenses_bypassed \tmean_len: 1.2289950576606261\tmode_len: 1\tmax_len: 8\n",
      "input_technique_detection_name \tmean_len: 3.154859967051071\tmode_len: 3\tmax_len: 14\n",
      "input_technique_mitigation_id \tmean_len: 2.1301482701812193\tmode_len: 1\tmax_len: 11\n",
      "input_technique_permissions_required \tmean_len: 1.1894563426688634\tmode_len: 1\tmax_len: 4\n",
      "input_technique_platforms \tmean_len: 2.510708401976936\tmode_len: 1\tmax_len: 10\n",
      "input_technique_software_id \tmean_len: 9.911037891268533\tmode_len: 0\tmax_len: 195\n",
      "input_technique_tactics \tmean_len: 1.2932454695222406\tmode_len: 1\tmax_len: 4\n",
      "input_technique_description: scalar\n",
      "input_technique_interaction_rate: scalar\n",
      "input_group_software_id \tmean_len: 4.330882352941177\tmode_len: 0\tmax_len: 45\n",
      "input_group_description: scalar\n",
      "input_group_interaction_rate: scalar\n",
      "input_group_tactics \tmean_len: 19.147058823529413\tmode_len: 1\tmax_len: 108\n"
     ]
    }
   ],
   "source": [
    "get_feature_length_stats (techniques_df)\n",
    "get_feature_length_stats (groups_df)"
   ]
  },
  {
   "cell_type": "code",
   "execution_count": 21,
   "metadata": {},
   "outputs": [
    {
     "name": "stdout",
     "output_type": "stream",
     "text": [
      "input_group_software_id: vocab size = 223\n",
      "input_group_tactics: vocab size = 15\n",
      "input_technique_data_sources: vocab size = 106\n",
      "input_technique_defenses_bypassed: vocab size = 25\n",
      "input_technique_detection_name: vocab size = 106\n",
      "input_technique_mitigation_id: vocab size = 44\n",
      "input_technique_permissions_required: vocab size = 6\n",
      "input_technique_platforms: vocab size = 11\n",
      "input_technique_software_id: vocab size = 271\n",
      "input_technique_tactics: vocab size = 14\n"
     ]
    }
   ],
   "source": [
    "get_vocab_size (groups_df)\n",
    "get_vocab_size (techniques_df)"
   ]
  },
  {
   "cell_type": "markdown",
   "metadata": {},
   "source": [
    "---"
   ]
  },
  {
   "cell_type": "markdown",
   "metadata": {},
   "source": [
    "# 2 Check exported dataset"
   ]
  },
  {
   "cell_type": "code",
   "execution_count": 22,
   "metadata": {},
   "outputs": [],
   "source": [
    "import tensorflow as tf"
   ]
  },
  {
   "cell_type": "code",
   "execution_count": 23,
   "metadata": {},
   "outputs": [],
   "source": [
    "test_dataset = tf.data.Dataset.load ('../data/processed/model1/test_dataset/')\n",
    "inputs = test_dataset.element_spec[0]"
   ]
  },
  {
   "cell_type": "code",
   "execution_count": 24,
   "metadata": {},
   "outputs": [
    {
     "data": {
      "text/plain": [
       "{'input_technique_platforms': RaggedTensorSpec(TensorShape([None]), tf.string, 0, tf.int64),\n",
       " 'input_group_tactics': RaggedTensorSpec(TensorShape([None]), tf.string, 0, tf.int64),\n",
       " 'input_group_interaction_rate': TensorSpec(shape=(1,), dtype=tf.float32, name=None),\n",
       " 'input_technique_tactics': RaggedTensorSpec(TensorShape([None]), tf.string, 0, tf.int64),\n",
       " 'input_group_description': TensorSpec(shape=(768,), dtype=tf.float32, name=None),\n",
       " 'input_technique_mitigation_id': RaggedTensorSpec(TensorShape([None]), tf.string, 0, tf.int64),\n",
       " 'input_technique_software_id': RaggedTensorSpec(TensorShape([None]), tf.string, 0, tf.int64),\n",
       " 'input_technique_permissions_required': RaggedTensorSpec(TensorShape([None]), tf.string, 0, tf.int64),\n",
       " 'input_technique_description': TensorSpec(shape=(768,), dtype=tf.float32, name=None),\n",
       " 'input_technique_data_sources': RaggedTensorSpec(TensorShape([None]), tf.string, 0, tf.int64),\n",
       " 'input_technique_defenses_bypassed': RaggedTensorSpec(TensorShape([None]), tf.string, 0, tf.int64),\n",
       " 'input_technique_interaction_rate': TensorSpec(shape=(1,), dtype=tf.float32, name=None),\n",
       " 'input_group_software_id': RaggedTensorSpec(TensorShape([None]), tf.string, 0, tf.int64),\n",
       " 'input_technique_detection_name': RaggedTensorSpec(TensorShape([None]), tf.string, 0, tf.int64)}"
      ]
     },
     "execution_count": 24,
     "metadata": {},
     "output_type": "execute_result"
    }
   ],
   "source": [
    "test_dataset.element_spec[0]"
   ]
  },
  {
   "cell_type": "code",
   "execution_count": 25,
   "metadata": {},
   "outputs": [
    {
     "data": {
      "text/plain": [
       "['input_technique_platforms',\n",
       " 'input_technique_tactics',\n",
       " 'input_technique_mitigation_id',\n",
       " 'input_technique_software_id',\n",
       " 'input_technique_permissions_required',\n",
       " 'input_technique_description',\n",
       " 'input_technique_data_sources',\n",
       " 'input_technique_defenses_bypassed',\n",
       " 'input_technique_interaction_rate',\n",
       " 'input_technique_detection_name']"
      ]
     },
     "execution_count": 25,
     "metadata": {},
     "output_type": "execute_result"
    }
   ],
   "source": [
    "input_technique = [item for item in list(inputs.keys()) if item.startswith ('input_technique')]\n",
    "input_technique"
   ]
  },
  {
   "cell_type": "code",
   "execution_count": 26,
   "metadata": {},
   "outputs": [
    {
     "data": {
      "text/plain": [
       "['input_group_tactics',\n",
       " 'input_group_interaction_rate',\n",
       " 'input_group_description',\n",
       " 'input_group_software_id']"
      ]
     },
     "execution_count": 26,
     "metadata": {},
     "output_type": "execute_result"
    }
   ],
   "source": [
    "input_group = [item for item in list(inputs.keys()) if item.startswith ('input_group')]\n",
    "input_group"
   ]
  }
 ],
 "metadata": {
  "kernelspec": {
   "display_name": "hcv-gt24-env",
   "language": "python",
   "name": "python3"
  },
  "language_info": {
   "codemirror_mode": {
    "name": "ipython",
    "version": 3
   },
   "file_extension": ".py",
   "mimetype": "text/x-python",
   "name": "python",
   "nbconvert_exporter": "python",
   "pygments_lexer": "ipython3",
   "version": "3.11.4"
  }
 },
 "nbformat": 4,
 "nbformat_minor": 2
}
