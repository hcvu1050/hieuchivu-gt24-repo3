{
 "cells": [
  {
   "cell_type": "markdown",
   "metadata": {},
   "source": [
    "# 1- Check features after reducing cardinality\n",
    "(the tables used in this notebook are created by `scripts/model1_preprocess_3`)"
   ]
  },
  {
   "cell_type": "code",
   "execution_count": 207,
   "metadata": {},
   "outputs": [],
   "source": [
    "import pandas as pd\n",
    "import numpy as np"
   ]
  },
  {
   "cell_type": "code",
   "execution_count": 208,
   "metadata": {},
   "outputs": [],
   "source": [
    "techniques_df = pd.read_pickle ('../scripts/tmp_m1pp_technique.pkl')\n",
    "groups_df = pd.read_pickle ('../scripts/tmp_m1pp_group.pkl')\n",
    "\n",
    "techniques_org_df = pd.read_pickle ('../scripts/tmp_m1pp_technique_org.pkl')\n",
    "groups_org_df = pd.read_pickle ('../scripts/tmp_m1pp_group_org.pkl')"
   ]
  },
  {
   "cell_type": "code",
   "execution_count": 209,
   "metadata": {},
   "outputs": [
    {
     "data": {
      "text/plain": [
       "['']"
      ]
     },
     "execution_count": 209,
     "metadata": {},
     "output_type": "execute_result"
    }
   ],
   "source": [
    "techniques_df['input_technique_software_id'][0]"
   ]
  },
  {
   "cell_type": "code",
   "execution_count": 210,
   "metadata": {},
   "outputs": [
    {
     "data": {
      "text/plain": [
       "['']"
      ]
     },
     "execution_count": 210,
     "metadata": {},
     "output_type": "execute_result"
    }
   ],
   "source": [
    "techniques_org_df['input_technique_software_id'][0]"
   ]
  },
  {
   "cell_type": "code",
   "execution_count": 211,
   "metadata": {},
   "outputs": [],
   "source": [
    "from statistics import mode\n",
    "def get_feature_length_stats(df: pd.DataFrame()):\n",
    "    for col in list (df.columns)[1:]:\n",
    "        if not isinstance(df[col].iloc[0], list): print ('{col}: scalar'.format (col = col))\n",
    "        else:\n",
    "                list_lengths = df[col].apply(lambda x: len(x))\n",
    "                avg_len = list_lengths.mean()\n",
    "                mode_len = mode(list_lengths)\n",
    "                max_len = list_lengths.max()\n",
    "                print ('{col} \\tmean_len: {mean_len}\\tmode_len: {mode_len}\\tmax_len: {max_len}'.format(col = col, mean_len= avg_len, mode_len = mode_len, max_len = max_len))\n",
    "        \n",
    "def get_vocab_size (df: pd.DataFrame):\n",
    "    for feature_name in df.columns[1:]:\n",
    "        if feature_name in ['input_group_description', 'input_technique_description', 'input_group_interaction_rate', 'input_technique_interaction_rate']: continue\n",
    "        vocab_size = len(df[feature_name].explode().unique())\n",
    "        print ('{feature_name}: vocab size = {vocab_size}'.format (feature_name = feature_name, vocab_size = vocab_size))"
   ]
  },
  {
   "cell_type": "code",
   "execution_count": 212,
   "metadata": {},
   "outputs": [
    {
     "name": "stdout",
     "output_type": "stream",
     "text": [
      "BEFORE\n",
      "input_technique_data_sources \tmean_len: 3.154859967051071\tmode_len: 3\tmax_len: 14\n",
      "input_technique_detection_name \tmean_len: 3.154859967051071\tmode_len: 3\tmax_len: 14\n",
      "input_technique_mitigation_id \tmean_len: 2.1301482701812193\tmode_len: 1\tmax_len: 11\n",
      "input_technique_platforms \tmean_len: 2.510708401976936\tmode_len: 1\tmax_len: 10\n",
      "input_technique_software_id \tmean_len: 14.179571663920923\tmode_len: 1\tmax_len: 334\n",
      "input_technique_tactics \tmean_len: 1.2932454695222406\tmode_len: 1\tmax_len: 4\n",
      "input_technique_description: scalar\n",
      "input_group_software_id \tmean_len: 6.1911764705882355\tmode_len: 1\tmax_len: 46\n",
      "input_group_description: scalar\n",
      "AFTER\n",
      "input_technique_data_sources \tmean_len: 2.238879736408567\tmode_len: 1\tmax_len: 8\n",
      "input_technique_detection_name \tmean_len: 2.238879736408567\tmode_len: 1\tmax_len: 8\n",
      "input_technique_mitigation_id \tmean_len: 1.5963756177924218\tmode_len: 1\tmax_len: 7\n",
      "input_technique_platforms \tmean_len: 2.510708401976936\tmode_len: 1\tmax_len: 10\n",
      "input_technique_software_id \tmean_len: 10.242174629324547\tmode_len: 1\tmax_len: 195\n",
      "input_technique_tactics \tmean_len: 1.2932454695222406\tmode_len: 1\tmax_len: 4\n",
      "input_technique_description: scalar\n",
      "input_group_software_id \tmean_len: 4.419117647058823\tmode_len: 1\tmax_len: 45\n",
      "input_group_description: scalar\n"
     ]
    }
   ],
   "source": [
    "print (\"BEFORE\")\n",
    "get_feature_length_stats (techniques_org_df)\n",
    "get_feature_length_stats (groups_org_df)\n",
    "print (\"AFTER\")\n",
    "get_feature_length_stats (techniques_df)\n",
    "get_feature_length_stats (groups_df)"
   ]
  },
  {
   "cell_type": "code",
   "execution_count": 213,
   "metadata": {},
   "outputs": [
    {
     "name": "stdout",
     "output_type": "stream",
     "text": [
      "BEFORE\n",
      "input_group_software_id: vocab size = 464\n",
      "input_technique_data_sources: vocab size = 106\n",
      "input_technique_detection_name: vocab size = 106\n",
      "input_technique_mitigation_id: vocab size = 44\n",
      "input_technique_platforms: vocab size = 11\n",
      "input_technique_software_id: vocab size = 636\n",
      "input_technique_tactics: vocab size = 14\n",
      "AFTER\n",
      "input_group_software_id: vocab size = 224\n",
      "input_technique_data_sources: vocab size = 15\n",
      "input_technique_detection_name: vocab size = 15\n",
      "input_technique_mitigation_id: vocab size = 17\n",
      "input_technique_platforms: vocab size = 11\n",
      "input_technique_software_id: vocab size = 272\n",
      "input_technique_tactics: vocab size = 14\n"
     ]
    }
   ],
   "source": [
    "print (\"BEFORE\")\n",
    "get_vocab_size (groups_org_df)\n",
    "get_vocab_size (techniques_org_df)\n",
    "print (\"AFTER\")\n",
    "get_vocab_size (groups_df)\n",
    "get_vocab_size (techniques_df)"
   ]
  },
  {
   "cell_type": "code",
   "execution_count": 214,
   "metadata": {},
   "outputs": [
    {
     "name": "stdout",
     "output_type": "stream",
     "text": [
      "BEFORE\n",
      "input_technique_software_id\n",
      "         201\n",
      "s0363     72\n",
      "s0260     72\n",
      "s0154     72\n",
      "s0650     71\n",
      "        ... \n",
      "s0112      1\n",
      "s0001      1\n",
      "s0016      1\n",
      "s0014      1\n",
      "s0026      1\n",
      "Name: count, Length: 636, dtype: int64\n",
      "AFTER\n",
      "input_technique_software_id\n",
      "         201\n",
      "s0154     72\n",
      "s0260     72\n",
      "s0363     72\n",
      "s0650     71\n",
      "        ... \n",
      "s0249     14\n",
      "s0487     14\n",
      "s0136     14\n",
      "s0517     14\n",
      "s0579     14\n",
      "Name: count, Length: 271, dtype: int64\n"
     ]
    }
   ],
   "source": [
    "feature_name = 'input_technique_software_id'\n",
    "print ('BEFORE')\n",
    "print (techniques_org_df[feature_name].explode(feature_name).value_counts())\n",
    "print ('AFTER')\n",
    "print (techniques_df[feature_name].explode(feature_name).value_counts())"
   ]
  },
  {
   "cell_type": "markdown",
   "metadata": {},
   "source": [
    "---"
   ]
  },
  {
   "cell_type": "code",
   "execution_count": 215,
   "metadata": {},
   "outputs": [
    {
     "name": "stdout",
     "output_type": "stream",
     "text": [
      "-------- input_technique_data_sources\n",
      "input_technique_data_sources\n",
      "command_command_execution                             268\n",
      "process_process_creation                              226\n",
      "network_traffic_network_traffic_content               108\n",
      "file_file_modification                                104\n",
      "process_os_api_execution                               94\n",
      "file_file_creation                                     91\n",
      "network_traffic_network_traffic_flow                   86\n",
      "application_log_application_log_content                72\n",
      "windows_registry_windows_registry_key_modification     65\n",
      "network_traffic_network_connection_creation            61\n",
      "module_module_load                                     54\n",
      "file_file_access                                       47\n",
      "file_file_metadata                                     44\n",
      "                                                       39\n",
      "Name: count, dtype: int64\n",
      "-------- input_technique_detection_name\n",
      "input_technique_detection_name\n",
      "command_execution                    268\n",
      "process_creation                     226\n",
      "network_traffic_content              108\n",
      "file_modification                    104\n",
      "os_api_execution                      94\n",
      "file_creation                         91\n",
      "network_traffic_flow                  86\n",
      "application_log_content               72\n",
      "windows_registry_key_modification     65\n",
      "network_connection_creation           61\n",
      "module_load                           54\n",
      "file_access                           47\n",
      "file_metadata                         44\n",
      "                                      39\n",
      "Name: count, dtype: int64\n",
      "-------- input_technique_mitigation_id\n",
      "input_technique_mitigation_id\n",
      "m1026    105\n",
      "          93\n",
      "m1018     89\n",
      "m1056     82\n",
      "m1047     78\n",
      "m1038     66\n",
      "m1042     59\n",
      "m1022     56\n",
      "m1031     55\n",
      "m1040     46\n",
      "m1027     44\n",
      "m1032     41\n",
      "m1017     41\n",
      "m1037     40\n",
      "m1028     39\n",
      "m1030     35\n",
      "Name: count, dtype: int64\n",
      "-------- input_technique_platforms\n",
      "input_technique_platforms\n",
      "windows             421\n",
      "macos               303\n",
      "linux               295\n",
      "pre                  88\n",
      "iaas                 84\n",
      "office_365           72\n",
      "network              65\n",
      "saas                 58\n",
      "google_workspace     56\n",
      "azure_ad             46\n",
      "containers           36\n",
      "Name: count, dtype: int64\n",
      "-------- input_technique_software_id\n",
      "input_technique_software_id\n",
      "         201\n",
      "s0154     72\n",
      "s0260     72\n",
      "s0363     72\n",
      "s0650     71\n",
      "        ... \n",
      "s0249     14\n",
      "s0487     14\n",
      "s0136     14\n",
      "s0517     14\n",
      "s0579     14\n",
      "Name: count, Length: 271, dtype: int64\n",
      "-------- input_technique_tactics\n",
      "input_technique_tactics\n",
      "defense_evasion         184\n",
      "persistence             113\n",
      "privilege_escalation     96\n",
      "credential_access        63\n",
      "resource_development     45\n",
      "discovery                44\n",
      "reconnaissance           43\n",
      "command_and_control      39\n",
      "collection               37\n",
      "execution                36\n",
      "impact                   26\n",
      "lateral_movement         22\n",
      "initial_access           19\n",
      "exfiltration             18\n",
      "Name: count, dtype: int64\n"
     ]
    }
   ],
   "source": [
    "for col in techniques_df.columns[1:-1]:\n",
    "    print ('--------',col)\n",
    "    feature_name = col\n",
    "    print (techniques_df.explode(feature_name)[feature_name].value_counts())"
   ]
  },
  {
   "cell_type": "markdown",
   "metadata": {},
   "source": [
    "# 2 Check labels"
   ]
  },
  {
   "cell_type": "code",
   "execution_count": 216,
   "metadata": {},
   "outputs": [],
   "source": [
    "labels_org_df = pd.read_pickle ('../scripts/tmp_m1_pp_label_org.pkl')\n",
    "labels_df = pd.read_pickle ('../scripts/tmp_m1pp_label.pkl')"
   ]
  },
  {
   "cell_type": "code",
   "execution_count": 217,
   "metadata": {},
   "outputs": [
    {
     "name": "stdout",
     "output_type": "stream",
     "text": [
      "label\n",
      "0.0    49716\n",
      "1.0     3052\n",
      "Name: count, dtype: int64\n"
     ]
    },
    {
     "data": {
      "text/html": [
       "<div>\n",
       "<style scoped>\n",
       "    .dataframe tbody tr th:only-of-type {\n",
       "        vertical-align: middle;\n",
       "    }\n",
       "\n",
       "    .dataframe tbody tr th {\n",
       "        vertical-align: top;\n",
       "    }\n",
       "\n",
       "    .dataframe thead th {\n",
       "        text-align: right;\n",
       "    }\n",
       "</style>\n",
       "<table border=\"1\" class=\"dataframe\">\n",
       "  <thead>\n",
       "    <tr style=\"text-align: right;\">\n",
       "      <th></th>\n",
       "      <th>group_ID</th>\n",
       "      <th>technique_ID</th>\n",
       "      <th>label</th>\n",
       "    </tr>\n",
       "  </thead>\n",
       "  <tbody>\n",
       "    <tr>\n",
       "      <th>0</th>\n",
       "      <td>G0099</td>\n",
       "      <td>T1548.002</td>\n",
       "      <td>0.0</td>\n",
       "    </tr>\n",
       "    <tr>\n",
       "      <th>1</th>\n",
       "      <td>G0099</td>\n",
       "      <td>T1134</td>\n",
       "      <td>0.0</td>\n",
       "    </tr>\n",
       "    <tr>\n",
       "      <th>2</th>\n",
       "      <td>G0099</td>\n",
       "      <td>T1134.002</td>\n",
       "      <td>0.0</td>\n",
       "    </tr>\n",
       "    <tr>\n",
       "      <th>3</th>\n",
       "      <td>G0099</td>\n",
       "      <td>T1134.001</td>\n",
       "      <td>0.0</td>\n",
       "    </tr>\n",
       "    <tr>\n",
       "      <th>4</th>\n",
       "      <td>G0099</td>\n",
       "      <td>T1531</td>\n",
       "      <td>0.0</td>\n",
       "    </tr>\n",
       "    <tr>\n",
       "      <th>...</th>\n",
       "      <td>...</td>\n",
       "      <td>...</td>\n",
       "      <td>...</td>\n",
       "    </tr>\n",
       "    <tr>\n",
       "      <th>52763</th>\n",
       "      <td>G0045</td>\n",
       "      <td>T1102.002</td>\n",
       "      <td>0.0</td>\n",
       "    </tr>\n",
       "    <tr>\n",
       "      <th>52764</th>\n",
       "      <td>G0045</td>\n",
       "      <td>T1102.001</td>\n",
       "      <td>0.0</td>\n",
       "    </tr>\n",
       "    <tr>\n",
       "      <th>52765</th>\n",
       "      <td>G0045</td>\n",
       "      <td>T1102.003</td>\n",
       "      <td>0.0</td>\n",
       "    </tr>\n",
       "    <tr>\n",
       "      <th>52766</th>\n",
       "      <td>G0045</td>\n",
       "      <td>T1047</td>\n",
       "      <td>1.0</td>\n",
       "    </tr>\n",
       "    <tr>\n",
       "      <th>52767</th>\n",
       "      <td>G0045</td>\n",
       "      <td>T1220</td>\n",
       "      <td>0.0</td>\n",
       "    </tr>\n",
       "  </tbody>\n",
       "</table>\n",
       "<p>52768 rows × 3 columns</p>\n",
       "</div>"
      ],
      "text/plain": [
       "      group_ID technique_ID  label\n",
       "0        G0099    T1548.002    0.0\n",
       "1        G0099        T1134    0.0\n",
       "2        G0099    T1134.002    0.0\n",
       "3        G0099    T1134.001    0.0\n",
       "4        G0099        T1531    0.0\n",
       "...        ...          ...    ...\n",
       "52763    G0045    T1102.002    0.0\n",
       "52764    G0045    T1102.001    0.0\n",
       "52765    G0045    T1102.003    0.0\n",
       "52766    G0045        T1047    1.0\n",
       "52767    G0045        T1220    0.0\n",
       "\n",
       "[52768 rows x 3 columns]"
      ]
     },
     "execution_count": 217,
     "metadata": {},
     "output_type": "execute_result"
    }
   ],
   "source": [
    "print (labels_org_df['label'].value_counts())\n",
    "labels_org_df"
   ]
  },
  {
   "cell_type": "code",
   "execution_count": 218,
   "metadata": {},
   "outputs": [
    {
     "name": "stdout",
     "output_type": "stream",
     "text": [
      "label\n",
      "0.0    30106\n",
      "1.0     2809\n",
      "Name: count, dtype: int64\n"
     ]
    },
    {
     "data": {
      "text/html": [
       "<div>\n",
       "<style scoped>\n",
       "    .dataframe tbody tr th:only-of-type {\n",
       "        vertical-align: middle;\n",
       "    }\n",
       "\n",
       "    .dataframe tbody tr th {\n",
       "        vertical-align: top;\n",
       "    }\n",
       "\n",
       "    .dataframe thead th {\n",
       "        text-align: right;\n",
       "    }\n",
       "</style>\n",
       "<table border=\"1\" class=\"dataframe\">\n",
       "  <thead>\n",
       "    <tr style=\"text-align: right;\">\n",
       "      <th></th>\n",
       "      <th>group_ID</th>\n",
       "      <th>technique_ID</th>\n",
       "      <th>label</th>\n",
       "    </tr>\n",
       "  </thead>\n",
       "  <tbody>\n",
       "    <tr>\n",
       "      <th>388</th>\n",
       "      <td>G0006</td>\n",
       "      <td>T1548.002</td>\n",
       "      <td>0.0</td>\n",
       "    </tr>\n",
       "    <tr>\n",
       "      <th>389</th>\n",
       "      <td>G0006</td>\n",
       "      <td>T1134</td>\n",
       "      <td>0.0</td>\n",
       "    </tr>\n",
       "    <tr>\n",
       "      <th>390</th>\n",
       "      <td>G0006</td>\n",
       "      <td>T1134.002</td>\n",
       "      <td>0.0</td>\n",
       "    </tr>\n",
       "    <tr>\n",
       "      <th>391</th>\n",
       "      <td>G0006</td>\n",
       "      <td>T1134.001</td>\n",
       "      <td>0.0</td>\n",
       "    </tr>\n",
       "    <tr>\n",
       "      <th>392</th>\n",
       "      <td>G0006</td>\n",
       "      <td>T1531</td>\n",
       "      <td>0.0</td>\n",
       "    </tr>\n",
       "    <tr>\n",
       "      <th>...</th>\n",
       "      <td>...</td>\n",
       "      <td>...</td>\n",
       "      <td>...</td>\n",
       "    </tr>\n",
       "    <tr>\n",
       "      <th>52763</th>\n",
       "      <td>G0045</td>\n",
       "      <td>T1102.002</td>\n",
       "      <td>0.0</td>\n",
       "    </tr>\n",
       "    <tr>\n",
       "      <th>52764</th>\n",
       "      <td>G0045</td>\n",
       "      <td>T1102.001</td>\n",
       "      <td>0.0</td>\n",
       "    </tr>\n",
       "    <tr>\n",
       "      <th>52765</th>\n",
       "      <td>G0045</td>\n",
       "      <td>T1102.003</td>\n",
       "      <td>0.0</td>\n",
       "    </tr>\n",
       "    <tr>\n",
       "      <th>52766</th>\n",
       "      <td>G0045</td>\n",
       "      <td>T1047</td>\n",
       "      <td>1.0</td>\n",
       "    </tr>\n",
       "    <tr>\n",
       "      <th>52767</th>\n",
       "      <td>G0045</td>\n",
       "      <td>T1220</td>\n",
       "      <td>0.0</td>\n",
       "    </tr>\n",
       "  </tbody>\n",
       "</table>\n",
       "<p>32915 rows × 3 columns</p>\n",
       "</div>"
      ],
      "text/plain": [
       "      group_ID technique_ID  label\n",
       "388      G0006    T1548.002    0.0\n",
       "389      G0006        T1134    0.0\n",
       "390      G0006    T1134.002    0.0\n",
       "391      G0006    T1134.001    0.0\n",
       "392      G0006        T1531    0.0\n",
       "...        ...          ...    ...\n",
       "52763    G0045    T1102.002    0.0\n",
       "52764    G0045    T1102.001    0.0\n",
       "52765    G0045    T1102.003    0.0\n",
       "52766    G0045        T1047    1.0\n",
       "52767    G0045        T1220    0.0\n",
       "\n",
       "[32915 rows x 3 columns]"
      ]
     },
     "execution_count": 218,
     "metadata": {},
     "output_type": "execute_result"
    }
   ],
   "source": [
    "print (labels_df['label'].value_counts())\n",
    "labels_df"
   ]
  },
  {
   "cell_type": "code",
   "execution_count": 219,
   "metadata": {},
   "outputs": [
    {
     "data": {
      "text/plain": [
       "array([ True,  True,  True])"
      ]
     },
     "execution_count": 219,
     "metadata": {},
     "output_type": "execute_result"
    }
   ],
   "source": [
    "labels_org_df.columns == labels_df.columns"
   ]
  },
  {
   "cell_type": "markdown",
   "metadata": {},
   "source": [
    "## 2b- Check resampled data"
   ]
  },
  {
   "cell_type": "code",
   "execution_count": 220,
   "metadata": {},
   "outputs": [],
   "source": [
    "train_y_df = pd.read_csv ('../data/processed/model1/train_y_split.csv')\n",
    "# train_cv_y_df = pd.read_csv ('../data/processed/model1/train_cv_y_split.csv')\n",
    "cv_y_df = pd.read_csv ('../data/processed/model1/cv_y_split.csv')\n",
    "test_y_df = pd.read_csv ('../data/processed/model1/test_y_split.csv')\n",
    "train_y_resampled_df = pd.read_csv ('../data/processed/model1/train_y_resampled.csv')\n"
   ]
  },
  {
   "cell_type": "code",
   "execution_count": 221,
   "metadata": {},
   "outputs": [
    {
     "name": "stdout",
     "output_type": "stream",
     "text": [
      "(23139, 3) no. of groups: 61\n",
      "label\n",
      "0.0    21198\n",
      "1.0     1941\n",
      "Name: count, dtype: int64\n",
      "(4743, 3) no. of groups: 13\n",
      "label\n",
      "0.0    4333\n",
      "1.0     410\n",
      "Name: count, dtype: int64\n",
      "(5033, 3) no. of groups: 14\n",
      "label\n",
      "0.0    4575\n",
      "1.0     458\n",
      "Name: count, dtype: int64\n"
     ]
    }
   ],
   "source": [
    "for df in [train_y_df,cv_y_df, test_y_df]:\n",
    "    print (df.shape, 'no. of groups: {n}'.format(n =  df['group_ID'].nunique()))\n",
    "    print (df['label'].value_counts())"
   ]
  },
  {
   "cell_type": "code",
   "execution_count": 222,
   "metadata": {},
   "outputs": [
    {
     "name": "stdout",
     "output_type": "stream",
     "text": [
      "(23139, 3) no. of groups: 61\n",
      "label\n",
      "0.0    21198\n",
      "1.0     1941\n",
      "Name: count, dtype: int64\n",
      "(5823, 3) no. of groups: 61\n",
      "label\n",
      "0.0    3882\n",
      "1.0    1941\n",
      "Name: count, dtype: int64\n"
     ]
    }
   ],
   "source": [
    "for df in [train_y_df,train_y_resampled_df]:\n",
    "    print (df.shape, 'no. of groups: {n}'.format(n =  df['group_ID'].nunique()))\n",
    "    print (df['label'].value_counts())"
   ]
  },
  {
   "cell_type": "markdown",
   "metadata": {},
   "source": [
    "# 3 Check exported dataset"
   ]
  },
  {
   "cell_type": "code",
   "execution_count": 223,
   "metadata": {},
   "outputs": [],
   "source": [
    "import tensorflow as tf"
   ]
  },
  {
   "cell_type": "code",
   "execution_count": 224,
   "metadata": {},
   "outputs": [],
   "source": [
    "train_dataset = tf.data.Dataset.load ('../data/processed/model1/train_dataset/')\n",
    "cv_dataset = tf.data.Dataset.load ('../data/processed/model1/cv_dataset/')\n",
    "test_dataset = tf.data.Dataset.load ('../data/processed/model1/test_dataset/')\n",
    "inputs = test_dataset.element_spec[0]"
   ]
  },
  {
   "cell_type": "code",
   "execution_count": 225,
   "metadata": {},
   "outputs": [
    {
     "data": {
      "text/plain": [
       "{'input_technique_interaction_rate': TensorSpec(shape=(1,), dtype=tf.float32, name=None),\n",
       " 'input_technique_software_id': RaggedTensorSpec(TensorShape([None]), tf.string, 0, tf.int64),\n",
       " 'input_technique_platforms': RaggedTensorSpec(TensorShape([None]), tf.string, 0, tf.int64),\n",
       " 'input_group_tactics': RaggedTensorSpec(TensorShape([None]), tf.string, 0, tf.int64),\n",
       " 'input_technique_description': TensorSpec(shape=(768,), dtype=tf.float32, name=None),\n",
       " 'input_technique_data_sources': RaggedTensorSpec(TensorShape([None]), tf.string, 0, tf.int64),\n",
       " 'input_group_interaction_rate': TensorSpec(shape=(1,), dtype=tf.float32, name=None),\n",
       " 'input_technique_tactics': RaggedTensorSpec(TensorShape([None]), tf.string, 0, tf.int64),\n",
       " 'input_group_software_id': RaggedTensorSpec(TensorShape([None]), tf.string, 0, tf.int64),\n",
       " 'input_group_description': TensorSpec(shape=(768,), dtype=tf.float32, name=None),\n",
       " 'input_technique_mitigation_id': RaggedTensorSpec(TensorShape([None]), tf.string, 0, tf.int64),\n",
       " 'input_technique_detection_name': RaggedTensorSpec(TensorShape([None]), tf.string, 0, tf.int64)}"
      ]
     },
     "execution_count": 225,
     "metadata": {},
     "output_type": "execute_result"
    }
   ],
   "source": [
    "test_dataset.element_spec[0]"
   ]
  },
  {
   "cell_type": "code",
   "execution_count": 226,
   "metadata": {},
   "outputs": [
    {
     "data": {
      "text/plain": [
       "['input_technique_interaction_rate',\n",
       " 'input_technique_software_id',\n",
       " 'input_technique_platforms',\n",
       " 'input_technique_description',\n",
       " 'input_technique_data_sources',\n",
       " 'input_technique_tactics',\n",
       " 'input_technique_mitigation_id',\n",
       " 'input_technique_detection_name']"
      ]
     },
     "execution_count": 226,
     "metadata": {},
     "output_type": "execute_result"
    }
   ],
   "source": [
    "input_technique = [item for item in list(inputs.keys()) if item.startswith ('input_technique')]\n",
    "input_technique"
   ]
  },
  {
   "cell_type": "code",
   "execution_count": 227,
   "metadata": {},
   "outputs": [
    {
     "data": {
      "text/plain": [
       "['input_group_tactics',\n",
       " 'input_group_interaction_rate',\n",
       " 'input_group_software_id',\n",
       " 'input_group_description']"
      ]
     },
     "execution_count": 227,
     "metadata": {},
     "output_type": "execute_result"
    }
   ],
   "source": [
    "input_group = [item for item in list(inputs.keys()) if item.startswith ('input_group')]\n",
    "input_group"
   ]
  },
  {
   "cell_type": "code",
   "execution_count": 228,
   "metadata": {},
   "outputs": [],
   "source": [
    "# import tensorflow as tf\n",
    "# count_zeros = 0\n",
    "# count_ones = 0\n",
    "# for features, labels in train_dataset:\n",
    "#     # 'labels' will be the second element in each tuple\n",
    "#     labels_array = labels.numpy()  # Convert labels tensor to numpy array\n",
    "    \n",
    "#     # Count occurrences of 0 and 1 in the labels\n",
    "#     count_zeros += (labels_array == 0).sum()\n",
    "#     count_ones += (labels_array == 1).sum()\n",
    "\n",
    "# # Print the counts\n",
    "# print(f\"Number of zeros: {count_zeros}\")\n",
    "# print(f\"Number of ones: {count_ones}\")"
   ]
  },
  {
   "cell_type": "code",
   "execution_count": 229,
   "metadata": {},
   "outputs": [],
   "source": [
    "# count_zeros = 0\n",
    "# count_ones = 0\n",
    "# for features, labels in cv_dataset:\n",
    "#     # 'labels' will be the second element in each tuple\n",
    "#     labels_array = labels.numpy()  # Convert labels tensor to numpy array\n",
    "    \n",
    "#     # Count occurrences of 0 and 1 in the labels\n",
    "#     count_zeros += (labels_array == 0).sum()\n",
    "#     count_ones += (labels_array == 1).sum()\n",
    "\n",
    "# # Print the counts\n",
    "# print(f\"Number of zeros: {count_zeros}\")\n",
    "# print(f\"Number of ones: {count_ones}\")"
   ]
  }
 ],
 "metadata": {
  "kernelspec": {
   "display_name": "hcv-gt24-env",
   "language": "python",
   "name": "python3"
  },
  "language_info": {
   "codemirror_mode": {
    "name": "ipython",
    "version": 3
   },
   "file_extension": ".py",
   "mimetype": "text/x-python",
   "name": "python",
   "nbconvert_exporter": "python",
   "pygments_lexer": "ipython3",
   "version": "3.11.4"
  }
 },
 "nbformat": 4,
 "nbformat_minor": 2
}
