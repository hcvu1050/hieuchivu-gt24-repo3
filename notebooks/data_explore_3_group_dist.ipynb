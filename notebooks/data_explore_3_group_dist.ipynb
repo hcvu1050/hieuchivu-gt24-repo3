{
 "cells": [
  {
   "cell_type": "code",
   "execution_count": 14,
   "metadata": {},
   "outputs": [],
   "source": [
    "import pandas as pd"
   ]
  },
  {
   "cell_type": "code",
   "execution_count": 15,
   "metadata": {},
   "outputs": [],
   "source": [
    "g_t_df = pd.read_csv ('../data/interim/collected_labels_df.csv')"
   ]
  },
  {
   "cell_type": "code",
   "execution_count": 16,
   "metadata": {},
   "outputs": [],
   "source": [
    "val_counts = g_t_df['source ID'].value_counts()"
   ]
  },
  {
   "cell_type": "code",
   "execution_count": 17,
   "metadata": {},
   "outputs": [
    {
     "data": {
      "text/plain": [
       "116"
      ]
     },
     "execution_count": 17,
     "metadata": {},
     "output_type": "execute_result"
    }
   ],
   "source": [
    "x = 5\n",
    "\n",
    "# Use boolean indexing to get the indexes of values greater than x\n",
    "indexes_greater_than_x = val_counts[val_counts >= x].index\n",
    "len(indexes_greater_than_x)"
   ]
  },
  {
   "cell_type": "code",
   "execution_count": 18,
   "metadata": {},
   "outputs": [
    {
     "data": {
      "text/plain": [
       "Index(['G0032', 'G0094', 'G0007', 'G0050', 'G0059', 'G0034', 'G0010', 'G0096',\n",
       "       'G0069', 'G0114',\n",
       "       ...\n",
       "       'G0084', 'G0044', 'G0130', 'G0137', 'G0003', 'G0005', 'G0039', 'G0062',\n",
       "       'G0123', 'G0103'],\n",
       "      dtype='object', name='source ID', length=116)"
      ]
     },
     "execution_count": 18,
     "metadata": {},
     "output_type": "execute_result"
    }
   ],
   "source": [
    "indexes_greater_than_x"
   ]
  },
  {
   "cell_type": "code",
   "execution_count": 19,
   "metadata": {},
   "outputs": [
    {
     "data": {
      "text/plain": [
       "17"
      ]
     },
     "execution_count": 19,
     "metadata": {},
     "output_type": "execute_result"
    }
   ],
   "source": [
    "indexes_smaller_than_x = val_counts[val_counts < x].index\n",
    "len(indexes_smaller_than_x)"
   ]
  },
  {
   "cell_type": "code",
   "execution_count": 20,
   "metadata": {},
   "outputs": [
    {
     "data": {
      "text/plain": [
       "Index(['G0024', 'G1012', 'G0076', 'G0028', 'G0043', 'G0020', 'G0083', 'G0041',\n",
       "       'G0071', 'G0011', 'G0013', 'G0036', 'G0025', 'G0029', 'G0063', 'G0002',\n",
       "       'G0023'],\n",
       "      dtype='object', name='source ID')"
      ]
     },
     "execution_count": 20,
     "metadata": {},
     "output_type": "execute_result"
    }
   ],
   "source": [
    "indexes_smaller_than_x"
   ]
  }
 ],
 "metadata": {
  "kernelspec": {
   "display_name": "hcv-gt24-env",
   "language": "python",
   "name": "python3"
  },
  "language_info": {
   "codemirror_mode": {
    "name": "ipython",
    "version": 3
   },
   "file_extension": ".py",
   "mimetype": "text/x-python",
   "name": "python",
   "nbconvert_exporter": "python",
   "pygments_lexer": "ipython3",
   "version": "3.11.4"
  }
 },
 "nbformat": 4,
 "nbformat_minor": 2
}
