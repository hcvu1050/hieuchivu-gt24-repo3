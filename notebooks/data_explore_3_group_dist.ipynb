{
 "cells": [
  {
   "cell_type": "markdown",
   "metadata": {},
   "source": [
    "# Checking the number of postive interaction for each Group"
   ]
  },
  {
   "cell_type": "code",
   "execution_count": 3,
   "metadata": {},
   "outputs": [],
   "source": [
    "import pandas as pd"
   ]
  },
  {
   "cell_type": "code",
   "execution_count": 4,
   "metadata": {},
   "outputs": [
    {
     "data": {
      "text/plain": [
       "source ID\n",
       "G0032    91\n",
       "G0094    89\n",
       "G0007    86\n",
       "G0050    78\n",
       "G0059    77\n",
       "         ..\n",
       "G0025     2\n",
       "G0029     1\n",
       "G0063     1\n",
       "G0002     1\n",
       "G0023     1\n",
       "Name: count, Length: 133, dtype: int64"
      ]
     },
     "execution_count": 4,
     "metadata": {},
     "output_type": "execute_result"
    }
   ],
   "source": [
    "g_t_df = pd.read_csv ('../data/interim/collected_labels_df.csv')\n",
    "val_counts = g_t_df['source ID'].value_counts()\n",
    "val_counts"
   ]
  },
  {
   "cell_type": "code",
   "execution_count": 8,
   "metadata": {},
   "outputs": [
    {
     "name": "stdout",
     "output_type": "stream",
     "text": [
      "99\n",
      "34\n"
     ]
    }
   ],
   "source": [
    "x = 8\n",
    "\n",
    "# Use boolean indexing to get the indexes of values greater than x\n",
    "indexes_greater_than_x = val_counts[val_counts >= x].index\n",
    "print (len(indexes_greater_than_x))\n",
    "indexes_smaller_than_x = val_counts[val_counts < x].index\n",
    "print (len(indexes_smaller_than_x))"
   ]
  }
 ],
 "metadata": {
  "kernelspec": {
   "display_name": "hcv-gt24-env",
   "language": "python",
   "name": "python3"
  },
  "language_info": {
   "codemirror_mode": {
    "name": "ipython",
    "version": 3
   },
   "file_extension": ".py",
   "mimetype": "text/x-python",
   "name": "python",
   "nbconvert_exporter": "python",
   "pygments_lexer": "ipython3",
   "version": "3.11.4"
  }
 },
 "nbformat": 4,
 "nbformat_minor": 2
}
