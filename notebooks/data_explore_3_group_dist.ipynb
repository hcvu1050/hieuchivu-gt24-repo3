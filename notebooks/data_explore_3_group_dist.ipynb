{
 "cells": [
  {
   "cell_type": "code",
   "execution_count": 15,
   "metadata": {},
   "outputs": [],
   "source": [
    "import pandas as pd"
   ]
  },
  {
   "cell_type": "code",
   "execution_count": 16,
   "metadata": {},
   "outputs": [],
   "source": [
    "g_t_df = pd.read_csv ('../data/interim/collected_labels_df.csv')"
   ]
  },
  {
   "cell_type": "code",
   "execution_count": 17,
   "metadata": {},
   "outputs": [],
   "source": [
    "val_counts = g_t_df['source ID'].value_counts()"
   ]
  },
  {
   "cell_type": "code",
   "execution_count": 18,
   "metadata": {},
   "outputs": [
    {
     "data": {
      "text/plain": [
       "source ID\n",
       "G0032    91\n",
       "G0094    89\n",
       "G0007    86\n",
       "G0050    78\n",
       "G0059    77\n",
       "         ..\n",
       "G0025     2\n",
       "G0029     1\n",
       "G0063     1\n",
       "G0002     1\n",
       "G0023     1\n",
       "Name: count, Length: 133, dtype: int64"
      ]
     },
     "execution_count": 18,
     "metadata": {},
     "output_type": "execute_result"
    }
   ],
   "source": [
    "val_counts"
   ]
  },
  {
   "cell_type": "code",
   "execution_count": 12,
   "metadata": {},
   "outputs": [
    {
     "data": {
      "text/plain": [
       "116"
      ]
     },
     "execution_count": 12,
     "metadata": {},
     "output_type": "execute_result"
    }
   ],
   "source": [
    "x = 5\n",
    "\n",
    "# Use boolean indexing to get the indexes of values greater than x\n",
    "indexes_greater_than_x = val_counts[val_counts >= x].index\n",
    "len(indexes_greater_than_x)"
   ]
  },
  {
   "cell_type": "code",
   "execution_count": 13,
   "metadata": {},
   "outputs": [],
   "source": [
    "indexes_greater_than_x = list (indexes_greater_than_x)"
   ]
  },
  {
   "cell_type": "code",
   "execution_count": 14,
   "metadata": {},
   "outputs": [
    {
     "data": {
      "text/plain": [
       "['G0032',\n",
       " 'G0094',\n",
       " 'G0007',\n",
       " 'G0050',\n",
       " 'G0059',\n",
       " 'G0034',\n",
       " 'G0010',\n",
       " 'G0096',\n",
       " 'G0069',\n",
       " 'G0114',\n",
       " 'G0027',\n",
       " 'G0035',\n",
       " 'G0049',\n",
       " 'G0139',\n",
       " 'G0016',\n",
       " 'G0087',\n",
       " 'G0047',\n",
       " 'G0045',\n",
       " 'G0102',\n",
       " 'G0004',\n",
       " 'G1006',\n",
       " 'G0129',\n",
       " 'G0065',\n",
       " 'G0082',\n",
       " 'G0022',\n",
       " 'G0117',\n",
       " 'G0040',\n",
       " 'G0037',\n",
       " 'G0060',\n",
       " 'G0046',\n",
       " 'G0081',\n",
       " 'G1004',\n",
       " 'G0106',\n",
       " 'G1001',\n",
       " 'G0080',\n",
       " 'G0092',\n",
       " 'G0093',\n",
       " 'G0125',\n",
       " 'G0064',\n",
       " 'G0121',\n",
       " 'G0061',\n",
       " 'G0067',\n",
       " 'G1014',\n",
       " 'G0091',\n",
       " 'G0126',\n",
       " 'G0128',\n",
       " 'G0012',\n",
       " 'G0006',\n",
       " 'G0108',\n",
       " 'G0100',\n",
       " 'G0073',\n",
       " 'G1003',\n",
       " 'G0140',\n",
       " 'G0142',\n",
       " 'G0112',\n",
       " 'G0119',\n",
       " 'G0088',\n",
       " 'G0077',\n",
       " 'G0038',\n",
       " 'G0078',\n",
       " 'G1008',\n",
       " 'G0021',\n",
       " 'G1002',\n",
       " 'G0001',\n",
       " 'G1011',\n",
       " 'G0131',\n",
       " 'G0135',\n",
       " 'G0143',\n",
       " 'G0019',\n",
       " 'G0127',\n",
       " 'G0134',\n",
       " 'G0098',\n",
       " 'G0122',\n",
       " 'G0018',\n",
       " 'G0026',\n",
       " 'G0138',\n",
       " 'G1009',\n",
       " 'G0070',\n",
       " 'G0085',\n",
       " 'G0056',\n",
       " 'G0095',\n",
       " 'G0120',\n",
       " 'G0090',\n",
       " 'G0051',\n",
       " 'G0053',\n",
       " 'G0068',\n",
       " 'G0009',\n",
       " 'G0105',\n",
       " 'G0054',\n",
       " 'G0107',\n",
       " 'G0099',\n",
       " 'G0115',\n",
       " 'G1007',\n",
       " 'G0008',\n",
       " 'G0066',\n",
       " 'G1013',\n",
       " 'G0033',\n",
       " 'G0075',\n",
       " 'G0052',\n",
       " 'G1005',\n",
       " 'G0124',\n",
       " 'G0089',\n",
       " 'G0079',\n",
       " 'G0136',\n",
       " 'G0048',\n",
       " 'G0133',\n",
       " 'G0084',\n",
       " 'G0044',\n",
       " 'G0130',\n",
       " 'G0137',\n",
       " 'G0003',\n",
       " 'G0005',\n",
       " 'G0039',\n",
       " 'G0062',\n",
       " 'G0123',\n",
       " 'G0103']"
      ]
     },
     "execution_count": 14,
     "metadata": {},
     "output_type": "execute_result"
    }
   ],
   "source": [
    "indexes_greater_than_x"
   ]
  },
  {
   "cell_type": "code",
   "execution_count": 19,
   "metadata": {},
   "outputs": [
    {
     "data": {
      "text/plain": [
       "17"
      ]
     },
     "execution_count": 19,
     "metadata": {},
     "output_type": "execute_result"
    }
   ],
   "source": [
    "indexes_smaller_than_x = val_counts[val_counts < x].index\n",
    "len(indexes_smaller_than_x)"
   ]
  },
  {
   "cell_type": "code",
   "execution_count": 20,
   "metadata": {},
   "outputs": [
    {
     "data": {
      "text/plain": [
       "Index(['G0024', 'G1012', 'G0076', 'G0028', 'G0043', 'G0020', 'G0083', 'G0041',\n",
       "       'G0071', 'G0011', 'G0013', 'G0036', 'G0025', 'G0029', 'G0063', 'G0002',\n",
       "       'G0023'],\n",
       "      dtype='object', name='source ID')"
      ]
     },
     "execution_count": 20,
     "metadata": {},
     "output_type": "execute_result"
    }
   ],
   "source": [
    "indexes_smaller_than_x"
   ]
  }
 ],
 "metadata": {
  "kernelspec": {
   "display_name": "hcv-gt24-env",
   "language": "python",
   "name": "python3"
  },
  "language_info": {
   "codemirror_mode": {
    "name": "ipython",
    "version": 3
   },
   "file_extension": ".py",
   "mimetype": "text/x-python",
   "name": "python",
   "nbconvert_exporter": "python",
   "pygments_lexer": "ipython3",
   "version": "3.11.4"
  }
 },
 "nbformat": 4,
 "nbformat_minor": 2
}
