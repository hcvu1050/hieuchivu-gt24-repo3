{
 "cells": [
  {
   "cell_type": "code",
   "execution_count": 58,
   "metadata": {},
   "outputs": [],
   "source": [
    "import tensorflow as tf"
   ]
  },
  {
   "cell_type": "code",
   "execution_count": 59,
   "metadata": {},
   "outputs": [],
   "source": [
    "model = tf.keras.models.load_model('../trained_models/model1/m06c_test1')"
   ]
  },
  {
   "cell_type": "code",
   "execution_count": 60,
   "metadata": {},
   "outputs": [
    {
     "data": {
      "text/plain": [
       "<KerasTensor: shape=(None, 32) dtype=float32 (created by layer 'output_NN')>"
      ]
     },
     "execution_count": 60,
     "metadata": {},
     "output_type": "execute_result"
    }
   ],
   "source": [
    "model.Technique_NN.output"
   ]
  },
  {
   "cell_type": "code",
   "execution_count": 61,
   "metadata": {},
   "outputs": [
    {
     "data": {
      "text/plain": [
       "[<keras.engine.input_layer.InputLayer at 0x283a1ac3410>,\n",
       " <keras.engine.input_layer.InputLayer at 0x283a1ac1390>,\n",
       " <keras.engine.input_layer.InputLayer at 0x283a0698650>,\n",
       " <keras.engine.input_layer.InputLayer at 0x283a1ac5350>,\n",
       " <keras.engine.input_layer.InputLayer at 0x283a1ad7c10>,\n",
       " <keras.engine.input_layer.InputLayer at 0x283a1ad5a10>,\n",
       " <keras.engine.input_layer.InputLayer at 0x283a1adb4d0>,\n",
       " <keras.engine.input_layer.InputLayer at 0x283a1adb910>,\n",
       " <keras.engine.input_layer.InputLayer at 0x283a1acde50>,\n",
       " <keras.engine.input_layer.InputLayer at 0x283a1acfa90>,\n",
       " <keras.engine.input_layer.InputLayer at 0x283a1aceb10>,\n",
       " <keras.engine.input_layer.InputLayer at 0x283a1ac8850>,\n",
       " <keras.layers.preprocessing.text_vectorization.TextVectorization at 0x283a103d850>,\n",
       " <keras.layers.preprocessing.text_vectorization.TextVectorization at 0x283a1ae00d0>,\n",
       " <keras.layers.preprocessing.text_vectorization.TextVectorization at 0x283a1b28150>,\n",
       " <keras.layers.preprocessing.text_vectorization.TextVectorization at 0x283a1b2b410>,\n",
       " <keras.layers.preprocessing.text_vectorization.TextVectorization at 0x283a1b24f90>,\n",
       " <keras.layers.preprocessing.text_vectorization.TextVectorization at 0x283a1b26590>,\n",
       " <keras.layers.core.embedding.Embedding at 0x283a0720050>,\n",
       " <keras.layers.core.embedding.Embedding at 0x283a0721b50>,\n",
       " <keras.layers.core.embedding.Embedding at 0x283a0723150>,\n",
       " <keras.layers.core.embedding.Embedding at 0x283a0723890>,\n",
       " <keras.layers.core.embedding.Embedding at 0x283a0725a50>,\n",
       " <keras.layers.core.embedding.Embedding at 0x283a0726c10>,\n",
       " <keras.layers.merging.concatenate.Concatenate at 0x283a0727f90>,\n",
       " <keras.layers.merging.concatenate.Concatenate at 0x283a072c8d0>,\n",
       " <keras.engine.sequential.Sequential at 0x283a0730a90>,\n",
       " <keras.engine.sequential.Sequential at 0x283a0736110>,\n",
       " <keras.layers.merging.dot.Dot at 0x283a0737090>]"
      ]
     },
     "execution_count": 61,
     "metadata": {},
     "output_type": "execute_result"
    }
   ],
   "source": [
    "model.layers"
   ]
  },
  {
   "cell_type": "code",
   "execution_count": 64,
   "metadata": {},
   "outputs": [
    {
     "ename": "AttributeError",
     "evalue": "Layer embed_tactics has no inbound nodes.",
     "output_type": "error",
     "traceback": [
      "\u001b[1;31m---------------------------------------------------------------------------\u001b[0m",
      "\u001b[1;31mAttributeError\u001b[0m                            Traceback (most recent call last)",
      "\u001b[1;32mc:\\Users\\vuchi\\GT24\\hieuchivu-gt24-repo3\\notebooks\\unit_test_8_model_load_2.ipynb Cell 5\u001b[0m line \u001b[0;36m1\n\u001b[0;32m      <a href='vscode-notebook-cell:/c%3A/Users/vuchi/GT24/hieuchivu-gt24-repo3/notebooks/unit_test_8_model_load_2.ipynb#X12sZmlsZQ%3D%3D?line=0'>1</a>\u001b[0m trained_technique_brach \u001b[39m=\u001b[39m tf\u001b[39m.\u001b[39mkeras\u001b[39m.\u001b[39mmodels\u001b[39m.\u001b[39mModel (\n\u001b[0;32m      <a href='vscode-notebook-cell:/c%3A/Users/vuchi/GT24/hieuchivu-gt24-repo3/notebooks/unit_test_8_model_load_2.ipynb#X12sZmlsZQ%3D%3D?line=1'>2</a>\u001b[0m     inputs \u001b[39m=\u001b[39m [\n\u001b[0;32m      <a href='vscode-notebook-cell:/c%3A/Users/vuchi/GT24/hieuchivu-gt24-repo3/notebooks/unit_test_8_model_load_2.ipynb#X12sZmlsZQ%3D%3D?line=2'>3</a>\u001b[0m         model\u001b[39m.\u001b[39minput_technique_data_sources\u001b[39m.\u001b[39minput,\n\u001b[0;32m      <a href='vscode-notebook-cell:/c%3A/Users/vuchi/GT24/hieuchivu-gt24-repo3/notebooks/unit_test_8_model_load_2.ipynb#X12sZmlsZQ%3D%3D?line=3'>4</a>\u001b[0m         model\u001b[39m.\u001b[39minput_technique_detection_name\u001b[39m.\u001b[39minput,\n\u001b[0;32m      <a href='vscode-notebook-cell:/c%3A/Users/vuchi/GT24/hieuchivu-gt24-repo3/notebooks/unit_test_8_model_load_2.ipynb#X12sZmlsZQ%3D%3D?line=4'>5</a>\u001b[0m         model\u001b[39m.\u001b[39minput_technique_mitigation_id\u001b[39m.\u001b[39minput,\n\u001b[0;32m      <a href='vscode-notebook-cell:/c%3A/Users/vuchi/GT24/hieuchivu-gt24-repo3/notebooks/unit_test_8_model_load_2.ipynb#X12sZmlsZQ%3D%3D?line=5'>6</a>\u001b[0m         model\u001b[39m.\u001b[39minput_technique_platforms\u001b[39m.\u001b[39minput,\n\u001b[0;32m      <a href='vscode-notebook-cell:/c%3A/Users/vuchi/GT24/hieuchivu-gt24-repo3/notebooks/unit_test_8_model_load_2.ipynb#X12sZmlsZQ%3D%3D?line=6'>7</a>\u001b[0m         model\u001b[39m.\u001b[39minput_technique_software_id\u001b[39m.\u001b[39minput,\n\u001b[0;32m      <a href='vscode-notebook-cell:/c%3A/Users/vuchi/GT24/hieuchivu-gt24-repo3/notebooks/unit_test_8_model_load_2.ipynb#X12sZmlsZQ%3D%3D?line=7'>8</a>\u001b[0m         model\u001b[39m.\u001b[39minput_technique_tactics\u001b[39m.\u001b[39minput,\n\u001b[0;32m      <a href='vscode-notebook-cell:/c%3A/Users/vuchi/GT24/hieuchivu-gt24-repo3/notebooks/unit_test_8_model_load_2.ipynb#X12sZmlsZQ%3D%3D?line=8'>9</a>\u001b[0m         model\u001b[39m.\u001b[39minput_technique_interaction_rate\u001b[39m.\u001b[39minput,\n\u001b[0;32m     <a href='vscode-notebook-cell:/c%3A/Users/vuchi/GT24/hieuchivu-gt24-repo3/notebooks/unit_test_8_model_load_2.ipynb#X12sZmlsZQ%3D%3D?line=9'>10</a>\u001b[0m         model\u001b[39m.\u001b[39minput_technique_description\u001b[39m.\u001b[39minput,\n\u001b[0;32m     <a href='vscode-notebook-cell:/c%3A/Users/vuchi/GT24/hieuchivu-gt24-repo3/notebooks/unit_test_8_model_load_2.ipynb#X12sZmlsZQ%3D%3D?line=10'>11</a>\u001b[0m     ], \n\u001b[1;32m---> <a href='vscode-notebook-cell:/c%3A/Users/vuchi/GT24/hieuchivu-gt24-repo3/notebooks/unit_test_8_model_load_2.ipynb#X12sZmlsZQ%3D%3D?line=11'>12</a>\u001b[0m     outputs \u001b[39m=\u001b[39m [model\u001b[39m.\u001b[39membed_tactics\u001b[39m.\u001b[39moutput]\n\u001b[0;32m     <a href='vscode-notebook-cell:/c%3A/Users/vuchi/GT24/hieuchivu-gt24-repo3/notebooks/unit_test_8_model_load_2.ipynb#X12sZmlsZQ%3D%3D?line=12'>13</a>\u001b[0m )\n",
      "File \u001b[1;32m~\\AppData\\Roaming\\Python\\Python311\\site-packages\\keras\\engine\\base_layer.py:2100\u001b[0m, in \u001b[0;36mLayer.output\u001b[1;34m(self)\u001b[0m\n\u001b[0;32m   2086\u001b[0m \u001b[39m\u001b[39m\u001b[39m\"\"\"Retrieves the output tensor(s) of a layer.\u001b[39;00m\n\u001b[0;32m   2087\u001b[0m \n\u001b[0;32m   2088\u001b[0m \u001b[39mOnly applicable if the layer has exactly one output,\u001b[39;00m\n\u001b[1;32m   (...)\u001b[0m\n\u001b[0;32m   2097\u001b[0m \u001b[39m  RuntimeError: if called in Eager mode.\u001b[39;00m\n\u001b[0;32m   2098\u001b[0m \u001b[39m\"\"\"\u001b[39;00m\n\u001b[0;32m   2099\u001b[0m \u001b[39mif\u001b[39;00m \u001b[39mnot\u001b[39;00m \u001b[39mself\u001b[39m\u001b[39m.\u001b[39m_inbound_nodes:\n\u001b[1;32m-> 2100\u001b[0m     \u001b[39mraise\u001b[39;00m \u001b[39mAttributeError\u001b[39;00m(\n\u001b[0;32m   2101\u001b[0m         \u001b[39m\"\u001b[39m\u001b[39mLayer \u001b[39m\u001b[39m\"\u001b[39m \u001b[39m+\u001b[39m \u001b[39mself\u001b[39m\u001b[39m.\u001b[39mname \u001b[39m+\u001b[39m \u001b[39m\"\u001b[39m\u001b[39m has no inbound nodes.\u001b[39m\u001b[39m\"\u001b[39m\n\u001b[0;32m   2102\u001b[0m     )\n\u001b[0;32m   2103\u001b[0m \u001b[39mreturn\u001b[39;00m \u001b[39mself\u001b[39m\u001b[39m.\u001b[39m_get_node_attribute_at_index(\u001b[39m0\u001b[39m, \u001b[39m\"\u001b[39m\u001b[39moutput_tensors\u001b[39m\u001b[39m\"\u001b[39m, \u001b[39m\"\u001b[39m\u001b[39moutput\u001b[39m\u001b[39m\"\u001b[39m)\n",
      "\u001b[1;31mAttributeError\u001b[0m: Layer embed_tactics has no inbound nodes."
     ]
    }
   ],
   "source": [
    "trained_technique_brach = tf.keras.models.Model (\n",
    "    inputs = [\n",
    "        model.input_technique_data_sources.input,\n",
    "        model.input_technique_detection_name.input,\n",
    "        model.input_technique_mitigation_id.input,\n",
    "        model.input_technique_platforms.input,\n",
    "        model.input_technique_software_id.input,\n",
    "        model.input_technique_tactics.input,\n",
    "        model.input_technique_interaction_rate.input,\n",
    "        model.input_technique_description.input,\n",
    "    ], \n",
    "    outputs = [model.embed_tactics.output]\n",
    ")"
   ]
  },
  {
   "cell_type": "code",
   "execution_count": 56,
   "metadata": {},
   "outputs": [
    {
     "ename": "AttributeError",
     "evalue": "Layer custom_model_3 is not connected, no input to return.",
     "output_type": "error",
     "traceback": [
      "\u001b[1;31m---------------------------------------------------------------------------\u001b[0m",
      "\u001b[1;31mAttributeError\u001b[0m                            Traceback (most recent call last)",
      "\u001b[1;32mc:\\Users\\vuchi\\GT24\\hieuchivu-gt24-repo3\\notebooks\\unit_test_8_model_load_2.ipynb Cell 6\u001b[0m line \u001b[0;36m2\n\u001b[0;32m     <a href='vscode-notebook-cell:/c%3A/Users/vuchi/GT24/hieuchivu-gt24-repo3/notebooks/unit_test_8_model_load_2.ipynb#X20sZmlsZQ%3D%3D?line=16'>17</a>\u001b[0m model \u001b[39m=\u001b[39m CustomModel()\n\u001b[0;32m     <a href='vscode-notebook-cell:/c%3A/Users/vuchi/GT24/hieuchivu-gt24-repo3/notebooks/unit_test_8_model_load_2.ipynb#X20sZmlsZQ%3D%3D?line=18'>19</a>\u001b[0m \u001b[39m# Extract layers up to dense_A\u001b[39;00m\n\u001b[1;32m---> <a href='vscode-notebook-cell:/c%3A/Users/vuchi/GT24/hieuchivu-gt24-repo3/notebooks/unit_test_8_model_load_2.ipynb#X20sZmlsZQ%3D%3D?line=19'>20</a>\u001b[0m input_layer \u001b[39m=\u001b[39m model\u001b[39m.\u001b[39minput\n\u001b[0;32m     <a href='vscode-notebook-cell:/c%3A/Users/vuchi/GT24/hieuchivu-gt24-repo3/notebooks/unit_test_8_model_load_2.ipynb#X20sZmlsZQ%3D%3D?line=20'>21</a>\u001b[0m x \u001b[39m=\u001b[39m input_layer\n\u001b[0;32m     <a href='vscode-notebook-cell:/c%3A/Users/vuchi/GT24/hieuchivu-gt24-repo3/notebooks/unit_test_8_model_load_2.ipynb#X20sZmlsZQ%3D%3D?line=21'>22</a>\u001b[0m \u001b[39mfor\u001b[39;00m layer \u001b[39min\u001b[39;00m model\u001b[39m.\u001b[39mlayers:\n",
      "File \u001b[1;32m~\\AppData\\Roaming\\Python\\Python311\\site-packages\\keras\\engine\\base_layer.py:2079\u001b[0m, in \u001b[0;36mLayer.input\u001b[1;34m(self)\u001b[0m\n\u001b[0;32m   2066\u001b[0m \u001b[39m\u001b[39m\u001b[39m\"\"\"Retrieves the input tensor(s) of a layer.\u001b[39;00m\n\u001b[0;32m   2067\u001b[0m \n\u001b[0;32m   2068\u001b[0m \u001b[39mOnly applicable if the layer has exactly one input,\u001b[39;00m\n\u001b[1;32m   (...)\u001b[0m\n\u001b[0;32m   2076\u001b[0m \u001b[39m  AttributeError: If no inbound nodes are found.\u001b[39;00m\n\u001b[0;32m   2077\u001b[0m \u001b[39m\"\"\"\u001b[39;00m\n\u001b[0;32m   2078\u001b[0m \u001b[39mif\u001b[39;00m \u001b[39mnot\u001b[39;00m \u001b[39mself\u001b[39m\u001b[39m.\u001b[39m_inbound_nodes:\n\u001b[1;32m-> 2079\u001b[0m     \u001b[39mraise\u001b[39;00m \u001b[39mAttributeError\u001b[39;00m(\n\u001b[0;32m   2080\u001b[0m         \u001b[39m\"\u001b[39m\u001b[39mLayer \u001b[39m\u001b[39m\"\u001b[39m \u001b[39m+\u001b[39m \u001b[39mself\u001b[39m\u001b[39m.\u001b[39mname \u001b[39m+\u001b[39m \u001b[39m\"\u001b[39m\u001b[39m is not connected, no input to return.\u001b[39m\u001b[39m\"\u001b[39m\n\u001b[0;32m   2081\u001b[0m     )\n\u001b[0;32m   2082\u001b[0m \u001b[39mreturn\u001b[39;00m \u001b[39mself\u001b[39m\u001b[39m.\u001b[39m_get_node_attribute_at_index(\u001b[39m0\u001b[39m, \u001b[39m\"\u001b[39m\u001b[39minput_tensors\u001b[39m\u001b[39m\"\u001b[39m, \u001b[39m\"\u001b[39m\u001b[39minput\u001b[39m\u001b[39m\"\u001b[39m)\n",
      "\u001b[1;31mAttributeError\u001b[0m: Layer custom_model_3 is not connected, no input to return."
     ]
    }
   ],
   "source": [
    "\n",
    "class CustomModel(tf.keras.Model):\n",
    "    def __init__(self):\n",
    "        super(CustomModel, self).__init__()\n",
    "        # Define your layers\n",
    "        self.concat_layer = tf.keras.layers.Concatenate()\n",
    "        self.dense_A = tf.keras.layers.Dense(64, activation='relu')\n",
    "        # Define more layers...\n",
    "    \n",
    "    def call(self, inputs):\n",
    "        # Define the forward pass\n",
    "        x = self.concat_layer(inputs)\n",
    "        x = self.dense_A(x)\n",
    "        # Continue with more layers...\n",
    "        return x\n",
    "\n",
    "# Instantiate your custom model\n",
    "model = CustomModel()\n",
    "\n",
    "# Extract layers up to dense_A\n",
    "input_layer = model.input\n",
    "x = input_layer\n",
    "for layer in model.layers:\n",
    "    x = layer(x)\n",
    "    if layer == model.dense_A:\n",
    "        break  # Stop when reaching the desired layer\n",
    "\n",
    "extracted_output = x\n",
    "extracted_model = tf.keras.models.Model(inputs=input_layer, outputs=extracted_output)\n"
   ]
  }
 ],
 "metadata": {
  "kernelspec": {
   "display_name": "hcv-gt24-env",
   "language": "python",
   "name": "python3"
  },
  "language_info": {
   "codemirror_mode": {
    "name": "ipython",
    "version": 3
   },
   "file_extension": ".py",
   "mimetype": "text/x-python",
   "name": "python",
   "nbconvert_exporter": "python",
   "pygments_lexer": "ipython3",
   "version": "3.11.4"
  }
 },
 "nbformat": 4,
 "nbformat_minor": 2
}
