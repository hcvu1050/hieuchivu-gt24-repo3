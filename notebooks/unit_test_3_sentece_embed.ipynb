{
 "cells": [
  {
   "cell_type": "code",
   "execution_count": 1,
   "metadata": {},
   "outputs": [],
   "source": [
    "import sys\n",
    "sys.path.append ('../')"
   ]
  },
  {
   "cell_type": "code",
   "execution_count": 2,
   "metadata": {},
   "outputs": [],
   "source": [
    "from src.data.build_features_3 import build_feature_sentence_embed"
   ]
  },
  {
   "cell_type": "code",
   "execution_count": 3,
   "metadata": {},
   "outputs": [],
   "source": [
    "import pandas as pd\n",
    "df = pd.read_pickle ('../data/interim/X_group_org.pkl')"
   ]
  },
  {
   "cell_type": "code",
   "execution_count": 4,
   "metadata": {},
   "outputs": [],
   "source": [
    "import tensorflow as tf\n",
    "from transformers import BertTokenizer, TFBertModel"
   ]
  },
  {
   "cell_type": "code",
   "execution_count": 5,
   "metadata": {},
   "outputs": [
    {
     "name": "stderr",
     "output_type": "stream",
     "text": [
      "Some weights of the PyTorch model were not used when initializing the TF 2.0 model TFBertModel: ['cls.predictions.transform.LayerNorm.weight', 'cls.predictions.transform.LayerNorm.bias', 'cls.predictions.transform.dense.weight', 'cls.seq_relationship.weight', 'cls.predictions.bias', 'cls.seq_relationship.bias', 'cls.predictions.transform.dense.bias']\n",
      "- This IS expected if you are initializing TFBertModel from a PyTorch model trained on another task or with another architecture (e.g. initializing a TFBertForSequenceClassification model from a BertForPreTraining model).\n",
      "- This IS NOT expected if you are initializing TFBertModel from a PyTorch model that you expect to be exactly identical (e.g. initializing a TFBertForSequenceClassification model from a BertForSequenceClassification model).\n",
      "All the weights of TFBertModel were initialized from the PyTorch model.\n",
      "If your task is similar to the task the model of the checkpoint was trained on, you can already use TFBertModel for predictions without further training.\n"
     ]
    }
   ],
   "source": [
    "tokenizer = BertTokenizer.from_pretrained('bert-base-uncased')\n",
    "\n",
    "embed_model = TFBertModel.from_pretrained('bert-base-uncased')"
   ]
  },
  {
   "cell_type": "code",
   "execution_count": 6,
   "metadata": {},
   "outputs": [],
   "source": [
    "df = build_feature_sentence_embed (df, 'input_group_description', tokenizer=tokenizer, embed_model=embed_model)"
   ]
  },
  {
   "cell_type": "code",
   "execution_count": 7,
   "metadata": {},
   "outputs": [],
   "source": [
    "# df['input_group_description'] = df['input_group_description'].apply (lambda x: x.numpy())"
   ]
  },
  {
   "cell_type": "code",
   "execution_count": 13,
   "metadata": {},
   "outputs": [],
   "source": [
    "        \n",
    "tf_data =  tf.convert_to_tensor(list(df['input_group_description'].values) )"
   ]
  },
  {
   "cell_type": "code",
   "execution_count": 9,
   "metadata": {},
   "outputs": [],
   "source": [
    "tensor_dataset = tf.data.Dataset.from_tensor_slices (tf_data)"
   ]
  },
  {
   "cell_type": "code",
   "execution_count": 10,
   "metadata": {},
   "outputs": [
    {
     "data": {
      "text/plain": [
       "TensorSpec(shape=(768,), dtype=tf.float32, name=None)"
      ]
     },
     "execution_count": 10,
     "metadata": {},
     "output_type": "execute_result"
    }
   ],
   "source": [
    "tensor_dataset.element_spec"
   ]
  },
  {
   "cell_type": "code",
   "execution_count": 11,
   "metadata": {},
   "outputs": [
    {
     "name": "stdout",
     "output_type": "stream",
     "text": [
      "tf.Tensor(\n",
      "[[-0.41692165 -0.26227784 -0.47415727 ...  0.23750633  0.54139286\n",
      "   0.3635451 ]\n",
      " [-0.6153141   0.07517785 -0.5039633  ...  0.02190003  0.41163993\n",
      "   0.5318432 ]\n",
      " [-0.32223642  0.02966995 -0.7427179  ... -0.06633354  0.40681094\n",
      "   0.35168236]\n",
      " ...\n",
      " [-0.21245316 -0.16077232 -0.53828466 ... -0.19182791  0.1127291\n",
      "   0.6013336 ]\n",
      " [-0.4412616  -0.09688308 -0.5674355  ...  0.03047708  0.43143228\n",
      "   0.29421186]\n",
      " [-0.8505499  -0.36748526 -0.47440514 ... -0.08230894  0.3956018\n",
      "   0.6180885 ]], shape=(32, 768), dtype=float32)\n",
      "tf.Tensor(\n",
      "[[-0.47344586 -0.36622608 -0.7452876  ... -0.16944227 -0.00310148\n",
      "   0.40046868]\n",
      " [-0.3550554   0.1195565  -0.6948228  ...  0.23805076  0.3484552\n",
      "   0.21070875]\n",
      " [-0.42412415 -0.036089   -0.400091   ...  0.0914133   0.44807845\n",
      "   0.2917031 ]\n",
      " ...\n",
      " [-0.3705038  -0.19198518 -0.7302716  ...  0.02015086  0.41448608\n",
      "   0.31733295]\n",
      " [-0.72978836 -0.17686446 -0.79618424 ... -0.14293408  0.17816684\n",
      "   0.40797907]\n",
      " [-0.4115944  -0.15360498 -0.6364404  ...  0.26849103  0.4379485\n",
      "   0.57750326]], shape=(32, 768), dtype=float32)\n",
      "tf.Tensor(\n",
      "[[-0.64864147  0.03148051 -0.57945883 ...  0.11089743  0.27817887\n",
      "   0.43213427]\n",
      " [-0.3736799  -0.05894865 -0.51576185 ...  0.13611227  0.24190842\n",
      "   0.31401956]\n",
      " [-0.4872932  -0.12533611 -0.5683133  ...  0.04658232  0.36476746\n",
      "   0.4558507 ]\n",
      " ...\n",
      " [-0.8191499  -0.21896549 -0.746426   ...  0.02702511  0.7166197\n",
      "   0.3083321 ]\n",
      " [-0.54187727 -0.10352524 -0.55386484 ... -0.1711132   0.30047518\n",
      "   0.31513792]\n",
      " [ 0.07413866 -0.38872755 -0.8776694  ...  0.39503378  0.45164368\n",
      "   0.49243116]], shape=(32, 768), dtype=float32)\n",
      "tf.Tensor(\n",
      "[[-0.5213748  -0.00469497 -0.30031675 ... -0.0537388   0.14842713\n",
      "   0.22247912]\n",
      " [-0.5247825  -0.14065465 -0.35513663 ... -0.09811492  0.24784946\n",
      "   0.5430761 ]\n",
      " [-0.497494    0.01479723 -0.69136536 ...  0.27062565  0.5333591\n",
      "   0.43991116]\n",
      " ...\n",
      " [-0.607848    0.16811034 -0.38816303 ... -0.16048826  0.3477853\n",
      "   0.3899799 ]\n",
      " [-0.8467308  -0.01337183 -0.8734332  ...  0.07124669  0.3743265\n",
      "   0.25107697]\n",
      " [-0.57121766 -0.05680349 -0.4545224  ... -0.00422731  0.18136016\n",
      "   0.42694986]], shape=(32, 768), dtype=float32)\n",
      "tf.Tensor(\n",
      "[[-0.3779103  -0.19292378 -0.68493104 ...  0.02279762  0.35392237\n",
      "   0.40285647]\n",
      " [-0.04400965  0.03923234 -0.05856045 ...  0.04647237  0.24550919\n",
      "   0.55336314]\n",
      " [-0.3818275  -0.35903245 -0.33369118 ...  0.06592012  0.18551701\n",
      "   0.323459  ]\n",
      " ...\n",
      " [-0.48862642 -0.18858606 -0.5323841  ...  0.0991535   0.42671236\n",
      "   0.35306948]\n",
      " [-0.2925966   0.0350828  -0.64397854 ...  0.05916376  0.30832052\n",
      "   0.35108182]\n",
      " [-0.73226637 -0.11369833 -1.0054364  ...  0.02957179  0.25112832\n",
      "   0.322736  ]], shape=(8, 768), dtype=float32)\n"
     ]
    }
   ],
   "source": [
    "batch_size = 32\n",
    "batched_dataset = tensor_dataset.batch(batch_size)\n",
    "\n",
    "# Example: Iterate through the batches in the dataset\n",
    "for batch in batched_dataset:\n",
    "    print(batch)"
   ]
  }
 ],
 "metadata": {
  "kernelspec": {
   "display_name": "hcv-gt24-env",
   "language": "python",
   "name": "python3"
  },
  "language_info": {
   "codemirror_mode": {
    "name": "ipython",
    "version": 3
   },
   "file_extension": ".py",
   "mimetype": "text/x-python",
   "name": "python",
   "nbconvert_exporter": "python",
   "pygments_lexer": "ipython3",
   "version": "3.11.4"
  }
 },
 "nbformat": 4,
 "nbformat_minor": 2
}
